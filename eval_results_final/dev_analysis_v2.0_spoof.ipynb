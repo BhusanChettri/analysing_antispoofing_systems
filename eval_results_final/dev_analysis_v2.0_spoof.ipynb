{
 "cells": [
  {
   "cell_type": "markdown",
   "metadata": {},
   "source": [
    "# Analysing Spoofed files in Eval set - version 2.0 dataset"
   ]
  },
  {
   "cell_type": "code",
   "execution_count": 1,
   "metadata": {
    "collapsed": true
   },
   "outputs": [],
   "source": [
    "import numpy as np\n",
    "import matplotlib.pyplot as plt\n",
    "from IPython.display import Image\n",
    "\n",
    "%matplotlib inline"
   ]
  },
  {
   "cell_type": "code",
   "execution_count": 2,
   "metadata": {
    "collapsed": true
   },
   "outputs": [],
   "source": [
    "# Load the prediction file\n",
    "# Predictions file that has three columns: genuin, spoofed prob and log likehood ratio\n",
    "\n",
    "pred_file='model_3sec_relu_0.5_run8/predictions/eval_prediction.txt'\n",
    "new_pred_file = 'model_3sec_relu_0.5_run8/predictions/eval_prediction_with_index.txt'"
   ]
  },
  {
   "cell_type": "code",
   "execution_count": 3,
   "metadata": {},
   "outputs": [
    {
     "name": "stdout",
     "output_type": "stream",
     "text": [
      "13296 0.99971 0.000289742 8.14623\n",
      "13297 0.714206 0.285794 0.915902\n",
      "13298 0.979049 0.0209506 3.84442\n",
      "13299 0.997787 0.00221326 6.11107\n",
      "13300 0.906844 0.0931564 2.27569\n",
      "13301 0.000815822 0.999184 -7.1105\n",
      "13302 0.271402 0.728598 -0.98752\n",
      "13303 0.998507 0.00149273 6.50565\n",
      "13304 0.065963 0.934037 -2.65042\n",
      "13305 0.30818 0.69182 -0.808642\n"
     ]
    }
   ],
   "source": [
    "%%bash\n",
    "\n",
    "cat model_3sec_relu_0.5_run8/predictions/eval_prediction_with_index.txt | tail"
   ]
  },
  {
   "cell_type": "code",
   "execution_count": 4,
   "metadata": {
    "collapsed": true
   },
   "outputs": [],
   "source": [
    "# Separate out predictions of genuine and spoofed files\n",
    "# Eval set set has first 1298 as genuine and remaining 12008 are spoofed\n",
    "# This is based on the protocal file I created which was used during training and feature extraction\n",
    "\n",
    "all_predictions = []\n",
    "all_gens = []\n",
    "all_spoofs = []\n",
    "\n",
    "with open(new_pred_file) as f:\n",
    "    all_predictions = [line.strip() for line in f]\n",
    "    \n",
    "all_gen_predictions = all_predictions[:1298]                 \n",
    "all_spf_predictions = all_predictions[1298:]                 "
   ]
  },
  {
   "cell_type": "code",
   "execution_count": 5,
   "metadata": {},
   "outputs": [
    {
     "name": "stdout",
     "output_type": "stream",
     "text": [
      "1298\n",
      "12008\n"
     ]
    }
   ],
   "source": [
    "print(len(all_gen_predictions))\n",
    "print(len(all_spf_predictions))"
   ]
  },
  {
   "cell_type": "code",
   "execution_count": 7,
   "metadata": {},
   "outputs": [
    {
     "name": "stdout",
     "output_type": "stream",
     "text": [
      "1679\n"
     ]
    }
   ],
   "source": [
    "# Collect all spoofed files for which spoof class got probability > 90%\n",
    "# the strongly correctly classified cases\n",
    "\n",
    "fname='index_file_list/allSpoofIndexList_TP.txt'\n",
    "count=0\n",
    "splitIndex = 2                   # 1 for genuine and 2 for spoofed (the third column)\n",
    "predList = all_spf_predictions   # use all_spf_predictions for spoofed case\n",
    "\n",
    "#print(len(predList))\n",
    "\n",
    "with open(fname,'w') as f2:\n",
    "    for items in predList:\n",
    "        prob = items.strip().split(' ')[splitIndex]   \n",
    "        if float(prob) > 0.9:\n",
    "            #print(items)\n",
    "            count+=1\n",
    "            f2.write(items+'\\n')            \n",
    "print(count)\n"
   ]
  },
  {
   "cell_type": "code",
   "execution_count": 8,
   "metadata": {},
   "outputs": [
    {
     "name": "stdout",
     "output_type": "stream",
     "text": [
      "1679\n"
     ]
    }
   ],
   "source": [
    "%%bash\n",
    "cat index_file_list/allSpoofIndexList_TP.txt | wc -l"
   ]
  },
  {
   "cell_type": "markdown",
   "metadata": {},
   "source": [
    "## Total examples we use = 1679 (with spoofed class prob>90%)"
   ]
  },
  {
   "cell_type": "markdown",
   "metadata": {},
   "source": [
    "***Point***\n",
    "> We select all those spoofed files that got spoofed probability > 90%. We have 733 spoofed files that we can use SLIME to get a reliable estimate for what the CNN might have learned about the spoofed class. Note that when running slime, for many files the SLIME returns no explanation coz we are only returning positive instance explanation. Thus we remove those files.\n",
    "\n",
    "> Therefore, these spoofed files have been classified with > 90% probability of being spoofed"
   ]
  },
  {
   "cell_type": "markdown",
   "metadata": {
    "collapsed": true
   },
   "source": [
    "## Analysing Time: The top two components from SLIME - True positive Spoofed case\n",
    "\n",
    "Note, that under time analysis, we have cut our input spectrogram into 10 different temporal components/segments, where each segment correpsonds to\n",
    "\n",
    "> ***300 mili seconds***"
   ]
  },
  {
   "cell_type": "code",
   "execution_count": 46,
   "metadata": {},
   "outputs": [
    {
     "data": {
      "image/png": "[encoded data removed]",
      "text/plain": [
       "<IPython.core.display.Image object>"
      ]
     },
     "execution_count": 46,
     "metadata": {},
     "output_type": "execute_result"
    }
   ],
   "source": [
    "# Show how we cut the spectrogram in timexfrequency\n",
    "\n",
    "Image(\"time.png\")"
   ]
  },
  {
   "cell_type": "code",
   "execution_count": 52,
   "metadata": {
    "collapsed": true
   },
   "outputs": [],
   "source": [
    "# Get temporal explanation from slime\n",
    "\n",
    "file = 'top_two_explanation_indices/time/spoof_TP_box.txt'  # with signal box for spectrogram"
   ]
  },
  {
   "cell_type": "code",
   "execution_count": 53,
   "metadata": {},
   "outputs": [
    {
     "name": "stdout",
     "output_type": "stream",
     "text": [
      "0 -999\n",
      "0 -999\n",
      "0 -999\n",
      "0 8\n",
      "0 -999\n",
      "0 -999\n",
      "0 -999\n",
      "0 1\n",
      "0 -999\n",
      "0 -999\n"
     ]
    }
   ],
   "source": [
    "%%bash\n",
    "cat top_two_explanation_indices/time/spoof_TP_box.txt  | head"
   ]
  },
  {
   "cell_type": "code",
   "execution_count": 54,
   "metadata": {
    "collapsed": true
   },
   "outputs": [],
   "source": [
    "def get_top1_top2_list(file):\n",
    "    with open(file) as f:\n",
    "        top1 = [int(line.strip().split(' ')[0]) for line in f]\n",
    "    with open(file) as f:  \n",
    "        top2 = [int(line.strip().split(' ')[1]) for line in f if int(line.strip().split(' ')[1]) != -999]\n",
    "    return top1, top2    "
   ]
  },
  {
   "cell_type": "code",
   "execution_count": 55,
   "metadata": {
    "collapsed": true
   },
   "outputs": [],
   "source": [
    "# Get top1 and top2 in seperate list\n",
    "top1, top2 = get_top1_top2_list(file)"
   ]
  },
  {
   "cell_type": "code",
   "execution_count": 56,
   "metadata": {},
   "outputs": [
    {
     "name": "stdout",
     "output_type": "stream",
     "text": [
      "[8, 1, 8, 8, 0, 8, 8, 8, 8, 1, 0, 6, 9, 9, 1, 9, 0, 8, 7, 9, 5, 8, 8, 7, 9, 8, 8, 9, 6, 7, 9, 6, 8, 8, 8, 6, 7, 8, 0, 1, 1, 8, 1, 9, 8, 7, 1, 9, 1, 8, 9, 7, 7, 8, 7, 1, 1, 8, 1, 8, 8, 7, 6, 9, 9, 0, 6, 9, 9, 7, 5, 8, 1, 7, 8, 8, 8, 0, 1, 1, 8, 7, 1, 9, 9, 1, 8, 8, 1, 8, 8, 1, 1, 1, 7, 1, 8, 8, 1, 1, 9, 1, 2, 1, 8, 1, 1, 1, 0, 8, 0, 1, 8, 0, 1, 1, 7, 6, 1, 1, 0, 1, 8, 1, 8, 8, 1, 1, 0, 1, 6, 1, 0, 7, 1, 1, 1, 0, 0, 1, 8, 1, 1, 1, 6, 1, 1, 1, 0, 1, 1, 1, 1, 1, 0, 1, 1, 1, 8, 1, 7, 1, 1, 1, 1, 8, 1, 8, 8, 1, 1, 1, 1, 1, 7, 1, 8, 1, 8, 1, 1, 1, 1, 1, 1, 8, 9, 8, 7, 8, 9, 8, 1, 6, 1, 1, 7, 7, 9, 1, 9, 1, 9, 6, 9, 8, 1, 1, 1, 9, 8, 9, 7, 1, 1, 1, 9, 1, 8, 7, 1, 1, 1, 1, 0, 6, 1, 9, 8, 1, 1, 1, 1, 1, 8, 8, 7, 1, 1, 1, 1, 8, 1, 1, 8, 8, 8, 6, 1, 7, 1, 1, 1, 8, 1, 1, 7, 6, 1, 6, 7, 1, 1, 1, 6, 1, 1, 7, 1, 1, 1, 8, 1, 1, 1, 1, 1, 2, 1, 1, 9, 7, 1, 8, 1]\n"
     ]
    }
   ],
   "source": [
    "print(top2)"
   ]
  },
  {
   "cell_type": "code",
   "execution_count": 57,
   "metadata": {},
   "outputs": [
    {
     "name": "stdout",
     "output_type": "stream",
     "text": [
      "726\n",
      "285\n"
     ]
    }
   ],
   "source": [
    "print(len(top1))\n",
    "print(len(top2))"
   ]
  },
  {
   "cell_type": "code",
   "execution_count": 58,
   "metadata": {
    "collapsed": true
   },
   "outputs": [],
   "source": [
    "def get_counts(datalist, key):\n",
    "    count=0\n",
    "    for i in range(0,len(datalist)):\n",
    "        if datalist[i] == key:\n",
    "            count+=1\n",
    "    return count            "
   ]
  },
  {
   "cell_type": "code",
   "execution_count": 59,
   "metadata": {
    "collapsed": true
   },
   "outputs": [],
   "source": [
    "def print_component_distribution(comps, predList, order):\n",
    "    print('Printing component weigting distribution for Top:', order)\n",
    "    for i in comps:\n",
    "        print('Component ' + str(i) + ' : ' + str(get_counts(predList, i)))    "
   ]
  },
  {
   "cell_type": "markdown",
   "metadata": {},
   "source": []
  },
  {
   "cell_type": "code",
   "execution_count": 60,
   "metadata": {
    "collapsed": true
   },
   "outputs": [],
   "source": [
    "comps=[0,1,2,3,4,5,6,7,8,9]    # In time we have 10 segments/components"
   ]
  },
  {
   "cell_type": "code",
   "execution_count": 61,
   "metadata": {},
   "outputs": [
    {
     "name": "stdout",
     "output_type": "stream",
     "text": [
      "Printing component weigting distribution for Top: 1\n",
      "Component 0 : 703\n",
      "Component 1 : 13\n",
      "Component 2 : 0\n",
      "Component 3 : 0\n",
      "Component 4 : 0\n",
      "Component 5 : 0\n",
      "Component 6 : 0\n",
      "Component 7 : 4\n",
      "Component 8 : 6\n",
      "Component 9 : 0\n"
     ]
    }
   ],
   "source": [
    "# Print distribution on top1\n",
    "order = 1\n",
    "print_component_distribution(comps, top1, order)"
   ]
  },
  {
   "cell_type": "markdown",
   "metadata": {},
   "source": [
    "### Using the top1 components - given by SLIME (Time segmentation)\n",
    "\n",
    "> With correct indexing **we got 733/950 spoofed files with 90% probability**. SLIME returned 726 top1 positive explanation. Out of these 726 files we find component 0 to be higly dominating. This strongly confirms our findings:\n",
    "\n",
    "    Component 0 : 703\n",
    "    Component 1 : 13\n",
    "    Component 2 : 0\n",
    "    Component 3 : 0\n",
    "    Component 4 : 0\n",
    "    Component 5 : 0\n",
    "    Component 6 : 0\n",
    "    Component 7 : 4\n",
    "    Component 8 : 6\n",
    "    Component 9 : 0\n",
    "\n",
    "> *** Earlier when we were doing mistake (indexing issues) Using Signal box and creating new spectrograms***\n",
    "\n",
    "    Component 0 : 401\n",
    "    Component 1 : 10\n",
    "    Component 2 : 0\n",
    "    Component 3 : 0\n",
    "    Component 4 : 0\n",
    "    Component 5 : 0\n",
    "    Component 6 : 0\n",
    "    Component 7 : 1\n",
    "    Component 8 : 5\n",
    "    Component 9 : 0\n",
    "\n",
    "    "
   ]
  },
  {
   "cell_type": "markdown",
   "metadata": {},
   "source": [
    "*** Observation ***\n",
    "> Top1 predictions favours the **first 300ms**. We get 703 votes (out of 733) from slime saying that it is looking at first 300 ms for spoofed class."
   ]
  },
  {
   "cell_type": "markdown",
   "metadata": {},
   "source": [
    "# Pick 5 audio files for hearing"
   ]
  },
  {
   "cell_type": "code",
   "execution_count": 62,
   "metadata": {
    "collapsed": true
   },
   "outputs": [],
   "source": [
    "#random_5_ids = [406,358,924,790,877]   # Spoof True positive, >90% probability\n",
    "#add 1 to each to access correct file index in real world\n",
    "\n",
    "#random_5_ids = [407,359,925,791,878]   # Spoof True positive, >90% probability\n",
    "#base='/homes/bc305/myphd/datasets/ASVSpoof2017_v2.0/ASVspoof2017_V2_dev/'"
   ]
  },
  {
   "cell_type": "code",
   "execution_count": 63,
   "metadata": {
    "collapsed": true
   },
   "outputs": [],
   "source": [
    "%%bash\n",
    "#cp /homes/bc305/myphd/datasets/ASVSpoof2017_v2.0/ASVspoof2017_V2_dev/D_1000878.wav audio_files_hearing/spoof_TP/\n",
    "\n",
    "#ls audio_files_hearing/spoof_TP/"
   ]
  },
  {
   "cell_type": "code",
   "execution_count": null,
   "metadata": {
    "collapsed": true
   },
   "outputs": [],
   "source": []
  },
  {
   "cell_type": "markdown",
   "metadata": {
    "collapsed": true
   },
   "source": [
    "## Analysing Freq: The top two components from SLIME - True positive Spoofed\n",
    "\n",
    "Note, that under frequency analysis, we have cut our input spectrogram into 8 different frequency components/segments, where each segment correpsonds to\n",
    "\n",
    "> ***1000 Hz frequency***"
   ]
  },
  {
   "cell_type": "code",
   "execution_count": 64,
   "metadata": {},
   "outputs": [
    {
     "data": {
      "image/png": "[encoded data removed]",
      "text/plain": [
       "<IPython.core.display.Image object>"
      ]
     },
     "execution_count": 64,
     "metadata": {},
     "output_type": "execute_result"
    }
   ],
   "source": [
    "# Show how we cut the spectrogram in timexfrequency\n",
    "\n",
    "Image(\"frequency.png\")"
   ]
  },
  {
   "cell_type": "code",
   "execution_count": 65,
   "metadata": {
    "collapsed": true
   },
   "outputs": [],
   "source": [
    "# Get explanation from SLIME\n",
    "\n",
    "file = 'top_two_explanation_indices/freq/spoof_TP_box.txt'   # signal box -new specs"
   ]
  },
  {
   "cell_type": "code",
   "execution_count": 67,
   "metadata": {},
   "outputs": [
    {
     "name": "stdout",
     "output_type": "stream",
     "text": [
      "0 3\n",
      "3 0\n",
      "0 3\n",
      "3 0\n",
      "0 3\n",
      "0 3\n",
      "3 0\n",
      "3 0\n",
      "3 0\n",
      "3 0\n"
     ]
    }
   ],
   "source": [
    "%%bash\n",
    "cat 'top_two_explanation_indices/freq/spoof_TP_box.txt' | head\n"
   ]
  },
  {
   "cell_type": "code",
   "execution_count": 68,
   "metadata": {
    "collapsed": true
   },
   "outputs": [],
   "source": [
    "# Get top1 and top2 in seperate list\n",
    "top1, top2 = get_top1_top2_list(file)"
   ]
  },
  {
   "cell_type": "code",
   "execution_count": 69,
   "metadata": {},
   "outputs": [
    {
     "name": "stdout",
     "output_type": "stream",
     "text": [
      "733\n",
      "725\n"
     ]
    }
   ],
   "source": [
    "print(len(top1))\n",
    "print(len(top2))"
   ]
  },
  {
   "cell_type": "markdown",
   "metadata": {},
   "source": [
    "## Top 1 component distribution - Frequency"
   ]
  },
  {
   "cell_type": "code",
   "execution_count": 71,
   "metadata": {
    "collapsed": true
   },
   "outputs": [],
   "source": [
    "comps = [0,1,2,3,4,5,6,7]   # in Frequency we have 8 components"
   ]
  },
  {
   "cell_type": "code",
   "execution_count": 72,
   "metadata": {},
   "outputs": [
    {
     "name": "stdout",
     "output_type": "stream",
     "text": [
      "Printing component weigting distribution for Top: 1\n",
      "Component 0 : 85\n",
      "Component 1 : 3\n",
      "Component 2 : 0\n",
      "Component 3 : 528\n",
      "Component 4 : 0\n",
      "Component 5 : 86\n",
      "Component 6 : 31\n",
      "Component 7 : 0\n"
     ]
    }
   ],
   "source": [
    "# Print distribution on top1\n",
    "\n",
    "order = 1\n",
    "print_component_distribution(comps, top1, order)"
   ]
  },
  {
   "cell_type": "markdown",
   "metadata": {},
   "source": [
    "> With corrected indexing and using proper spoofed files to generate explanation: out of 733 top 90% probability files, 528 files vote for Component 3 that belong to frequency 3000-4000 Hz. \n",
    "\n",
    "    Component 0 : 85\n",
    "    Component 1 : 3\n",
    "    Component 2 : 0\n",
    "    Component 3 : 528\n",
    "    Component 4 : 0\n",
    "    Component 5 : 86\n",
    "    Component 6 : 31\n",
    "    Component 7 : 0\n",
    "\n",
    "\n",
    "> (with indexing mistake) Using new spectrograms, ***with signal box***\n",
    "\n",
    "    Component 0 : 158\n",
    "    Component 1 : 5\n",
    "    Component 2 : 9\n",
    "    Component 3 : 415\n",
    "    Component 4 : 0\n",
    "    Component 5 : 29\n",
    "    Component 6 : 15\n",
    "    Component 7 : 0\n",
    "\n"
   ]
  },
  {
   "cell_type": "code",
   "execution_count": 76,
   "metadata": {
    "collapsed": true
   },
   "outputs": [],
   "source": [
    "# Plot the distribution\n",
    "#plt.plot(top1,'.')"
   ]
  },
  {
   "cell_type": "markdown",
   "metadata": {},
   "source": [
    "***Observation***\n",
    "> We see that under frequency analysis, the top explanation appears to be favouring frequency bin 3000-4000Hz for component 3. This is different from what we saw for the genuine class (that favours highly for component 8, 7000-8000Hz)\n",
    "\n",
    "***Out of total 733 spoofed files***\n",
    " 1. 528 belongs to 4000Hz\n",
    " "
   ]
  },
  {
   "cell_type": "markdown",
   "metadata": {},
   "source": [
    "**Observation: **\n",
    "> In SLIME code, as I was returning two indices, for spoofed files SLIME was only returning positive index, which in many cases was only one, therefore, I put -999 as the second value (just not to break the code and make changes)\n",
    "\n",
    " * It give high importance to component 0, 3\n",
    "\n"
   ]
  },
  {
   "cell_type": "markdown",
   "metadata": {},
   "source": [
    "# Pick 5 audio files for hearing"
   ]
  },
  {
   "cell_type": "code",
   "execution_count": 74,
   "metadata": {
    "collapsed": true
   },
   "outputs": [],
   "source": [
    "#random_5_ids = [891,153,271,390,647]   # Spoof True positive, >90% probability\n",
    "#add 1 to each to access correct file index in real world\n",
    "\n",
    "#random_5_ids = [892,154,272,391,648]   # Spoof True positive, >90% probability\n",
    "#base='/homes/bc305/myphd/datasets/ASVSpoof2017_v2.0/ASVspoof2017_V2_dev/'"
   ]
  },
  {
   "cell_type": "code",
   "execution_count": 75,
   "metadata": {
    "collapsed": true
   },
   "outputs": [],
   "source": [
    "%%bash\n",
    "#cp /homes/bc305/myphd/datasets/ASVSpoof2017_v2.0/ASVspoof2017_V2_dev/D_1000648.wav audio_files_hearing/spoof_TP/\n",
    "\n",
    "#ls audio_files_hearing/spoof_TP/"
   ]
  },
  {
   "cell_type": "markdown",
   "metadata": {},
   "source": [
    "# Overall Summary from this study (considering only top1 explanation)"
   ]
  },
  {
   "cell_type": "markdown",
   "metadata": {},
   "source": [
    "**Time segmentation**\n",
    "\n",
    ">We segmented spectrogram into 10 super-samples (components), each of 1000ms, and ran SLIME to generate explanations using 5000 samples. We find that among 655 True-positive spoofed files (with probability > 90%), the highest influence is shown for **component 0** that corresponds to **first 300ms**. We get 234 votes from slime.\n",
    "\n",
    "\n",
    "**Frequency segmentation**\n",
    "> We segmented the spectrograms into 8 different frequency bins, each corresponding to 1000Hz and ran SLIME. In this case, we see that the top explanation appears to be favouring frequency bin 7000Hz. The next two frequency information that influences are 4000Hz and 1000Hz.\n",
    "\n",
    "\n",
    "> ***NOTE: In genuine case we got highest vote for 8000Hz bin***\n",
    "\n",
    "\n",
    "** Correlation between time,frequency **\n",
    "\n",
    "> Under time analysis we found that the model is highly influenced for first 300ms signal. This relates to the fact that the model seem to exploit information related to DTMF tone that was used for concatenating the original RedDots genuine signal to create spoofed counterparts. SLIME seems to explain this very fact, as we find 234 votes for the spoofed signals with probability greater than 90%. We may still want to double check this fact by just taking the spoofed files with highest probability !\n",
    "\n",
    "> Next interesting observation we find is by doing frequency analysis, we see that spoofed class is looking at the high frequency\n",
    "\n",
    "> To write properly !!\n",
    "\n",
    " "
   ]
  },
  {
   "cell_type": "code",
   "execution_count": null,
   "metadata": {
    "collapsed": true
   },
   "outputs": [],
   "source": []
  },
  {
   "cell_type": "code",
   "execution_count": null,
   "metadata": {
    "collapsed": true
   },
   "outputs": [],
   "source": []
  }
 ],
 "metadata": {
  "kernelspec": {
   "display_name": "Python 3",
   "language": "python",
   "name": "python3"
  },
  "language_info": {
   "codemirror_mode": {
    "name": "ipython",
    "version": 3
   },
   "file_extension": ".py",
   "mimetype": "text/x-python",
   "name": "python",
   "nbconvert_exporter": "python",
   "pygments_lexer": "ipython3",
   "version": "3.6.1"
  }
 },
 "nbformat": 4,
 "nbformat_minor": 2
}
