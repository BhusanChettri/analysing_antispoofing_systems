{
 "cells": [
  {
   "cell_type": "markdown",
   "metadata": {
    "collapsed": true
   },
   "source": [
    "# ASVspoof 2017 v2.0 evaluation dataset meta-data analysis\n",
    "\n",
    "> Color code specifies the level of difficulty\n",
    " 1. Green indicates the easiest case to be detected by the system\n",
    " 1. Yellow - medium level\n",
    " 1. Red - difficult level"
   ]
  },
  {
   "cell_type": "markdown",
   "metadata": {},
   "source": [
    "## Environment ID List :\n",
    "\n",
    "1. Red color - the hardest ones (Total = 5)\n",
    "\n",
    "['E01','E23','E24','E25','E26']\n",
    "\n",
    "2. Green color - the easiest to detect as it is the noisy ones: total = 3\n",
    "\n",
    "['E02','E03','E06']\n",
    "\n",
    "3. Yello color - the medium : total = 18\n",
    "\n",
    "['E04','E05','E07','E08','E09','E10','E11','E12','E13','E14','E15','E16','E17','E18','E19','E20','E21','E22']\n",
    "    "
   ]
  },
  {
   "cell_type": "code",
   "execution_count": 4,
   "metadata": {
    "collapsed": true
   },
   "outputs": [],
   "source": [
    "yellowE = ['E04','E05','E07','E08','E09','E10','E11','E12','E13','E14','E15','E16','E17','E18','E19','E20','E21','E22']"
   ]
  },
  {
   "cell_type": "code",
   "execution_count": 5,
   "metadata": {
    "collapsed": true
   },
   "outputs": [],
   "source": [
    "greenE = ['E02','E03','E06']"
   ]
  },
  {
   "cell_type": "code",
   "execution_count": 6,
   "metadata": {
    "collapsed": true
   },
   "outputs": [],
   "source": [
    "redE = ['E01','E23','E24','E25','E26']"
   ]
  },
  {
   "cell_type": "code",
   "execution_count": 8,
   "metadata": {},
   "outputs": [
    {
     "name": "stdout",
     "output_type": "stream",
     "text": [
      "18\n"
     ]
    }
   ],
   "source": [
    "print(len(yellowE))"
   ]
  },
  {
   "cell_type": "markdown",
   "metadata": {},
   "source": [
    "## Playback devices"
   ]
  },
  {
   "cell_type": "markdown",
   "metadata": {},
   "source": [
    "> Red color, total = 12\n",
    "\n",
    "['P03','P04','P05','P07','P09','P13','P15','P22','P23','P24','P25','P26']\n",
    "\n",
    "> Yellow color, total = 5\n",
    "\n",
    "['P01','P02','P12','P14','P19']\n",
    "\n",
    "> Green color, total = 9\n",
    "\n",
    "['P06','P08','P10','P11','P16','P17','P18','P20','P21']"
   ]
  },
  {
   "cell_type": "code",
   "execution_count": 9,
   "metadata": {
    "collapsed": true
   },
   "outputs": [],
   "source": [
    "redP = ['P03','P04','P05','P07','P09','P13','P15','P22','P23','P24','P25','P26']\n",
    "yellowP = ['P01','P02','P12','P14','P19']\n",
    "greenP = ['P06','P08','P10','P11','P16','P17','P18','P20','P21']"
   ]
  },
  {
   "cell_type": "code",
   "execution_count": 10,
   "metadata": {},
   "outputs": [
    {
     "name": "stdout",
     "output_type": "stream",
     "text": [
      "12\n",
      "5\n",
      "9\n"
     ]
    }
   ],
   "source": [
    "print(len(redP))\n",
    "print(len(yellowP))\n",
    "print(len(greenP))"
   ]
  },
  {
   "cell_type": "markdown",
   "metadata": {},
   "source": [
    "## Recording device\n",
    "\n",
    "> Red color, total = 13\n",
    "\n",
    "['R01','R05','R06','R08','R09','R10','R11','R16','R21','R22','R23','R24','R25']\n",
    "\n",
    "\n",
    "> Yello color, total = 02\n",
    "\n",
    "['R03','R15']\n",
    "\n",
    "> Green color, total = 10\n",
    "\n",
    "['R02','R04','R07','R12','R13','R14','R17','R18','R19','R20']"
   ]
  },
  {
   "cell_type": "code",
   "execution_count": 11,
   "metadata": {
    "collapsed": true
   },
   "outputs": [],
   "source": [
    "redR = ['R01','R05','R06','R08','R09','R10','R11','R16','R21','R22','R23','R24','R25']\n",
    "yellowR = ['R03','R15']\n",
    "greenR = ['R02','R04','R07','R12','R13','R14','R17','R18','R19','R20']"
   ]
  },
  {
   "cell_type": "code",
   "execution_count": 12,
   "metadata": {},
   "outputs": [
    {
     "name": "stdout",
     "output_type": "stream",
     "text": [
      "13\n",
      "2\n",
      "10\n"
     ]
    }
   ],
   "source": [
    "print(len(redR))\n",
    "print(len(yellowR))\n",
    "print(len(greenR))"
   ]
  },
  {
   "cell_type": "markdown",
   "metadata": {},
   "source": [
    "# Replay configurations in the evaluation set"
   ]
  },
  {
   "cell_type": "markdown",
   "metadata": {},
   "source": [
    "The evaluation dataset has total of 57 replay configurations. Please refer to the Hector odyssey paper to see more details on this."
   ]
  },
  {
   "cell_type": "code",
   "execution_count": 17,
   "metadata": {
    "collapsed": true
   },
   "outputs": [],
   "source": [
    "evalProt = 'protocol_V2/ASVspoof2017_V2_eval.trl.txt'"
   ]
  },
  {
   "cell_type": "code",
   "execution_count": 27,
   "metadata": {},
   "outputs": [
    {
     "name": "stdout",
     "output_type": "stream",
     "text": [
      "['E19 P22 R22', 'E14 P03 R04', 'E12 P16 R11', 'E18 P05 R03', 'E11 P26 R16', 'E20 P10 R15', 'E07 P21 R18', 'E15 P19 R04', 'E17 P12 R10', 'E02 P21 R25', 'E01 P15 R13', 'E08 P21 R25', 'E08 P20 R25', 'E13 P14 R04', 'E07 P21 R14', 'E13 P14 R10', 'E21 P03 R01', 'E07 P20 R25', 'E26 P24 R24', 'E08 P20 R14', 'E22 P03 R04', 'E25 P13 R08', 'E24 P23 R23', 'E12 P17 R11', 'E07 P20 R19', 'E10 P26 R16', 'E16 P07 R06', 'E13 P14 R17', 'E17 P12 R04', 'E13 P14 R09', 'E17 P12 R09', 'E02 P20 R19', 'E07 P20 R14', 'E02 P20 R14', 'E18 P22 R21', 'E10 P25 R16', 'E07 P21 R25', 'E08 P21 R18', 'E23 P15 R13', 'E16 P07 R05', 'E06 P09 R05', 'E14 P03 R17', 'E06 P09 R07', 'E17 P12 R17', 'E15 P19 R20', 'E22 P04 R17', 'E02 P21 R18', 'E08 P21 R14', 'E09 P18 R12', 'E02 P20 R25', 'E06 P09 R06', 'E03 P08 R20', 'E02 P21 R14', 'E08 P20 R19', 'E18 P11 R12', 'E18 P18 R12', 'E16 P07 R07']\n",
      "57\n"
     ]
    }
   ],
   "source": [
    "protList = []\n",
    "with open(evalProt) as f:\n",
    "    for line in f:\n",
    "        rc = line.strip().split(' ')[4] + ' '+  line.strip().split(' ')[5] + ' ' + line.strip().split(' ')[6]\n",
    "        if rc not in protList and rc != '- - -':\n",
    "            protList.append(rc)\n",
    "    print(protList)\n",
    "    print(len(protList))        "
   ]
  },
  {
   "cell_type": "code",
   "execution_count": 28,
   "metadata": {},
   "outputs": [
    {
     "name": "stdout",
     "output_type": "stream",
     "text": [
      "E19 P22 R22\n",
      "E14 P03 R04\n",
      "E12 P16 R11\n",
      "E18 P05 R03\n",
      "E11 P26 R16\n",
      "E20 P10 R15\n",
      "E07 P21 R18\n",
      "E15 P19 R04\n",
      "E17 P12 R10\n",
      "E02 P21 R25\n",
      "E01 P15 R13\n",
      "E08 P21 R25\n",
      "E08 P20 R25\n",
      "E13 P14 R04\n",
      "E07 P21 R14\n",
      "E13 P14 R10\n",
      "E21 P03 R01\n",
      "E07 P20 R25\n",
      "E26 P24 R24\n",
      "E08 P20 R14\n",
      "E22 P03 R04\n",
      "E25 P13 R08\n",
      "E24 P23 R23\n",
      "E12 P17 R11\n",
      "E07 P20 R19\n",
      "E10 P26 R16\n",
      "E16 P07 R06\n",
      "E13 P14 R17\n",
      "E17 P12 R04\n",
      "E13 P14 R09\n",
      "E17 P12 R09\n",
      "E02 P20 R19\n",
      "E07 P20 R14\n",
      "E02 P20 R14\n",
      "E18 P22 R21\n",
      "E10 P25 R16\n",
      "E07 P21 R25\n",
      "E08 P21 R18\n",
      "E23 P15 R13\n",
      "E16 P07 R05\n",
      "E06 P09 R05\n",
      "E14 P03 R17\n",
      "E06 P09 R07\n",
      "E17 P12 R17\n",
      "E15 P19 R20\n",
      "E22 P04 R17\n",
      "E02 P21 R18\n",
      "E08 P21 R14\n",
      "E09 P18 R12\n",
      "E02 P20 R25\n",
      "E06 P09 R06\n",
      "E03 P08 R20\n",
      "E02 P21 R14\n",
      "E08 P20 R19\n",
      "E18 P11 R12\n",
      "E18 P18 R12\n",
      "E16 P07 R07\n"
     ]
    }
   ],
   "source": [
    "for i in protList:\n",
    "    print(i)"
   ]
  },
  {
   "cell_type": "markdown",
   "metadata": {},
   "source": [
    "RC48 E19 P22 R22 1200\n",
    "RC53 E14 P03 R04 181\n",
    "RC22 E12 P16 R11 183\n",
    "RC29 E18 P05 R03 454\n",
    "RC42 E11 P26 R16 153\n",
    "RC23 E20 P10 R15 1138\n",
    "RC14 E07 P21 R18 279\n",
    "RC37 E15 P19 R04 48\n",
    "RC26 E17 P12 R10 184\n",
    "RC08 E02 P21 R25 98\n",
    "RC50 E01 P15 R13 748\n",
    "RC03 E08 P21 R25 122\n",
    "RC04 E08 P20 R25 102\n",
    "RC33 E13 P14 R04 183\n",
    "RC20 E07 P21 R14 275\n",
    "RC44 E13 P14 R10 179\n",
    "RC28 E21 P03 R01 240\n",
    "RC09 E07 P20 R25 244\n",
    "RC55 E26 P24 R24 178\n",
    "RC05 E08 P20 R14 114\n",
    "RC39 E22 P03 R04 183\n",
    "RC56 E25 P13 R08 182\n",
    "RC57 E24 P23 R23 183\n",
    "RC38 E12 P17 R11 184\n",
    "RC11 E07 P20 R19 272\n",
    "E10 P26 R16\n",
    "E16 P07 R06\n",
    "E13 P14 R17\n",
    "E17 P12 R04\n",
    "E13 P14 R09\n",
    "E17 P12 R09\n",
    "E02 P20 R19\n",
    "E07 P20 R14\n",
    "E02 P20 R14\n",
    "E18 P22 R21\n",
    "E10 P25 R16\n",
    "E07 P21 R25\n",
    "E08 P21 R18\n",
    "E23 P15 R13\n",
    "E16 P07 R05\n",
    "E06 P09 R05\n",
    "E14 P03 R17\n",
    "E06 P09 R07\n",
    "E17 P12 R17\n",
    "E15 P19 R20\n",
    "E22 P04 R17\n",
    "E02 P21 R18\n",
    "E08 P21 R14\n",
    "E09 P18 R12\n",
    "E02 P20 R25\n",
    "E06 P09 R06\n",
    "E03 P08 R20\n",
    "E02 P21 R14\n",
    "E08 P20 R19\n",
    "E18 P11 R12\n",
    "E18 P18 R12\n",
    "E16 P07 R07"
   ]
  },
  {
   "cell_type": "code",
   "execution_count": null,
   "metadata": {
    "collapsed": true
   },
   "outputs": [],
   "source": []
  },
  {
   "cell_type": "code",
   "execution_count": 30,
   "metadata": {
    "collapsed": true
   },
   "outputs": [],
   "source": [
    "import numpy as np\n",
    "import matplotlib.pyplot as plt\n",
    "val = np.random.rand(57)"
   ]
  },
  {
   "cell_type": "code",
   "execution_count": 31,
   "metadata": {},
   "outputs": [
    {
     "data": {
      "image/png": "[encoded data removed]",
      "text/plain": [
       "<matplotlib.figure.Figure at 0x7f7855eccf60>"
      ]
     },
     "metadata": {},
     "output_type": "display_data"
    }
   ],
   "source": [
    "plt.plot(val)\n",
    "plt.show()"
   ]
  },
  {
   "cell_type": "code",
   "execution_count": null,
   "metadata": {
    "collapsed": true
   },
   "outputs": [],
   "source": []
  }
 ],
 "metadata": {
  "kernelspec": {
   "display_name": "Python 3",
   "language": "python",
   "name": "python3"
  },
  "language_info": {
   "codemirror_mode": {
    "name": "ipython",
    "version": 3
   },
   "file_extension": ".py",
   "mimetype": "text/x-python",
   "name": "python",
   "nbconvert_exporter": "python",
   "pygments_lexer": "ipython3",
   "version": "3.6.1"
  }
 },
 "nbformat": 4,
 "nbformat_minor": 2
}
