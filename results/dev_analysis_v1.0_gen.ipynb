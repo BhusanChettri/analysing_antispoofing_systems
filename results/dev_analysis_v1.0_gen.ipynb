{
 "cells": [
  {
   "cell_type": "markdown",
   "metadata": {},
   "source": [
    "# Analysing Genuine files in dev set - version 1.0 dataset"
   ]
  },
  {
   "cell_type": "markdown",
   "metadata": {},
   "source": [
    "## TODO\n",
    "\n",
    " * Draw scatter plot of posteriors for our best CNN system to project the distribution of genuine and spoofed features\n",
    " * Do this for Development and evaluation set.\n",
    " * On Evaluation set you could do this plot seperately for different Replay configurations (total 57 will be too much though)"
   ]
  },
  {
   "cell_type": "markdown",
   "metadata": {},
   "source": [
    "# Summary of file list for spoofed and genuine files in Development set for analysis"
   ]
  },
  {
   "cell_type": "markdown",
   "metadata": {},
   "source": [
    "## 1) The top 10 genuine confident correctly classified files : high scores\n",
    "\n",
    "                               Gen prob     Spf Prob      Log Liklihood ratio\n",
    "    \n",
    "\n"
   ]
  },
  {
   "cell_type": "code",
   "execution_count": 144,
   "metadata": {
    "collapsed": true
   },
   "outputs": [],
   "source": [
    "import numpy as np\n",
    "import matplotlib.pyplot as plt\n",
    "from IPython.display import Image\n",
    "\n",
    "%matplotlib inline"
   ]
  },
  {
   "cell_type": "code",
   "execution_count": 145,
   "metadata": {
    "collapsed": true
   },
   "outputs": [],
   "source": [
    "# Load the prediction file\n",
    "# Predictions file that has three columns: genuin, spoofed prob and log likehood ratio\n",
    "\n",
    "pred_file='model_3sec_relu_0.5_run9/predictions/dev_prediction.txt'"
   ]
  },
  {
   "cell_type": "code",
   "execution_count": 146,
   "metadata": {
    "collapsed": true
   },
   "outputs": [],
   "source": [
    "all_predictions = []\n",
    "all_gens = []\n",
    "all_spoofs = []\n",
    "\n",
    "with open(pred_file) as f:\n",
    "    all_predictions = [line.strip() for line in f]\n",
    "    \n",
    "all_gen_predictions = all_predictions[:760]                    # first 760 files in dev are genuine\n",
    "all_spf_predictions = all_predictions[760:]                  # files from 761-1710 are spoofed examples"
   ]
  },
  {
   "cell_type": "code",
   "execution_count": 147,
   "metadata": {
    "collapsed": true
   },
   "outputs": [],
   "source": [
    "all_scores = []\n",
    "\n",
    "with open(pred_file) as f:\n",
    "    all_scores = [line.strip().split(' ')[2] for line in f]\n",
    "    \n",
    "all_gen_scores = all_scores[:760]\n",
    "all_spf_scores = all_scores[760:]"
   ]
  },
  {
   "cell_type": "code",
   "execution_count": 148,
   "metadata": {},
   "outputs": [
    {
     "name": "stdout",
     "output_type": "stream",
     "text": [
      "760\n",
      "950\n"
     ]
    }
   ],
   "source": [
    "print(len(all_gen_scores))\n",
    "print(len(all_spf_scores))"
   ]
  },
  {
   "cell_type": "markdown",
   "metadata": {},
   "source": [
    "### Sort the genuine indexes"
   ]
  },
  {
   "cell_type": "code",
   "execution_count": 149,
   "metadata": {
    "collapsed": true
   },
   "outputs": [],
   "source": [
    "gen_sort_index = np.argsort(all_gen_scores)\n",
    "gen_sort_index = gen_sort_index[::-1]        # reverse it in descending order"
   ]
  },
  {
   "cell_type": "code",
   "execution_count": 150,
   "metadata": {},
   "outputs": [
    {
     "name": "stdout",
     "output_type": "stream",
     "text": [
      "Total count =  734\n"
     ]
    }
   ],
   "source": [
    "# Get count of all genuine files that score > 0.5 and put it in a list with following format\n",
    "# file_idx genProb spfProb score\n",
    "\n",
    "fname='index_file_list/allGenIndexList_TP.txt'\n",
    "f=open(fname,'w')\n",
    "count=0\n",
    "for i in gen_sort_index:    #[0:10]:\n",
    "    score= all_gen_predictions[i].strip().split(' ')[2]\n",
    "    if float(score) > 0.5:\n",
    "        f.write((str(i) + ' ' + str(all_gen_predictions[i]) + '\\n'))        \n",
    "        count += 1\n",
    "print('Total count = ',count)\n",
    "f.close()"
   ]
  },
  {
   "cell_type": "markdown",
   "metadata": {},
   "source": [
    "## 1) Take the top 10 genuine confident correctly classified files - high scores\n",
    "\n",
    "                               Gen prob     Spf Prob      Log Liklihood ratio\n",
    "    \n",
    "       \n",
    "**** Note when accessing via list or array, index 575 should be called as 574       "
   ]
  },
  {
   "cell_type": "markdown",
   "metadata": {},
   "source": []
  },
  {
   "cell_type": "code",
   "execution_count": 151,
   "metadata": {},
   "outputs": [
    {
     "name": "stdout",
     "output_type": "stream",
     "text": [
      "Dev file index: 113 0.498099 0.501902 -0.00760597\n",
      "Dev file index: 31 0.497005 0.502994 -0.0119781\n",
      "Dev file index: 83 0.484129 0.515871 -0.0635039\n",
      "Dev file index: 12 0.438658 0.561342 -0.24661\n",
      "Dev file index: 283 0.438143 0.561857 -0.248701\n",
      "Dev file index: 89 0.418306 0.581694 -0.329731\n",
      "Dev file index: 91 0.390539 0.609461 -0.445047\n",
      "Dev file index: 282 0.386574 0.613426 -0.461736\n",
      "Dev file index: 101 0.373999 0.626001 -0.515101\n",
      "Dev file index: 199 0.369888 0.630112 -0.532699\n",
      "Dev file index: 515 0.318364 0.681636 -0.761301\n",
      "Dev file index: 285 0.292513 0.707487 -0.883209\n",
      "Dev file index: 517 0.286418 0.713581 -0.912843\n",
      "Dev file index: 90 0.218112 0.781888 -1.27671\n",
      "Dev file index: 289 0.118397 0.881603 -2.0077\n",
      "Dev file index: 284 0.107458 0.892542 -2.11697\n",
      "Dev file index: 290 0.0924305 0.90757 -2.28431\n",
      "Dev file index: 5 0.0818827 0.918117 -2.41704\n",
      "Dev file index: 82 0.0667096 0.93329 -2.63837\n",
      "Dev file index: 286 0.0622482 0.937752 -2.71236\n"
     ]
    }
   ],
   "source": [
    "top10_lowest = gen_sort_index[::-1]\n",
    "\n",
    "for i in top10_lowest[0:20]:\n",
    "    print('Dev file index: ' + str(i+1) + ' ' + str(all_gen_predictions[i]))    "
   ]
  },
  {
   "cell_type": "markdown",
   "metadata": {},
   "source": [
    "## 2) Take the top 10 genuine confidently misclassified files - low scores\n",
    "\n",
    "                                     Gen prob     Spf Prob      Log Liklihood ratio\n",
    "              \n",
    "               \n",
    "##### Note when accessing via list or array, index 113 should be called as 112                   "
   ]
  },
  {
   "cell_type": "markdown",
   "metadata": {
    "collapsed": true
   },
   "source": [
    "## Analysing Time: The top two components from SLIME - True positive Genuine case\n",
    "\n",
    "Note, that under time analysis, we have cut our input spectrogram into 10 different temporal components/segments, where each segment correpsonds to\n",
    "\n",
    "> ***300 mili seconds***"
   ]
  },
  {
   "cell_type": "code",
   "execution_count": 152,
   "metadata": {},
   "outputs": [
    {
     "data": {
      "image/png": "[encoded data removed]",
      "text/plain": [
       "<IPython.core.display.Image object>"
      ]
     },
     "execution_count": 152,
     "metadata": {},
     "output_type": "execute_result"
    }
   ],
   "source": [
    "# Show how we cut the spectrogram in timexfrequency\n",
    "\n",
    "Image(\"time.png\")"
   ]
  },
  {
   "cell_type": "code",
   "execution_count": 153,
   "metadata": {
    "collapsed": true
   },
   "outputs": [],
   "source": [
    "file = 'top_two_explanation_indices/time/gen_TP.txt'"
   ]
  },
  {
   "cell_type": "code",
   "execution_count": 154,
   "metadata": {
    "collapsed": true
   },
   "outputs": [],
   "source": [
    "def get_top1_top2_list(file):\n",
    "    with open(file) as f:\n",
    "        top1 = [int(line.strip().split(' ')[0]) for line in f]\n",
    "    with open(file) as f:  \n",
    "        top2 = [int(line.strip().split(' ')[1]) for line in f]\n",
    "    return top1, top2    "
   ]
  },
  {
   "cell_type": "code",
   "execution_count": 155,
   "metadata": {
    "collapsed": true
   },
   "outputs": [],
   "source": [
    "# Get top1 and top2 in seperate list\n",
    "top1, top2 = get_top1_top2_list(file)"
   ]
  },
  {
   "cell_type": "code",
   "execution_count": 156,
   "metadata": {},
   "outputs": [
    {
     "name": "stdout",
     "output_type": "stream",
     "text": [
      "734\n",
      "734\n"
     ]
    }
   ],
   "source": [
    "print(len(top1))\n",
    "print(len(top2))"
   ]
  },
  {
   "cell_type": "code",
   "execution_count": 157,
   "metadata": {
    "collapsed": true
   },
   "outputs": [],
   "source": [
    "def get_counts(datalist, key):\n",
    "    count=0\n",
    "    for i in range(0,len(datalist)):\n",
    "        if datalist[i] == key:\n",
    "            count+=1\n",
    "    return count            "
   ]
  },
  {
   "cell_type": "code",
   "execution_count": 158,
   "metadata": {
    "collapsed": true
   },
   "outputs": [],
   "source": [
    "def print_component_distribution(comps, predList, order):\n",
    "    print('Printing component weigting distribution for Top:', order)\n",
    "    for i in comps:\n",
    "        print('Component ' + str(i) + ' : ' + str(get_counts(predList, i)))    "
   ]
  },
  {
   "cell_type": "markdown",
   "metadata": {},
   "source": [
    "### Using the top1 components - given by SLIME (Time segmentation)\n",
    "\n",
    "> For ***run1*** we get following distribution:\n",
    "\n",
    "    Component 0 : 307\n",
    "    Component 1 : 1\n",
    "    Component 2 : 67\n",
    "    Component 3 : 185\n",
    "    Component 4 : 110\n",
    "    Component 5 : 43\n",
    "    Component 6 : 15\n",
    "    Component 7 : 6\n",
    "    Component 8 : 0\n",
    "    Component 9 : 0\n",
    "    \n",
    "    \n",
    ">It proves our hypothesis and also supports correctness our hypothesis. **SLIME is giving us correct explanations**. As, we know that genuine files has zero-valued silence frames in the beginning that model expolits. Here, highest weightage is given to first 300ms signal !!    \n",
    "\n"
   ]
  },
  {
   "cell_type": "code",
   "execution_count": 159,
   "metadata": {
    "collapsed": true
   },
   "outputs": [],
   "source": [
    "comps=[0,1,2,3,4,5,6,7,8,9]    # In time we have 10 segments/components"
   ]
  },
  {
   "cell_type": "code",
   "execution_count": 160,
   "metadata": {},
   "outputs": [
    {
     "data": {
      "text/plain": [
       "[<matplotlib.lines.Line2D at 0x7f038854d400>]"
      ]
     },
     "execution_count": 160,
     "metadata": {},
     "output_type": "execute_result"
    },
    {
     "data": {
      "image/png": "[encoded data removed]",
      "text/plain": [
       "<matplotlib.figure.Figure at 0x7f038854d5c0>"
      ]
     },
     "metadata": {},
     "output_type": "display_data"
    }
   ],
   "source": [
    "plt.title('Showing the distribution of top1 explanation indices')\n",
    "plt.plot(top1,'.')"
   ]
  },
  {
   "cell_type": "code",
   "execution_count": 161,
   "metadata": {},
   "outputs": [
    {
     "name": "stdout",
     "output_type": "stream",
     "text": [
      "Printing component weigting distribution for Top: 1\n",
      "Component 0 : 307\n",
      "Component 1 : 1\n",
      "Component 2 : 67\n",
      "Component 3 : 185\n",
      "Component 4 : 110\n",
      "Component 5 : 43\n",
      "Component 6 : 15\n",
      "Component 7 : 6\n",
      "Component 8 : 0\n",
      "Component 9 : 0\n"
     ]
    }
   ],
   "source": [
    "# Print distribution on top1\n",
    "order = 1\n",
    "print_component_distribution(comps, top1, order)"
   ]
  },
  {
   "cell_type": "markdown",
   "metadata": {},
   "source": [
    "### Using the top2 components - given by SLIME (Time segmentation)\n",
    "\n",
    "> For ***Run1*** we get following distribution\n",
    "\n",
    "    Component 0 : 68\n",
    "    Component 1 : 22\n",
    "    Component 2 : 90\n",
    "    Component 3 : 199\n",
    "    Component 4 : 208\n",
    "    Component 5 : 74\n",
    "    Component 6 : 42\n",
    "    Component 7 : 22\n",
    "    Component 8 : 0\n",
    "    Component 9 : 9"
   ]
  },
  {
   "cell_type": "code",
   "execution_count": 162,
   "metadata": {},
   "outputs": [
    {
     "data": {
      "text/plain": [
       "[<matplotlib.lines.Line2D at 0x7f038854da20>]"
      ]
     },
     "execution_count": 162,
     "metadata": {},
     "output_type": "execute_result"
    },
    {
     "data": {
      "image/png": "[encoded data removed]",
      "text/plain": [
       "<matplotlib.figure.Figure at 0x7f038854dda0>"
      ]
     },
     "metadata": {},
     "output_type": "display_data"
    }
   ],
   "source": [
    "plt.title('Showing the distribution of top2 explanation indices')\n",
    "plt.plot(top2,'.')"
   ]
  },
  {
   "cell_type": "code",
   "execution_count": 163,
   "metadata": {},
   "outputs": [
    {
     "name": "stdout",
     "output_type": "stream",
     "text": [
      "Printing component weigting distribution for Top: 2\n",
      "Component 0 : 68\n",
      "Component 1 : 22\n",
      "Component 2 : 90\n",
      "Component 3 : 199\n",
      "Component 4 : 208\n",
      "Component 5 : 74\n",
      "Component 6 : 42\n",
      "Component 7 : 22\n",
      "Component 8 : 0\n",
      "Component 9 : 9\n"
     ]
    }
   ],
   "source": [
    "# Print distribution on top2\n",
    "\n",
    "order = 2\n",
    "print_component_distribution(comps, top2, order)"
   ]
  },
  {
   "cell_type": "markdown",
   "metadata": {},
   "source": [
    "**Observation**\n",
    "\n",
    "> Out of 764 genuine files that were correctly classified with probability > 90% as genuine, our SLIME explains that the highest/top component influencing this is the first 300ms (which supports our results, as the first few ms has zero values samples). \n"
   ]
  },
  {
   "cell_type": "code",
   "execution_count": 164,
   "metadata": {},
   "outputs": [
    {
     "data": {
      "text/plain": [
       "<matplotlib.collections.PathCollection at 0x7f036a1a3c50>"
      ]
     },
     "execution_count": 164,
     "metadata": {},
     "output_type": "execute_result"
    },
    {
     "data": {
      "image/png": "[encoded data removed]",
      "text/plain": [
       "<matplotlib.figure.Figure at 0x7f038854d160>"
      ]
     },
     "metadata": {},
     "output_type": "display_data"
    }
   ],
   "source": [
    "# Just a quick scatter plot\n",
    "\n",
    "plt.scatter(top1, top2)"
   ]
  },
  {
   "cell_type": "code",
   "execution_count": 165,
   "metadata": {
    "collapsed": true
   },
   "outputs": [],
   "source": [
    "# Get those file index having component0 in top explanation: put it in key variable\n",
    "\n",
    "key=0\n",
    "\n",
    "fname='index_file_list/allGenIndexList_TP.txt'\n",
    "with open(fname) as f:\n",
    "    #file_idxs = [int(line.strip().split(' ')[0]) for line in f]\n",
    "    file_idxs = [line.strip() for line in f]\n",
    "    \n",
    "    \n",
    "# Write the top component index to the file and further analysis\n",
    "#fname='topExplanation_list_Genuine_TP.txt'\n",
    "fname='top_two_explanation_indices/time/topExplanation_list_gen_TP.txt'\n",
    "id4_indexFiles=list() \n",
    "\n",
    "f=open(fname,'w')\n",
    "for i in range(len(top1)):\n",
    "    if top1[i]==key:    # if top explanation index is 3 (which is actually 4)\n",
    "        id4_indexFiles.append(file_idxs[i])\n",
    "        f.write(str(file_idxs[i])+'\\n')\n",
    "        \n",
    "f.close()"
   ]
  },
  {
   "cell_type": "code",
   "execution_count": 166,
   "metadata": {},
   "outputs": [
    {
     "name": "stdout",
     "output_type": "stream",
     "text": [
      "574 0.999954 4.55669e-05 9.99628\n",
      "570 0.999954 4.56602e-05 9.99424\n",
      "621 0.99995 5.00916e-05 9.90161\n",
      "626 0.999947 5.27098e-05 9.85066\n",
      "618 0.999947 5.3097e-05 9.84334\n",
      "586 0.99994 5.95998e-05 9.7278\n",
      "571 0.99994 6.04382e-05 9.71383\n",
      "649 0.999939 6.10599e-05 9.70359\n",
      "592 0.999939 6.11216e-05 9.70258\n",
      "627 0.999938 6.1763e-05 9.69214\n"
     ]
    }
   ],
   "source": [
    "%%bash\n",
    "cat 'top_two_explanation_indices/time/topExplanation_list_gen_TP.txt' | head"
   ]
  },
  {
   "cell_type": "markdown",
   "metadata": {},
   "source": [
    "### Note: \n",
    "> the file topExplanation_list_gen_TP.txt will have four columns\n",
    "> The first column denotes file index (index from 0), second and third specifies genuine and spoofed probability, while last specifies the LLR score\n",
    "\n",
    "### What have we done so far\n",
    "\n",
    " 1. We took all genuine files that were correctly classified by CNN. All these files were confidently classified with > 90% probability by the genuine class. In total we get 764 such genuine TP audio files.\n",
    " 1. Then we applied SLIME. We segmented along time. We partitioned these files in 10 parts, each of 300ms. We then obtained top 2 influencing component index for all these 764 files.\n",
    " 1. We then analysed the explanation index distribution for these 764 files and find that the component 0 that corresponds to first 300ms audio are maximally activated (got highest count = 307/764)\n",
    " 1. Then we take these 307 audio file index and plot their spectrograms and try to find similarity.\n"
   ]
  },
  {
   "cell_type": "markdown",
   "metadata": {
    "collapsed": true
   },
   "source": [
    "## Analysing Freq: The top two components from SLIME - True positive Genuine case\n",
    "\n",
    "Note, that under frequency analysis, we have cut our input spectrogram into 8 different frequency components/segments, where each segment correpsonds to\n",
    "\n",
    "> ***1000 Hz frequency***"
   ]
  },
  {
   "cell_type": "code",
   "execution_count": 167,
   "metadata": {},
   "outputs": [
    {
     "data": {
      "image/png": "[encoded data removed]",
      "text/plain": [
       "<IPython.core.display.Image object>"
      ]
     },
     "execution_count": 167,
     "metadata": {},
     "output_type": "execute_result"
    }
   ],
   "source": [
    "# Show how we cut the spectrogram in timexfrequency\n",
    "\n",
    "Image(\"frequency.png\")"
   ]
  },
  {
   "cell_type": "code",
   "execution_count": 168,
   "metadata": {
    "collapsed": true
   },
   "outputs": [],
   "source": [
    "file = 'top_two_explanation_indices/freq/gen_TP.txt'"
   ]
  },
  {
   "cell_type": "code",
   "execution_count": 169,
   "metadata": {},
   "outputs": [
    {
     "name": "stdout",
     "output_type": "stream",
     "text": [
      "7 6\n",
      "7 6\n",
      "7 6\n",
      "7 0\n",
      "7 6\n",
      "7 0\n",
      "7 6\n",
      "7 6\n",
      "7 6\n",
      "7 6\n"
     ]
    }
   ],
   "source": [
    "%%bash\n",
    "cat 'top_two_explanation_indices/freq/gen_TP.txt' | head\n",
    "\n",
    "# the top two components 7 6 dominates the explanation"
   ]
  },
  {
   "cell_type": "code",
   "execution_count": 170,
   "metadata": {
    "collapsed": true
   },
   "outputs": [],
   "source": [
    "# Get top1 and top2 in seperate list\n",
    "top1, top2 = get_top1_top2_list(file)"
   ]
  },
  {
   "cell_type": "code",
   "execution_count": 171,
   "metadata": {},
   "outputs": [
    {
     "name": "stdout",
     "output_type": "stream",
     "text": [
      "734\n",
      "734\n"
     ]
    }
   ],
   "source": [
    "print(len(top1))\n",
    "print(len(top2))"
   ]
  },
  {
   "cell_type": "markdown",
   "metadata": {},
   "source": [
    "## Top 1 component distribution - Frequency"
   ]
  },
  {
   "cell_type": "code",
   "execution_count": 172,
   "metadata": {
    "collapsed": true
   },
   "outputs": [],
   "source": [
    "comps = [0,1,2,3,4,5,6,7]   # in Frequency we have 8 components"
   ]
  },
  {
   "cell_type": "code",
   "execution_count": 173,
   "metadata": {},
   "outputs": [
    {
     "data": {
      "text/plain": [
       "[<matplotlib.lines.Line2D at 0x7f036a2b04a8>]"
      ]
     },
     "execution_count": 173,
     "metadata": {},
     "output_type": "execute_result"
    },
    {
     "data": {
      "image/png": "[encoded data removed]",
      "text/plain": [
       "<matplotlib.figure.Figure at 0x7f036a2b02e8>"
      ]
     },
     "metadata": {},
     "output_type": "display_data"
    }
   ],
   "source": [
    "plt.title('Showing the distribution of top1 explanation indices')\n",
    "plt.plot(top1,'.')"
   ]
  },
  {
   "cell_type": "code",
   "execution_count": 174,
   "metadata": {},
   "outputs": [
    {
     "name": "stdout",
     "output_type": "stream",
     "text": [
      "Printing component weigting distribution for Top: 1\n",
      "Component 0 : 1\n",
      "Component 1 : 0\n",
      "Component 2 : 0\n",
      "Component 3 : 0\n",
      "Component 4 : 0\n",
      "Component 5 : 9\n",
      "Component 6 : 0\n",
      "Component 7 : 724\n"
     ]
    }
   ],
   "source": [
    "# Print distribution on top1\n",
    "\n",
    "order = 1\n",
    "print_component_distribution(comps, top1, order)"
   ]
  },
  {
   "cell_type": "markdown",
   "metadata": {},
   "source": [
    "## Top 2 component distribution - Frequency"
   ]
  },
  {
   "cell_type": "code",
   "execution_count": 175,
   "metadata": {},
   "outputs": [
    {
     "data": {
      "text/plain": [
       "[<matplotlib.lines.Line2D at 0x7f0371aced30>]"
      ]
     },
     "execution_count": 175,
     "metadata": {},
     "output_type": "execute_result"
    },
    {
     "data": {
      "image/png": "[encoded data removed]",
      "text/plain": [
       "<matplotlib.figure.Figure at 0x7f0371acee80>"
      ]
     },
     "metadata": {},
     "output_type": "display_data"
    }
   ],
   "source": [
    "plt.title('Showing the distribution of top2 explanation indices')\n",
    "plt.plot(top2,'.')"
   ]
  },
  {
   "cell_type": "code",
   "execution_count": 176,
   "metadata": {},
   "outputs": [
    {
     "name": "stdout",
     "output_type": "stream",
     "text": [
      "Printing component weigting distribution for Top: 2\n",
      "Component 0 : 17\n",
      "Component 1 : 83\n",
      "Component 2 : 0\n",
      "Component 3 : 30\n",
      "Component 4 : 58\n",
      "Component 5 : 229\n",
      "Component 6 : 314\n",
      "Component 7 : 3\n"
     ]
    }
   ],
   "source": [
    "# Print distribution on top2\n",
    "\n",
    "order = 2\n",
    "print_component_distribution(comps, top2, order)"
   ]
  },
  {
   "cell_type": "code",
   "execution_count": 177,
   "metadata": {
    "collapsed": true
   },
   "outputs": [],
   "source": [
    "# Get those file index having component8 in top explanation (as for frequency we get top explanation at index8)\n",
    "top = 7\n",
    "\n",
    "fname='index_file_list/allGenIndexList_TP.txt'\n",
    "with open(fname) as f:\n",
    "    #file_idxs = [int(line.strip().split(' ')[0]) for line in f]\n",
    "    file_idxs = [line.strip() for line in f]\n",
    "    \n",
    "#Write the top component index to the file and further analysis\n",
    "fname='top_two_explanation_indices/freq/topExplanation_list_gen_TP.txt'\n",
    "id8_indexFiles=list() \n",
    "\n",
    "f=open(fname,'w')\n",
    "for i in range(len(top1)):\n",
    "    if top1[i]==top:    # if top explanation index is 3 (which is actually 4)\n",
    "        id8_indexFiles.append(file_idxs[i])\n",
    "        f.write(str(file_idxs[i])+'\\n')\n",
    "        \n",
    "f.close()"
   ]
  },
  {
   "cell_type": "markdown",
   "metadata": {},
   "source": [
    "** Observations**\n",
    "\n",
    "> We find that frequency **component 8 corresponding to 7000-8000 Hz**, seems to get maximally activated for making the prediction. Still, its hard to make any signifant conclusion about a class.\n",
    "\n",
    "> It seems that the genuine class of our network is ***heavily relying on cues at high frequency (7000-8000Hz)***, this also matches to our results for Version 2.0 dataset, where we see similar pattern for genuine class. This could relate to the fact about how the original RedDots data was collected? May be it had lot of noise conditions, but when it was replayed back passing through various channels: playback, recording device and environment, the signal at high frequency kindof get distorted ... (not sure what I am saying .. re-write)\n"
   ]
  },
  {
   "cell_type": "markdown",
   "metadata": {},
   "source": [
    "## Analysing timexFreq: The top two components from SLIME - True positive Genuine case\n",
    "\n",
    "Note, that under timexfrequency analysis, we have cut our input spectrogram into 30 different segments, where each segment correpsonds to\n",
    "\n",
    "> ***600 msec in time and around 1333 Hz in frequency***"
   ]
  },
  {
   "cell_type": "code",
   "execution_count": 178,
   "metadata": {},
   "outputs": [
    {
     "data": {
      "image/png": "[encoded data removed]",
      "text/plain": [
       "<IPython.core.display.Image object>"
      ]
     },
     "execution_count": 178,
     "metadata": {},
     "output_type": "execute_result"
    }
   ],
   "source": [
    "# Show how we cut the spectrogram in timexfrequency\n",
    "\n",
    "Image(\"timexfrequency.png\")"
   ]
  },
  {
   "cell_type": "code",
   "execution_count": 179,
   "metadata": {
    "collapsed": true
   },
   "outputs": [],
   "source": [
    "file = 'top_two_explanation_indices/tf/gen_TP.txt'"
   ]
  },
  {
   "cell_type": "code",
   "execution_count": 180,
   "metadata": {},
   "outputs": [
    {
     "name": "stdout",
     "output_type": "stream",
     "text": [
      "544\n"
     ]
    }
   ],
   "source": [
    "%%bash\n",
    "cat 'top_two_explanation_indices/tf/gen_TP.txt' | grep 11 | wc -l\n",
    "#cat 'top_two_explanation_indices/tf/gen_TP.txt' \n",
    "\n",
    "# on v1.0\n",
    "# the indexes 11,23 and 17 seems to be appearing mostly \n",
    "# Index 11 occuring - 544 times (in top2)\n",
    "# Index 23 occurs 220 times in top2 pair\n",
    "# Index 17 appears 466 times in top2 pair\n",
    "\n",
    "# the indexes 11,23 and 17 seems to be appearing mostly    : This was on v2.0 dataset\n",
    "# Index 11 occuring - 498 times (in top2)\n",
    "# Index 23 occurs 204 times in top2 pair\n",
    "# Index 17 appears 394 times in top2 pair"
   ]
  },
  {
   "cell_type": "markdown",
   "metadata": {},
   "source": [
    "#### quick note\n",
    "\n",
    ">  Along timexfrequency analysis, the indexes 11,23 and 17 seems to be appearing mostly, where,\n",
    "\n",
    " 1. Index 11 occuring - 544 times (in top2)\n",
    " 1. Index 17 appears 466 times in top2 pair\n",
    " 1. Index 23 occurs 220 times in top2 pair\n",
    "   \n",
    "** Note ** Indexes starts with 0, so 11 here is 12th component \n",
    "\n",
    "> Note we ***observe similar kindof pattern as we found on v2.0 database*** for txf analysis. The top1 is for 11 component (occurs 498 times)."
   ]
  },
  {
   "cell_type": "code",
   "execution_count": 181,
   "metadata": {},
   "outputs": [
    {
     "name": "stdout",
     "output_type": "stream",
     "text": [
      "734\n",
      "734\n"
     ]
    }
   ],
   "source": [
    "# Get top1 and top2 in seperate list\n",
    "top1, top2 = get_top1_top2_list(file)\n",
    "print(len(top1))\n",
    "print(len(top2))"
   ]
  },
  {
   "cell_type": "markdown",
   "metadata": {},
   "source": [
    "## Top 1 component distribution - time x Frequency"
   ]
  },
  {
   "cell_type": "code",
   "execution_count": 182,
   "metadata": {
    "collapsed": true
   },
   "outputs": [],
   "source": [
    "comps = np.arange(0,30)   # in timexfrequency we have 30 components"
   ]
  },
  {
   "cell_type": "code",
   "execution_count": 183,
   "metadata": {},
   "outputs": [
    {
     "name": "stdout",
     "output_type": "stream",
     "text": [
      "Printing component weigting distribution for Top: 1\n",
      "Component 0 : 38\n",
      "Component 1 : 0\n",
      "Component 2 : 0\n",
      "Component 3 : 1\n",
      "Component 4 : 20\n",
      "Component 5 : 1\n",
      "Component 6 : 0\n",
      "Component 7 : 0\n",
      "Component 8 : 0\n",
      "Component 9 : 1\n",
      "Component 10 : 10\n",
      "Component 11 : 364\n",
      "Component 12 : 0\n",
      "Component 13 : 0\n",
      "Component 14 : 0\n",
      "Component 15 : 0\n",
      "Component 16 : 0\n",
      "Component 17 : 215\n",
      "Component 18 : 0\n",
      "Component 19 : 0\n",
      "Component 20 : 0\n",
      "Component 21 : 0\n",
      "Component 22 : 0\n",
      "Component 23 : 75\n",
      "Component 24 : 0\n",
      "Component 25 : 0\n",
      "Component 26 : 0\n",
      "Component 27 : 0\n",
      "Component 28 : 0\n",
      "Component 29 : 9\n"
     ]
    }
   ],
   "source": [
    "# Print distribution on top1\n",
    "\n",
    "order = 1\n",
    "print_component_distribution(comps, top1, order)"
   ]
  },
  {
   "cell_type": "markdown",
   "metadata": {},
   "source": [
    "## Top 2 component distribution - time x Frequency"
   ]
  },
  {
   "cell_type": "code",
   "execution_count": 184,
   "metadata": {},
   "outputs": [
    {
     "name": "stdout",
     "output_type": "stream",
     "text": [
      "Printing component weigting distribution for Top: 2\n",
      "Component 0 : 32\n",
      "Component 1 : 0\n",
      "Component 2 : 0\n",
      "Component 3 : 1\n",
      "Component 4 : 53\n",
      "Component 5 : 9\n",
      "Component 6 : 0\n",
      "Component 7 : 3\n",
      "Component 8 : 0\n",
      "Component 9 : 0\n",
      "Component 10 : 13\n",
      "Component 11 : 180\n",
      "Component 12 : 0\n",
      "Component 13 : 0\n",
      "Component 14 : 0\n",
      "Component 15 : 0\n",
      "Component 16 : 5\n",
      "Component 17 : 251\n",
      "Component 18 : 0\n",
      "Component 19 : 0\n",
      "Component 20 : 0\n",
      "Component 21 : 1\n",
      "Component 22 : 0\n",
      "Component 23 : 145\n",
      "Component 24 : 0\n",
      "Component 25 : 0\n",
      "Component 26 : 0\n",
      "Component 27 : 0\n",
      "Component 28 : 1\n",
      "Component 29 : 40\n"
     ]
    }
   ],
   "source": [
    "# Print distribution on top2\n",
    "\n",
    "order = 2\n",
    "print_component_distribution(comps, top2, order)"
   ]
  },
  {
   "cell_type": "markdown",
   "metadata": {},
   "source": [
    "**Observations**\n",
    "\n",
    "> It seems that under timexfrequency analysis, considering 764 genuine audio files in development set that were classified correctly with probability > 90% the decision is highly influenced for ***Components 11,17 and 23.*** This holds true for top1 and top2 explanations."
   ]
  },
  {
   "cell_type": "markdown",
   "metadata": {},
   "source": [
    "# Overall Summary for Genuine class - on the v1.0 database"
   ]
  },
  {
   "cell_type": "markdown",
   "metadata": {},
   "source": [
    "**Time segmentation**\n",
    "\n",
    "> The highest influence is for first 300 ms. This supports and prove the correctness of our hypothesis, explanations given by SLIME too.\n",
    "\n",
    "**Frequency segmentation**\n",
    "> The top explanation favours to the highest frequency bin (8000hz)/. Out of 764 TP genuine examples we get 724 votes for component 7(corresponding to 8000Hz). This suggest that the genuine class is highly influenced by higher frequency.\n",
    "\n",
    "> ***This is a bit surprising though as I was expecting this behaviour for spoofed cases.*** However, we see similar pattern for frequency under both v1.0 and v2.0 **which is good !**\n",
    "\n",
    "**TimexFrequency segmentation**\n",
    "> We find that the components 11 and 17 are highly contributing in prediction. Component 11 receives highest vote, and it represents time between 0.6-1.2s and frequency above 6000Hz.\n",
    " "
   ]
  },
  {
   "cell_type": "markdown",
   "metadata": {},
   "source": [
    "# Overall Summary for Genuine class - on the v2.0 database"
   ]
  },
  {
   "cell_type": "markdown",
   "metadata": {},
   "source": [
    "**Time segmentation**\n",
    "\n",
    ">We segmented spectrogram into 10 super-samples (components), each of 1000ms, and ran SLIME to generate explanations using 5000 samples. We find that among 766 True-positive genuine files (with score > 0.5), the highest influence is shown for component 4 that corresponds to 4000ms.\n",
    "\n",
    "**Question:** What is there in 4000ms (0.4 seconds)? may be onset ? where speech begins? Need to listen to few audio files and confirm this.\n",
    "\n",
    "**Frequency segmentation**\n",
    "> We segmented the spectrograms into 8 different frequency bins, each corresponding to 1000Hz and ran SLIME. In this case, the top explanation favours to the highest frequency bin (8000hz)/. Out of 766 TP genuine examples we get 656 corresponding to bin 8 (8000Hz). This suggest that the genuine class is highly influenced by higher frequency.\n",
    "\n",
    "> ***This is a bit surprising though as I was expecting this behaviour for spoofed cases.***\n",
    "\n",
    "**TimexFrequency segmentation**\n",
    "> We segmented the spectrogram into 30 different timexfrequency bins. We chose 30 to keep our analysis simple. Each component corresponds to 600 msec in time and around 1333 Hz in frequency. Here, we find that the components 11 and 17 are highly contributing in prediction. Component 11 corresponds to \n",
    " "
   ]
  },
  {
   "cell_type": "code",
   "execution_count": null,
   "metadata": {
    "collapsed": true
   },
   "outputs": [],
   "source": []
  }
 ],
 "metadata": {
  "kernelspec": {
   "display_name": "Python 3",
   "language": "python",
   "name": "python3"
  },
  "language_info": {
   "codemirror_mode": {
    "name": "ipython",
    "version": 3
   },
   "file_extension": ".py",
   "mimetype": "text/x-python",
   "name": "python",
   "nbconvert_exporter": "python",
   "pygments_lexer": "ipython3",
   "version": "3.6.1"
  }
 },
 "nbformat": 4,
 "nbformat_minor": 2
}
