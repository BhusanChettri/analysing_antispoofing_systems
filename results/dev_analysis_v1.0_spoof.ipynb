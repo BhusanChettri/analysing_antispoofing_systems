{
 "cells": [
  {
   "cell_type": "markdown",
   "metadata": {},
   "source": [
    "# Analysing Spoofed files in dev set - version 1.0 dataset"
   ]
  },
  {
   "cell_type": "markdown",
   "metadata": {},
   "source": [
    "## TODO\n",
    "\n",
    " * Draw scatter plot of posteriors for our best CNN system to project the distribution of genuine and spoofed features\n",
    " * Do this for Development and evaluation set.\n",
    " * On Evaluation set you could do this plot seperately for different Replay configurations (total 57 will be too much though)"
   ]
  },
  {
   "cell_type": "markdown",
   "metadata": {},
   "source": [
    "# Summary of file list for spoofed and genuine files in Development set for analysis"
   ]
  },
  {
   "cell_type": "markdown",
   "metadata": {},
   "source": [
    "## 1) The top 10 spoofed confident correctly classified files : high scores\n",
    "\n",
    "                               Gen prob     Spf Prob      Log Liklihood ratio\n",
    "    \n",
    "\n"
   ]
  },
  {
   "cell_type": "code",
   "execution_count": 342,
   "metadata": {
    "collapsed": true
   },
   "outputs": [],
   "source": [
    "import numpy as np\n",
    "import matplotlib.pyplot as plt\n",
    "from IPython.display import Image\n",
    "\n",
    "%matplotlib inline"
   ]
  },
  {
   "cell_type": "code",
   "execution_count": 343,
   "metadata": {},
   "outputs": [
    {
     "name": "stdout",
     "output_type": "stream",
     "text": [
      "/homes/bc305/myphd/stage2/deeplearning.experiment1/Analysing_CNN/working_version/interspeech2018_v1.0/analysing_antispoofing_systems\n"
     ]
    }
   ],
   "source": [
    "%%bash\n",
    "pwd"
   ]
  },
  {
   "cell_type": "code",
   "execution_count": 344,
   "metadata": {
    "collapsed": true
   },
   "outputs": [],
   "source": [
    "# Load the prediction file\n",
    "# Predictions file that has three columns: genuin, spoofed prob and log likehood ratio\n",
    "\n",
    "pred_file='model_3sec_relu_0.5_run9/predictions/dev_prediction.txt'"
   ]
  },
  {
   "cell_type": "code",
   "execution_count": 345,
   "metadata": {
    "collapsed": true
   },
   "outputs": [],
   "source": [
    "all_predictions = []\n",
    "all_gens = []\n",
    "all_spoofs = []\n",
    "\n",
    "with open(pred_file) as f:\n",
    "    all_predictions = [line.strip() for line in f]\n",
    "    \n",
    "all_gen_predictions = all_predictions[:760]                    # first 760 files in dev are genuine\n",
    "all_spf_predictions = all_predictions[760:]                  # files from 761-1710 are spoofed examples"
   ]
  },
  {
   "cell_type": "code",
   "execution_count": 346,
   "metadata": {
    "collapsed": true
   },
   "outputs": [],
   "source": [
    "all_scores = []\n",
    "\n",
    "with open(pred_file) as f:\n",
    "    all_scores = [line.strip().split(' ')[2] for line in f]\n",
    "    \n",
    "all_gen_scores = all_scores[:760]\n",
    "all_spf_scores = all_scores[760:]"
   ]
  },
  {
   "cell_type": "code",
   "execution_count": 347,
   "metadata": {},
   "outputs": [
    {
     "name": "stdout",
     "output_type": "stream",
     "text": [
      "760\n",
      "950\n"
     ]
    }
   ],
   "source": [
    "print(len(all_gen_scores))\n",
    "print(len(all_spf_scores))"
   ]
  },
  {
   "cell_type": "code",
   "execution_count": 348,
   "metadata": {},
   "outputs": [
    {
     "name": "stdout",
     "output_type": "stream",
     "text": [
      "['-2.83281', '-7.64409', '-3.26421', '-6.31593', '-2.92779', '-2.84944', '1.07997', '-4.83926', '-2.60436', '-1.15522']\n"
     ]
    }
   ],
   "source": [
    "print(all_spf_scores[0:10])"
   ]
  },
  {
   "cell_type": "code",
   "execution_count": 349,
   "metadata": {
    "collapsed": true
   },
   "outputs": [],
   "source": [
    "spf_sort_index = np.argsort(all_spf_scores)"
   ]
  },
  {
   "cell_type": "markdown",
   "metadata": {},
   "source": [
    "## Prepare file-list for top spoofed files"
   ]
  },
  {
   "cell_type": "code",
   "execution_count": 350,
   "metadata": {},
   "outputs": [
    {
     "name": "stdout",
     "output_type": "stream",
     "text": [
      "Total count =  732\n"
     ]
    }
   ],
   "source": [
    "# We select all those spoofed files that got spoofed probability > 90% (We gave selection criterion score<-0.3). \n",
    "# Print the results, its fine for now. \n",
    "\n",
    "fname='index_file_list/allSpoofIndexList_TP.txt'\n",
    "f=open(fname,'w')\n",
    "\n",
    "spfFileList = list()\n",
    "count=0\n",
    "\n",
    "for i in spf_sort_index:\n",
    "    score= all_spf_predictions[i].strip().split(' ')[2]\n",
    "    if float(score) < -3.0:    #-10.0:\n",
    "        spfFileList.append(str(i) + ' ' + str(all_spf_predictions[i]))\n",
    "        count += 1\n",
    "print('Total count = ',count)\n",
    "\n",
    "# Reverse sort the list- so that spoofed files with highest spoof probability are on top\n",
    "sorted_spfList = spfFileList[::-1]\n",
    "for line in sorted_spfList:\n",
    "    f.write(line+'\\n')\n",
    "    #print(line)\n",
    "f.close()\n"
   ]
  },
  {
   "cell_type": "code",
   "execution_count": 351,
   "metadata": {},
   "outputs": [
    {
     "name": "stdout",
     "output_type": "stream",
     "text": [
      "774 4.90329e-05 0.999951 -9.92297\n",
      "453 5.43053e-05 0.999946 -9.82084\n",
      "778 5.52737e-05 0.999945 -9.80316\n",
      "846 5.56122e-05 0.999944 -9.79705\n",
      "242 5.65276e-05 0.999943 -9.78073\n",
      "796 5.78849e-05 0.999942 -9.757\n",
      "438 5.90267e-05 0.999941 -9.73746\n",
      "891 6.18739e-05 0.999938 -9.69035\n",
      "692 6.5861e-05 0.999934 -9.6279\n",
      "548 6.70555e-05 0.999933 -9.60992\n"
     ]
    }
   ],
   "source": [
    "%%bash\n",
    "cat index_file_list/allSpoofIndexList_TP.txt | head"
   ]
  },
  {
   "cell_type": "markdown",
   "metadata": {},
   "source": [
    "***Point***\n",
    "> We select all those spoofed files that got spoofed probability > 90%. We have 732 spoofed files that we can use SLIME to get a reliable estimate for what the CNN might have learned about the spoofed class. Note that when running slime, for many files the SLIME returns no explanation coz we are only returning positive instance explanation. Thus we remove those files.\n",
    "\n",
    "> Therefore, these spoofed files have been classified with > 90% probability of being spoofed"
   ]
  },
  {
   "cell_type": "markdown",
   "metadata": {},
   "source": [
    "## 1) Printing few top spoofed confident correctly classified files - high scores\n",
    "\n",
    "    Gen prob     Spf Prob      Log Liklihood ratio\n",
    "    \n",
    "    882 3.94339e-06 0.999996 -12.4435\n",
    "    263 7.61047e-06 0.999992 -11.786\n",
    "    248 1.53493e-05 0.999985 -11.0844\n",
    "    914 2.05395e-05 0.999979 -10.7931\n",
    "    819 2.77295e-05 0.999972 -10.493\n",
    "    787 3.20235e-05 0.999968 -10.349\n",
    "    837 3.24263e-05 0.999968 -10.3365\n",
    "    818 3.27746e-05 0.999967 -10.3258\n",
    "    262 3.32321e-05 0.999967 -10.312\n",
    "    883 3.81902e-05 0.999962 -10.1729\n",
    "    873 3.82485e-05 0.999962 -10.1714\n",
    "    204 4.20166e-05 0.999958 -10.0774\n",
    "    249 4.28462e-05 0.999957 -10.0579"
   ]
  },
  {
   "cell_type": "markdown",
   "metadata": {
    "collapsed": true
   },
   "source": [
    "## Analysing Time: The top two components from SLIME - True positive Spoofed case\n",
    "\n",
    "Note, that under time analysis, we have cut our input spectrogram into 10 different temporal components/segments, where each segment correpsonds to\n",
    "\n",
    "> ***300 mili seconds***"
   ]
  },
  {
   "cell_type": "code",
   "execution_count": 352,
   "metadata": {},
   "outputs": [
    {
     "data": {
      "image/png": "[encoded data removed]",
      "text/plain": [
       "<IPython.core.display.Image object>"
      ]
     },
     "execution_count": 352,
     "metadata": {},
     "output_type": "execute_result"
    }
   ],
   "source": [
    "# Show how we cut the spectrogram in timexfrequency\n",
    "\n",
    "Image(\"time.png\")"
   ]
  },
  {
   "cell_type": "code",
   "execution_count": 353,
   "metadata": {
    "collapsed": true
   },
   "outputs": [],
   "source": [
    "file = 'top_two_explanation_indices/time/spoof_TP.txt'"
   ]
  },
  {
   "cell_type": "code",
   "execution_count": 354,
   "metadata": {},
   "outputs": [
    {
     "name": "stdout",
     "output_type": "stream",
     "text": [
      "0 6\n",
      "1 0\n",
      "1 7\n",
      "0 1\n",
      "8 6\n",
      "1 0\n",
      "5 6\n",
      "1 -999\n",
      "0 -999\n",
      "0 -999\n"
     ]
    }
   ],
   "source": [
    "%%bash\n",
    "cat top_two_explanation_indices/time/spoof_TP.txt  | head"
   ]
  },
  {
   "cell_type": "code",
   "execution_count": 355,
   "metadata": {
    "collapsed": true
   },
   "outputs": [],
   "source": [
    "def get_top1_top2_list(file):\n",
    "    with open(file) as f:\n",
    "        top1 = [int(line.strip().split(' ')[0]) for line in f]\n",
    "    with open(file) as f:  \n",
    "        top2 = [int(line.strip().split(' ')[1]) for line in f if int(line.strip().split(' ')[1]) != -999]\n",
    "    return top1, top2    "
   ]
  },
  {
   "cell_type": "code",
   "execution_count": 356,
   "metadata": {
    "collapsed": true
   },
   "outputs": [],
   "source": [
    "# Get top1 and top2 in seperate list\n",
    "top1, top2 = get_top1_top2_list(file)"
   ]
  },
  {
   "cell_type": "code",
   "execution_count": 357,
   "metadata": {},
   "outputs": [
    {
     "name": "stdout",
     "output_type": "stream",
     "text": [
      "466\n",
      "280\n"
     ]
    }
   ],
   "source": [
    "print(len(top1))\n",
    "print(len(top2))"
   ]
  },
  {
   "cell_type": "code",
   "execution_count": 358,
   "metadata": {},
   "outputs": [
    {
     "name": "stdout",
     "output_type": "stream",
     "text": [
      "[6, 0, 7, 1, 6, 0, 6, 5, 3, 1, 3, 1, 2, 4, 7, 8, 5, 2, 8, 7, 1, 8, 7, 1, 1, 8, 6, 9, 4, 5, 1, 1, 8, 1, 7, 6, 6, 7, 8, 6, 8, 2, 2, 6, 2, 1, 0, 2, 7, 1, 9, 8, 6, 7, 1, 6, 1, 1, 8, 1, 7, 0, 1, 8, 9, 1, 1, 7, 1, 2, 5, 5, 1, 6, 1, 1, 1, 7, 9, 6, 9, 3, 8, 8, 8, 3, 8, 5, 9, 9, 8, 6, 8, 8, 0, 1, 8, 8, 7, 5, 7, 7, 2, 1, 8, 7, 9, 8, 1, 6, 1, 7, 6, 0, 5, 1, 2, 7, 8, 7, 1, 2, 2, 1, 8, 8, 6, 5, 7, 6, 2, 1, 7, 9, 0, 6, 8, 1, 2, 1, 1, 1, 6, 1, 4, 0, 8, 1, 7, 1, 6, 1, 2, 7, 7, 9, 1, 0, 1, 1, 7, 6, 4, 0, 5, 0, 3, 9, 3, 3, 8, 1, 6, 7, 1, 8, 7, 7, 1, 7, 1, 8, 1, 7, 1, 8, 2, 0, 0, 1, 0, 1, 7, 0, 4, 1, 7, 1, 6, 5, 9, 0, 9, 1, 1, 2, 6, 1, 7, 0, 1, 7, 1, 7, 1, 7, 8, 7, 1, 7, 1, 9, 7, 0, 7, 9, 2, 2, 7, 7, 4, 9, 5, 0, 3, 8, 1, 1, 0, 8, 8, 1, 0, 0, 8, 9, 6, 1, 8, 9, 2, 2, 8, 0, 3, 9, 2, 8, 2, 1, 2, 0, 6, 8, 3, 7, 2, 8, 8, 7, 1, 8, 1, 1, 7, 7, 8, 1, 0, 7]\n"
     ]
    }
   ],
   "source": [
    "print(top2)"
   ]
  },
  {
   "cell_type": "code",
   "execution_count": 359,
   "metadata": {
    "collapsed": true
   },
   "outputs": [],
   "source": [
    "def get_counts(datalist, key):\n",
    "    count=0\n",
    "    for i in range(0,len(datalist)):\n",
    "        if datalist[i] == key:\n",
    "            count+=1\n",
    "    return count            "
   ]
  },
  {
   "cell_type": "code",
   "execution_count": 360,
   "metadata": {
    "collapsed": true
   },
   "outputs": [],
   "source": [
    "def print_component_distribution(comps, predList, order):\n",
    "    print('Printing component weigting distribution for Top:', order)\n",
    "    for i in comps:\n",
    "        print('Component ' + str(i) + ' : ' + str(get_counts(predList, i)))    "
   ]
  },
  {
   "cell_type": "markdown",
   "metadata": {},
   "source": [
    "### Using the top1 components - given by SLIME (Time segmentation)\n",
    "\n",
    "> For ***run1*** we get following distribution:\n",
    "\n",
    "    "
   ]
  },
  {
   "cell_type": "code",
   "execution_count": 361,
   "metadata": {
    "collapsed": true
   },
   "outputs": [],
   "source": [
    "comps=[0,1,2,3,4,5,6,7,8,9]    # In time we have 10 segments/components"
   ]
  },
  {
   "cell_type": "code",
   "execution_count": 362,
   "metadata": {},
   "outputs": [
    {
     "name": "stdout",
     "output_type": "stream",
     "text": [
      "Printing component weigting distribution for Top: 1\n",
      "Component 0 : 169\n",
      "Component 1 : 101\n",
      "Component 2 : 26\n",
      "Component 3 : 6\n",
      "Component 4 : 8\n",
      "Component 5 : 12\n",
      "Component 6 : 31\n",
      "Component 7 : 63\n",
      "Component 8 : 33\n",
      "Component 9 : 17\n"
     ]
    }
   ],
   "source": [
    "# Print distribution on top1\n",
    "order = 1\n",
    "print_component_distribution(comps, top1, order)"
   ]
  },
  {
   "cell_type": "markdown",
   "metadata": {},
   "source": [
    "*** Observation ***\n",
    "> Top1 predictions favours the **first 300ms**. We get 169 votes from slime, which is heavily dominating other components as seen above. May be this has got to do with the initial DTMF tone, cause, in genuine files also we get first 300ms as highest predictor. Need to hear many audio examples to confirm this case.\n",
    "\n",
    "*** Also on V2.0 case***\n",
    " * Top1 predictions favours the **first 300ms**. We get 234 votes from slime, which is heavily dominating other components as seen above."
   ]
  },
  {
   "cell_type": "markdown",
   "metadata": {},
   "source": [
    "### Using the top2 components - given by SLIME (Time segmentation)\n",
    "\n",
    "> For ***Run1*** we get following distribution\n"
   ]
  },
  {
   "cell_type": "code",
   "execution_count": 363,
   "metadata": {
    "collapsed": true
   },
   "outputs": [],
   "source": [
    "# Print distribution on top2\n",
    "\n",
    "#order = 2\n",
    "#print_component_distribution(comps, top2, order)"
   ]
  },
  {
   "cell_type": "markdown",
   "metadata": {},
   "source": [
    "*** Observation***\n",
    "> Top2 gives highest favour for component 2 (69) that corresponds to 600ms. \n",
    "\n",
    " * We get the same 69 for component 2 in v2.0 also !!!"
   ]
  },
  {
   "cell_type": "code",
   "execution_count": 364,
   "metadata": {
    "collapsed": true
   },
   "outputs": [],
   "source": [
    "# Get those file index having component 0 in top explanation\n",
    "\n",
    "key=0\n",
    "\n",
    "fname='index_file_list/allSpoofIndexList_TP.txt'\n",
    "with open(fname) as f:\n",
    "    file_idxs = [line.strip() for line in f]  \n",
    "    \n",
    "# Write the top component index to the file and further analysis\n",
    "\n",
    "fname='top_two_explanation_indices/time/topExplanation_list_spoof_TP.txt'\n",
    "id4_indexFiles=list() \n",
    "\n",
    "f=open(fname,'w')\n",
    "for i in range(len(top1)):\n",
    "    if top1[i]==key:    # if top explanation index is 3 (which is actually 4)\n",
    "        id4_indexFiles.append(file_idxs[i])\n",
    "        f.write(str(file_idxs[i])+'\\n')\n",
    "        \n",
    "f.close()"
   ]
  },
  {
   "cell_type": "markdown",
   "metadata": {},
   "source": [
    "### Note: \n",
    "> the file topExplanation_list_spoof_TP.txt will have four columns\n",
    "> The first column denotes file index (index from 0), second and third specifies genuine and spoofed probability, while last specifies the LLR score\n",
    "\n",
    "### What have we done so far\n",
    "\n",
    " 1. We took all spoofed files that were correctly classified by CNN. We took files for which spoofed probability is greater than 90% and get 732 files.\n",
    " 1. Then we applied SLIME. We segmented along time. We partitioned these files in 10 parts, each of 300ms. We then obtained top 2 influencing component index.\n",
    " 1. We then analysed the explanation index distribution for these 732 files and find that the component 0 give high influence. May be it has got to do with the DTMF tone !! "
   ]
  },
  {
   "cell_type": "markdown",
   "metadata": {
    "collapsed": true
   },
   "source": [
    "## Analysing Freq: The top two components from SLIME - True positive Spoofed\n",
    "\n",
    "Note, that under frequency analysis, we have cut our input spectrogram into 8 different frequency components/segments, where each segment correpsonds to\n",
    "\n",
    "> ***1000 Hz frequency***"
   ]
  },
  {
   "cell_type": "code",
   "execution_count": 365,
   "metadata": {},
   "outputs": [
    {
     "data": {
      "image/png": "[encoded data removed]",
      "text/plain": [
       "<IPython.core.display.Image object>"
      ]
     },
     "execution_count": 365,
     "metadata": {},
     "output_type": "execute_result"
    }
   ],
   "source": [
    "# Show how we cut the spectrogram in timexfrequency\n",
    "\n",
    "Image(\"frequency.png\")"
   ]
  },
  {
   "cell_type": "code",
   "execution_count": 366,
   "metadata": {
    "collapsed": true
   },
   "outputs": [],
   "source": [
    "file = 'top_two_explanation_indices/freq/spoof_TP.txt'"
   ]
  },
  {
   "cell_type": "code",
   "execution_count": 367,
   "metadata": {},
   "outputs": [
    {
     "name": "stdout",
     "output_type": "stream",
     "text": [
      "6 0\n",
      "5 0\n",
      "6 0\n",
      "6 0\n",
      "0 6\n",
      "6 0\n",
      "0 3\n",
      "6 3\n",
      "0 -999\n",
      "0 5\n"
     ]
    }
   ],
   "source": [
    "%%bash\n",
    "cat 'top_two_explanation_indices/freq/spoof_TP.txt' | head\n",
    "\n",
    "# the top two components 7 6 dominates the explanation"
   ]
  },
  {
   "cell_type": "code",
   "execution_count": 368,
   "metadata": {
    "collapsed": true
   },
   "outputs": [],
   "source": [
    "# Get top1 and top2 in seperate list\n",
    "top1, top2 = get_top1_top2_list(file)"
   ]
  },
  {
   "cell_type": "code",
   "execution_count": 369,
   "metadata": {
    "collapsed": true
   },
   "outputs": [],
   "source": [
    "# Top 2 may have -999 that we added when running SLIME. Remove those files in top2"
   ]
  },
  {
   "cell_type": "code",
   "execution_count": 370,
   "metadata": {},
   "outputs": [
    {
     "name": "stdout",
     "output_type": "stream",
     "text": [
      "710\n",
      "587\n"
     ]
    }
   ],
   "source": [
    "print(len(top1))\n",
    "print(len(top2))"
   ]
  },
  {
   "cell_type": "markdown",
   "metadata": {},
   "source": [
    "## Top 1 component distribution - Frequency"
   ]
  },
  {
   "cell_type": "code",
   "execution_count": 371,
   "metadata": {
    "collapsed": true
   },
   "outputs": [],
   "source": [
    "comps = [0,1,2,3,4,5,6,7]   # in Frequency we have 8 components"
   ]
  },
  {
   "cell_type": "code",
   "execution_count": 372,
   "metadata": {},
   "outputs": [
    {
     "name": "stdout",
     "output_type": "stream",
     "text": [
      "Printing component weigting distribution for Top: 1\n",
      "Component 0 : 227\n",
      "Component 1 : 0\n",
      "Component 2 : 41\n",
      "Component 3 : 45\n",
      "Component 4 : 1\n",
      "Component 5 : 124\n",
      "Component 6 : 272\n",
      "Component 7 : 0\n"
     ]
    }
   ],
   "source": [
    "# Print distribution on top1\n",
    "\n",
    "order = 1\n",
    "print_component_distribution(comps, top1, order)"
   ]
  },
  {
   "cell_type": "code",
   "execution_count": 373,
   "metadata": {},
   "outputs": [
    {
     "data": {
      "text/plain": [
       "[<matplotlib.lines.Line2D at 0x7efe5b87ed30>]"
      ]
     },
     "execution_count": 373,
     "metadata": {},
     "output_type": "execute_result"
    },
    {
     "data": {
      "image/png": "[encoded data removed]",
      "text/plain": [
       "<matplotlib.figure.Figure at 0x7efe5b8a22e8>"
      ]
     },
     "metadata": {},
     "output_type": "display_data"
    }
   ],
   "source": [
    "# Plot the distribution\n",
    "plt.plot(top1,'.')"
   ]
  },
  {
   "cell_type": "markdown",
   "metadata": {},
   "source": [
    "***Observation: Time segmentation***\n",
    "> We see that under frequency analysis, the top explanation appears to be favouring frequency bin 7000Hz. The next two frequency information that influences are 1000Hz and 6000Hz.\n",
    "\n",
    "***Out of total 732 spoofed files***\n",
    "\n",
    " 1. 272 belongs to 7000Hz\n",
    " 1. 227 for 1000 Hz\n",
    " 1. 124 for 6000 Hz\n"
   ]
  },
  {
   "cell_type": "markdown",
   "metadata": {},
   "source": [
    "## Top 2 component distribution - Frequency"
   ]
  },
  {
   "cell_type": "code",
   "execution_count": 374,
   "metadata": {
    "collapsed": true
   },
   "outputs": [],
   "source": [
    "# Print distribution on top2\n",
    "#order = 2\n",
    "#print_component_distribution(comps, top2, order)"
   ]
  },
  {
   "cell_type": "code",
   "execution_count": 375,
   "metadata": {
    "collapsed": true
   },
   "outputs": [],
   "source": [
    "# Plot the top2 distribution\n",
    "#plt.plot(top2,'.')"
   ]
  },
  {
   "cell_type": "markdown",
   "metadata": {},
   "source": [
    "**NOTE: **\n",
    "> In SLIME code, as I was returning two indices, for spoofed files SLIME was only returning positive index, which in many cases was only one, therefore, I put -999 as the second value (just not to break the code and make changes)\n",
    "\n",
    " * It give more emphasis on component 0, under top2 case"
   ]
  },
  {
   "cell_type": "code",
   "execution_count": 376,
   "metadata": {
    "collapsed": true
   },
   "outputs": [],
   "source": [
    "# Get those file index having component8 in top explanation (as for frequency we get top explanation at index8)\n",
    "\n",
    "top = 6   # Define this value for each case of analysis\n",
    "\n",
    "fname='index_file_list/allSpoofIndexList_TP.txt'\n",
    "with open(fname) as f:\n",
    "    #file_idxs = [int(line.strip().split(' ')[0]) for line in f]\n",
    "    file_idxs = [line.strip() for line in f]\n",
    "    \n",
    "#Write the top component index to the file and further analysis\n",
    "fname='top_two_explanation_indices/freq/topExplanation_list_spoof_TP.txt'\n",
    "id8_indexFiles=list() \n",
    "\n",
    "f=open(fname,'w')\n",
    "for i in range(len(top1)):\n",
    "    if top1[i]==top:    # if top explanation index is 3 (which is actually 4)\n",
    "        id8_indexFiles.append(file_idxs[i])\n",
    "        f.write(str(file_idxs[i])+'\\n')\n",
    "        \n",
    "f.close()"
   ]
  },
  {
   "cell_type": "markdown",
   "metadata": {},
   "source": [
    "** Observations**\n",
    "\n",
    "\n",
    "> What has the CNN learned about the genuine and spoofed classes?\n"
   ]
  },
  {
   "cell_type": "markdown",
   "metadata": {},
   "source": [
    "## Analysing timexFreq: The top two components from SLIME - True positive Spoofed case\n",
    "\n",
    "Note, that under timexfrequency analysis, we have cut our input spectrogram into 30 different segments, where each segment correpsonds to\n",
    "\n",
    "> ***600 msec in time and around 1333 Hz in frequency***"
   ]
  },
  {
   "cell_type": "code",
   "execution_count": 377,
   "metadata": {},
   "outputs": [
    {
     "data": {
      "image/png": "[encoded data removed]",
      "text/plain": [
       "<IPython.core.display.Image object>"
      ]
     },
     "execution_count": 377,
     "metadata": {},
     "output_type": "execute_result"
    }
   ],
   "source": [
    "# Show how we cut the spectrogram in timexfrequency\n",
    "\n",
    "Image(\"timexfrequency.png\")"
   ]
  },
  {
   "cell_type": "code",
   "execution_count": 378,
   "metadata": {
    "collapsed": true
   },
   "outputs": [],
   "source": [
    "file = 'top_two_explanation_indices/tf/spoof_TP.txt'"
   ]
  },
  {
   "cell_type": "code",
   "execution_count": 379,
   "metadata": {},
   "outputs": [
    {
     "name": "stdout",
     "output_type": "stream",
     "text": [
      "209\n"
     ]
    }
   ],
   "source": [
    "%%bash\n",
    "cat 'top_two_explanation_indices/tf/spoof_TP.txt' | grep 0 | wc -l\n",
    "#cat 'top_two_explanation_indices/tf/spoof_TP.txt' \n",
    "\n",
    "# the indexes 11,23 and 17 seems to be appearing mostly\n",
    "# Index 11 occuring - 498 times (in top2)\n",
    "# Index 23 occurs 204 times in top2 pair\n",
    "# Index 17 appears 394 times in top2 pair\n",
    "\n",
    "#16,28,17,9,29,5,23,20,0,18,1\n",
    "\n",
    "# Component 16 appears 99 times\n",
    "# Component 28 appears 12 times\n",
    "# Component 17 appears 19 times\n",
    "# Component 9 appears 77 times\n",
    "# Component 29 appears 55 times\n",
    "# Component 5 appears 300 times\n",
    "# Component 23 appears 102 times\n",
    "# Component 20 appears 21 times\n",
    "# Component 0 appears 208 times\n",
    "\n",
    "# Note grep looks all appearances. This cound indicates both first and second"
   ]
  },
  {
   "cell_type": "markdown",
   "metadata": {},
   "source": [
    "#### quick note\n",
    "\n",
    ">  Along timexfrequency analysis\n",
    "\n",
    " 1. Component 16 appears 99 times\n",
    " 2. Component 28 appears 12 times\n",
    " 3. Component 17 appears 19 times\n",
    " 4. Component 9 appears 77 times\n",
    " 5. Component 29 appears 55 times\n",
    " 6. Component 5 appears 300 times\n",
    " 7. Component 23 appears 102 times\n",
    " 8. Component 20 appears 21 times\n",
    " 9. Component 0 appears 208 times\n",
    "\n",
    "Note grep looks all appearances. This cound indicates both first and second\n",
    "\n",
    "** Note ** Indexes starts with 0, so 11 here is 12th component "
   ]
  },
  {
   "cell_type": "code",
   "execution_count": 380,
   "metadata": {},
   "outputs": [
    {
     "name": "stdout",
     "output_type": "stream",
     "text": [
      "732\n",
      "732\n"
     ]
    }
   ],
   "source": [
    "# Get top1 and top2 in seperate list\n",
    "top1, top2 = get_top1_top2_list(file)\n",
    "print(len(top1))\n",
    "print(len(top2))"
   ]
  },
  {
   "cell_type": "markdown",
   "metadata": {},
   "source": [
    "## Top 1 component distribution - time x Frequency"
   ]
  },
  {
   "cell_type": "code",
   "execution_count": 381,
   "metadata": {
    "collapsed": true
   },
   "outputs": [],
   "source": [
    "comps = np.arange(0,30)   # in timexfrequency we have 30 components"
   ]
  },
  {
   "cell_type": "code",
   "execution_count": 382,
   "metadata": {},
   "outputs": [
    {
     "name": "stdout",
     "output_type": "stream",
     "text": [
      "Printing component weigting distribution for Top: 1\n",
      "Component 0 : 56\n",
      "Component 1 : 0\n",
      "Component 2 : 4\n",
      "Component 3 : 8\n",
      "Component 4 : 23\n",
      "Component 5 : 12\n",
      "Component 6 : 0\n",
      "Component 7 : 0\n",
      "Component 8 : 180\n",
      "Component 9 : 29\n",
      "Component 10 : 62\n",
      "Component 11 : 9\n",
      "Component 12 : 1\n",
      "Component 13 : 0\n",
      "Component 14 : 33\n",
      "Component 15 : 17\n",
      "Component 16 : 23\n",
      "Component 17 : 18\n",
      "Component 18 : 95\n",
      "Component 19 : 0\n",
      "Component 20 : 3\n",
      "Component 21 : 37\n",
      "Component 22 : 1\n",
      "Component 23 : 24\n",
      "Component 24 : 39\n",
      "Component 25 : 0\n",
      "Component 26 : 0\n",
      "Component 27 : 0\n",
      "Component 28 : 34\n",
      "Component 29 : 24\n"
     ]
    }
   ],
   "source": [
    "# Print distribution on top1\n",
    "\n",
    "order = 1\n",
    "print_component_distribution(comps, top1, order)"
   ]
  },
  {
   "cell_type": "markdown",
   "metadata": {},
   "source": [
    "*** Observation ***\n",
    "> Distribution shows highest for Component 5 (180), next for component 10(111), next 1(63) as shown about. This distribution is out of 655 spoofed audio files that were classified with probability greater than 90% as spoofed by the CNN."
   ]
  },
  {
   "cell_type": "markdown",
   "metadata": {},
   "source": [
    "## Top 2 component distribution - time x Frequency"
   ]
  },
  {
   "cell_type": "code",
   "execution_count": 383,
   "metadata": {
    "collapsed": true
   },
   "outputs": [],
   "source": [
    "# Print distribution on top2\n",
    "\n",
    "#order = 2\n",
    "#print_component_distribution(comps, top2, order)"
   ]
  },
  {
   "cell_type": "markdown",
   "metadata": {},
   "source": [
    "**Observations**\n",
    "\n",
    "> Under top2, we find component 1 as highest (83)"
   ]
  },
  {
   "cell_type": "markdown",
   "metadata": {},
   "source": [
    "# Summary - on v1.0 and v2.0 spoofed - considering only top1 explanation"
   ]
  },
  {
   "cell_type": "markdown",
   "metadata": {},
   "source": [
    "**Time segmentation: v1.0**\n",
    "\n",
    "> We get first 300ms segment as first top predictor. Coule be DTMF tone !\n",
    "\n",
    "\n",
    "**Time segmentation: v2.0**\n",
    "\n",
    ">We segmented spectrogram into 10 super-samples (components), each of 1000ms, and ran SLIME to generate explanations using 5000 samples. We find that among 655 True-positive spoofed files (with probability > 90%), the highest influence is shown for **component 0** that corresponds to **first 300ms**. We get 234 votes from slime.\n",
    "\n",
    "**Frequency segmentation: v1.0**\n",
    "> The highest predictor are component 6 followed by component 0. Similarity with v2.0\n",
    "\n",
    "**Frequency segmentation: v2.0**\n",
    "> We segmented the spectrograms into 8 different frequency bins, each corresponding to 1000Hz and ran SLIME. In this case, we see that the top explanation appears to be favouring frequency bin 7000Hz. The next two frequency information that influences are 4000Hz and 1000Hz.\n",
    "\n",
    "\n",
    "> ***NOTE: In genuine case we got highest vote for 8000Hz bin***\n",
    "\n",
    "**TimexFrequency segmentation: v1.0**\n",
    "> We get component 8 as the highest predictor. Does not match with what we got on v2.0 though !!\n",
    "\n",
    "**TimexFrequency segmentation: v2.0**\n",
    "> We segmented the spectrogram into 30 different timexfrequency bins. We chose 30 to keep our analysis simple. Each component corresponds to 600 msec in time and around 1333 Hz in frequency. \n",
    "\n",
    "> Here, the distribution shows highest for **Component 5 (180)** followed by **component 10(111)**. This distribution is out of 655 spoofed audio files that were classified with probability greater than 90% as spoofed by the CNN.\n",
    "\n",
    "** Correlation between time,frequency and timexfrequency analysis: with respect to v2.0**\n",
    "\n",
    "> Under time analysis we found that the model is highly influenced for first 300ms signal. This relates to the fact that the model seem to exploit information related to DTMF tone that was used for concatenating the original RedDots genuine signal to create spoofed counterparts. SLIME seems to explain this very fact, as we find 234 votes for the spoofed signals with probability greater than 90%. We may still want to double check this fact by just taking the spoofed files with highest probability !\n",
    "\n",
    "> Next interesting observation we find is by doing frequency analysis, we see that spoofed class is looking at the high frequency regions mostly. Frequency component 7000 Hz seems to take the lead, this is followed by 4000Hz frequency bin. This means that spoofed class in not heavily relying on speech signal. Need to double check and add further analysis for significant conclusion.\n",
    "\n",
    "> Further, having done time-frequency analysis together we find component 5 to give highest count. This corresponds to first 6000ms in time and 7998 Hz (1333*6) frequency.\n",
    "\n",
    "\n",
    " "
   ]
  },
  {
   "cell_type": "code",
   "execution_count": null,
   "metadata": {
    "collapsed": true
   },
   "outputs": [],
   "source": []
  }
 ],
 "metadata": {
  "kernelspec": {
   "display_name": "Python 3",
   "language": "python",
   "name": "python3"
  },
  "language_info": {
   "codemirror_mode": {
    "name": "ipython",
    "version": 3
   },
   "file_extension": ".py",
   "mimetype": "text/x-python",
   "name": "python",
   "nbconvert_exporter": "python",
   "pygments_lexer": "ipython3",
   "version": "3.6.1"
  }
 },
 "nbformat": 4,
 "nbformat_minor": 2
}
