{
 "cells": [
  {
   "cell_type": "markdown",
   "metadata": {},
   "source": [
    "# Analysing Spoofed files in dev set - version 2.0 dataset"
   ]
  },
  {
   "cell_type": "markdown",
   "metadata": {},
   "source": [
    "## TODO\n",
    "\n",
    " * Draw scatter plot of posteriors for our best CNN system to project the distribution of genuine and spoofed features\n",
    " * Do this for Development and evaluation set.\n",
    " * On Evaluation set you could do this plot seperately for different Replay configurations (total 57 will be too much though)"
   ]
  },
  {
   "cell_type": "markdown",
   "metadata": {},
   "source": [
    "# Summary of file list for spoofed and genuine files in Development set for analysis"
   ]
  },
  {
   "cell_type": "markdown",
   "metadata": {},
   "source": [
    "## 1) The top 10 spoofed confident correctly classified files : high scores\n",
    "\n",
    "                               Gen prob     Spf Prob      Log Liklihood ratio\n",
    "    837 1.53546e-06 0.999998 -13.3867\n",
    "    787 2.66796e-06 0.999997 -12.8342\n",
    "    818 3.13078e-06 0.999997 -12.6742\n",
    "    774 4.71425e-06 0.999995 -12.2649\n",
    "    263 5.44733e-06 0.999995 -12.1204\n",
    "    882 6.76732e-06 0.999993 -11.9034\n",
    "    807 7.06049e-06 0.999993 -11.861\n",
    "    786 8.35866e-06 0.999992 -11.6922\n",
    "    248 8.47951e-06 0.999992 -11.6778\n",
    "    819 8.50818e-06 0.999992 -11.6745\n",
    "                              \n",
    "\n"
   ]
  },
  {
   "cell_type": "code",
   "execution_count": 390,
   "metadata": {
    "collapsed": true
   },
   "outputs": [],
   "source": [
    "import numpy as np\n",
    "import matplotlib.pyplot as plt\n",
    "from IPython.display import Image\n",
    "\n",
    "%matplotlib inline"
   ]
  },
  {
   "cell_type": "code",
   "execution_count": 391,
   "metadata": {
    "collapsed": true
   },
   "outputs": [],
   "source": [
    "# Load the prediction file\n",
    "# Predictions file that has three columns: genuin, spoofed prob and log likehood ratio\n",
    "\n",
    "pred_file='model_3sec_relu_0.5_run8/predictions/dev_prediction.txt'"
   ]
  },
  {
   "cell_type": "code",
   "execution_count": 392,
   "metadata": {
    "collapsed": true
   },
   "outputs": [],
   "source": [
    "all_predictions = []\n",
    "all_gens = []\n",
    "all_spoofs = []\n",
    "\n",
    "with open(pred_file) as f:\n",
    "    all_predictions = [line.strip() for line in f]\n",
    "    \n",
    "all_gen_predictions = all_predictions[:760]                    # first 760 files in dev are genuine\n",
    "all_spf_predictions = all_predictions[760:]                  # files from 761-1710 are spoofed examples"
   ]
  },
  {
   "cell_type": "code",
   "execution_count": 393,
   "metadata": {
    "collapsed": true
   },
   "outputs": [],
   "source": [
    "all_scores = []\n",
    "\n",
    "with open(pred_file) as f:\n",
    "    all_scores = [line.strip().split(' ')[2] for line in f]\n",
    "    \n",
    "all_gen_scores = all_scores[:760]\n",
    "all_spf_scores = all_scores[760:]"
   ]
  },
  {
   "cell_type": "code",
   "execution_count": 394,
   "metadata": {},
   "outputs": [
    {
     "name": "stdout",
     "output_type": "stream",
     "text": [
      "760\n",
      "950\n"
     ]
    }
   ],
   "source": [
    "print(len(all_gen_scores))\n",
    "print(len(all_spf_scores))"
   ]
  },
  {
   "cell_type": "code",
   "execution_count": 395,
   "metadata": {},
   "outputs": [
    {
     "name": "stdout",
     "output_type": "stream",
     "text": [
      "['-4.07604', '-8.03727', '-4.36948', '-4.70375', '-1.91081', '-0.697803', '1.95232', '-3.31911', '-1.7775', '-0.200272']\n"
     ]
    }
   ],
   "source": [
    "print(all_spf_scores[0:10])"
   ]
  },
  {
   "cell_type": "markdown",
   "metadata": {},
   "source": [
    "## Prepare file-list for top spoofed files"
   ]
  },
  {
   "cell_type": "code",
   "execution_count": 396,
   "metadata": {},
   "outputs": [
    {
     "name": "stdout",
     "output_type": "stream",
     "text": [
      "Total count =  655\n"
     ]
    }
   ],
   "source": [
    "# We select all those spoofed files that got spoofed probability > 90% (We gave selection criterion score<-0.3). \n",
    "# Print the results, its fine for now. \n",
    "\n",
    "fname='index_file_list/allSpoofIndexList_TP.txt'\n",
    "f=open(fname,'w')\n",
    "\n",
    "spfFileList = list()\n",
    "count=0\n",
    "\n",
    "for i in spf_sort_index:\n",
    "    score= all_spf_predictions[i].strip().split(' ')[2]\n",
    "    if float(score) < -3.0:    #-10.0:\n",
    "        spfFileList.append(str(i) + ' ' + str(all_spf_predictions[i]))\n",
    "        count += 1\n",
    "print('Total count = ',count)\n",
    "\n",
    "# Reverse sort the list- so that spoofed files with highest spoof probability are on top\n",
    "sorted_spfList = spfFileList[::-1]\n",
    "for line in sorted_spfList:\n",
    "    f.write(line+'\\n')\n",
    "    #print(line)\n",
    "f.close()\n"
   ]
  },
  {
   "cell_type": "code",
   "execution_count": 397,
   "metadata": {},
   "outputs": [
    {
     "name": "stdout",
     "output_type": "stream",
     "text": [
      "406 4.73483e-05 0.999953 -9.95793\n",
      "825 4.87546e-05 0.999951 -9.92866\n",
      "891 5.13633e-05 0.999949 -9.87653\n",
      "453 5.33837e-05 0.999947 -9.83795\n",
      "881 5.36915e-05 0.999946 -9.8322\n",
      "534 5.412e-05 0.999946 -9.82425\n",
      "533 5.59461e-05 0.999944 -9.79107\n",
      "284 6.28036e-05 0.999937 -9.67544\n",
      "723 6.31056e-05 0.999937 -9.67064\n",
      "438 6.3409e-05 0.999937 -9.66584\n"
     ]
    }
   ],
   "source": [
    "%%bash\n",
    "cat index_file_list/allSpoofIndexList_TP.txt | head"
   ]
  },
  {
   "cell_type": "markdown",
   "metadata": {},
   "source": [
    "***Point***\n",
    "> We select all those spoofed files that got spoofed probability > 90%. We have 655 spoofed files that we can use SLIME to get a reliable estimate for what the CNN might have learned about the spoofed class. Note that when running slime, for many files the SLIME returns no explanation coz we are only returning positive instance explanation. Thus we remove those files.\n",
    "\n",
    "> Therefore, these spoofed files have been classified with > 90% probability of being spoofed"
   ]
  },
  {
   "cell_type": "markdown",
   "metadata": {},
   "source": [
    "## 1) Printing few top spoofed confident correctly classified files - high scores\n",
    "\n",
    "    Gen prob     Spf Prob      Log Liklihood ratio\n",
    "    837 1.53546e-06 0.999998 -13.3867\n",
    "    787 2.66796e-06 0.999997 -12.8342\n",
    "    818 3.13078e-06 0.999997 -12.6742\n",
    "    774 4.71425e-06 0.999995 -12.2649\n",
    "    263 5.44733e-06 0.999995 -12.1204\n",
    "    882 6.76732e-06 0.999993 -11.9034\n",
    "    807 7.06049e-06 0.999993 -11.861\n",
    "    786 8.35866e-06 0.999992 -11.6922\n",
    "    248 8.47951e-06 0.999992 -11.6778\n",
    "    819 8.50818e-06 0.999992 -11.6745\n",
    "    854 8.9333e-06 0.999991 -11.6257\n",
    "    249 1.16861e-05 0.999988 -11.3571\n",
    "    817 1.21676e-05 0.999988 -11.3167\n",
    "    262 1.45125e-05 0.999985 -11.1405\n",
    "    216 1.61832e-05 0.999984 -11.0315\n",
    "    204 1.71234e-05 0.999983 -10.975\n",
    "    191 1.7362e-05 0.999983 -10.9612\n",
    "    914 1.7689e-05 0.999982 -10.9425\n",
    "    795 1.81139e-05 0.999982 -10.9188\n",
    "    794 1.90792e-05 0.999981 -10.8669\n",
    "    846 1.96264e-05 0.99998 -10.8386\n",
    "    242 2.11725e-05 0.999979 -10.7628\n",
    "    796 2.13798e-05 0.999979 -10.753\n",
    "    832 2.29622e-05 0.999977 -10.6816\n",
    "    407 2.31936e-05 0.999977 -10.6716\n",
    "    821 2.4279e-05 0.999976 -10.6259\n",
    "    692 2.47647e-05 0.999975 -10.6061\n",
    "    833 2.54092e-05 0.999975 -10.5804\n",
    "    237 2.59756e-05 0.999974 -10.5583\n",
    "    761 2.66067e-05 0.999973 -10.5343\n",
    "    913 3.04757e-05 0.999969 -10.3986\n",
    "    809 3.80521e-05 0.999962 -10.1765\n",
    "    941 3.98409e-05 0.99996 -10.1306\n",
    "    751 4.05992e-05 0.999959 -10.1117\n",
    "    778 4.14434e-05 0.999959 -10.0911\n",
    "    823 4.48039e-05 0.999955 -10.0132"
   ]
  },
  {
   "cell_type": "markdown",
   "metadata": {
    "collapsed": true
   },
   "source": [
    "## Analysing Time: The top two components from SLIME - True positive Spoofed case\n",
    "\n",
    "Note, that under time analysis, we have cut our input spectrogram into 10 different temporal components/segments, where each segment correpsonds to\n",
    "\n",
    "> ***300 mili seconds***"
   ]
  },
  {
   "cell_type": "code",
   "execution_count": 398,
   "metadata": {},
   "outputs": [
    {
     "data": {
      "image/png": "[encoded data removed]",
      "text/plain": [
       "<IPython.core.display.Image object>"
      ]
     },
     "execution_count": 398,
     "metadata": {},
     "output_type": "execute_result"
    }
   ],
   "source": [
    "# Show how we cut the spectrogram in timexfrequency\n",
    "\n",
    "Image(\"time.png\")"
   ]
  },
  {
   "cell_type": "code",
   "execution_count": 399,
   "metadata": {
    "collapsed": true
   },
   "outputs": [],
   "source": [
    "file = 'top_two_explanation_indices/time/spoof_TP.txt'"
   ]
  },
  {
   "cell_type": "code",
   "execution_count": 400,
   "metadata": {},
   "outputs": [
    {
     "name": "stdout",
     "output_type": "stream",
     "text": [
      "0 -999\n",
      "1 5\n",
      "5 6\n",
      "0 1\n",
      "5 2\n",
      "0 -999\n",
      "0 -999\n",
      "7 8\n",
      "1 -999\n",
      "0 -999\n"
     ]
    }
   ],
   "source": [
    "%%bash\n",
    "cat top_two_explanation_indices/time/spoof_TP.txt  | head"
   ]
  },
  {
   "cell_type": "code",
   "execution_count": 401,
   "metadata": {
    "collapsed": true
   },
   "outputs": [],
   "source": [
    "def get_top1_top2_list(file):\n",
    "    with open(file) as f:\n",
    "        top1 = [int(line.strip().split(' ')[0]) for line in f]\n",
    "    with open(file) as f:  \n",
    "        top2 = [int(line.strip().split(' ')[1]) for line in f]\n",
    "    return top1, top2    "
   ]
  },
  {
   "cell_type": "code",
   "execution_count": 402,
   "metadata": {
    "collapsed": true
   },
   "outputs": [],
   "source": [
    "# Get top1 and top2 in seperate list\n",
    "top1, top2 = get_top1_top2_list(file)"
   ]
  },
  {
   "cell_type": "code",
   "execution_count": 403,
   "metadata": {},
   "outputs": [
    {
     "name": "stdout",
     "output_type": "stream",
     "text": [
      "452\n",
      "452\n"
     ]
    }
   ],
   "source": [
    "print(len(top1))\n",
    "print(len(top2))"
   ]
  },
  {
   "cell_type": "code",
   "execution_count": 404,
   "metadata": {
    "collapsed": true
   },
   "outputs": [],
   "source": [
    "def get_counts(datalist, key):\n",
    "    count=0\n",
    "    for i in range(0,len(datalist)):\n",
    "        if datalist[i] == key:\n",
    "            count+=1\n",
    "    return count            "
   ]
  },
  {
   "cell_type": "code",
   "execution_count": 405,
   "metadata": {
    "collapsed": true
   },
   "outputs": [],
   "source": [
    "def print_component_distribution(comps, predList, order):\n",
    "    print('Printing component weigting distribution for Top:', order)\n",
    "    for i in comps:\n",
    "        print('Component ' + str(i) + ' : ' + str(get_counts(predList, i)))    "
   ]
  },
  {
   "cell_type": "markdown",
   "metadata": {},
   "source": [
    "### Using the top1 components - given by SLIME (Time segmentation)\n",
    "\n",
    "> For ***run1*** we get following distribution:\n",
    "\n",
    "    "
   ]
  },
  {
   "cell_type": "code",
   "execution_count": 406,
   "metadata": {
    "collapsed": true
   },
   "outputs": [],
   "source": [
    "comps=[0,1,2,3,4,5,6,7,8,9]    # In time we have 10 segments/components"
   ]
  },
  {
   "cell_type": "code",
   "execution_count": 407,
   "metadata": {},
   "outputs": [
    {
     "name": "stdout",
     "output_type": "stream",
     "text": [
      "Printing component weigting distribution for Top: 1\n",
      "Component 0 : 234\n",
      "Component 1 : 63\n",
      "Component 2 : 12\n",
      "Component 3 : 3\n",
      "Component 4 : 9\n",
      "Component 5 : 12\n",
      "Component 6 : 34\n",
      "Component 7 : 68\n",
      "Component 8 : 17\n",
      "Component 9 : 0\n"
     ]
    }
   ],
   "source": [
    "# Print distribution on top1\n",
    "order = 1\n",
    "print_component_distribution(comps, top1, order)"
   ]
  },
  {
   "cell_type": "markdown",
   "metadata": {},
   "source": [
    "*** Observation ***\n",
    "> Top1 predictions favours the **first 300ms**. We get 234 votes from slime, which is heavily dominating other components as seen above."
   ]
  },
  {
   "cell_type": "markdown",
   "metadata": {},
   "source": [
    "### Using the top2 components - given by SLIME (Time segmentation)\n",
    "\n",
    "> For ***Run1*** we get following distribution\n"
   ]
  },
  {
   "cell_type": "code",
   "execution_count": 408,
   "metadata": {},
   "outputs": [
    {
     "name": "stdout",
     "output_type": "stream",
     "text": [
      "Printing component weigting distribution for Top: 2\n",
      "Component 0 : 18\n",
      "Component 1 : 69\n",
      "Component 2 : 11\n",
      "Component 3 : 2\n",
      "Component 4 : 12\n",
      "Component 5 : 12\n",
      "Component 6 : 38\n",
      "Component 7 : 44\n",
      "Component 8 : 21\n",
      "Component 9 : 4\n"
     ]
    }
   ],
   "source": [
    "# Print distribution on top2\n",
    "\n",
    "order = 2\n",
    "print_component_distribution(comps, top2, order)"
   ]
  },
  {
   "cell_type": "markdown",
   "metadata": {},
   "source": [
    "*** Observation***\n",
    "> Top2 gives highest favour for component 2 (69) that corresponds to 600ms. "
   ]
  },
  {
   "cell_type": "code",
   "execution_count": 409,
   "metadata": {},
   "outputs": [
    {
     "data": {
      "text/plain": [
       "<matplotlib.collections.PathCollection at 0x7f97bf921278>"
      ]
     },
     "execution_count": 409,
     "metadata": {},
     "output_type": "execute_result"
    },
    {
     "data": {
      "image/png": "[encoded data removed]",
      "text/plain": [
       "<matplotlib.figure.Figure at 0x7f97bfb62c50>"
      ]
     },
     "metadata": {},
     "output_type": "display_data"
    }
   ],
   "source": [
    "# Just a quick scatter plot\n",
    "\n",
    "plt.scatter(top1, top2)"
   ]
  },
  {
   "cell_type": "code",
   "execution_count": 410,
   "metadata": {},
   "outputs": [],
   "source": [
    "# Get those file index having component4 in top explanation\n",
    "\n",
    "fname='index_file_list/allSpoofIndexList_TP.txt'\n",
    "with open(fname) as f:\n",
    "    file_idxs = [line.strip() for line in f]  \n",
    "    \n",
    "# Write the top component index to the file and further analysis\n",
    "\n",
    "fname='top_two_explanation_indices/time/topExplanation_list_spoof_TP.txt'\n",
    "id4_indexFiles=list() \n",
    "\n",
    "f=open(fname,'w')\n",
    "for i in range(len(top1)):\n",
    "    if top1[i]==3:    # if top explanation index is 3 (which is actually 4)\n",
    "        id4_indexFiles.append(file_idxs[i])\n",
    "        f.write(str(file_idxs[i])+'\\n')\n",
    "        \n",
    "f.close()"
   ]
  },
  {
   "cell_type": "markdown",
   "metadata": {},
   "source": [
    "### Note: \n",
    "> the file topExplanation_list_spoof_TP.txt will have four columns\n",
    "> The first column denotes file index (index from 0), second and third specifies genuine and spoofed probability, while last specifies the LLR score\n",
    "\n",
    "### What have we done so far\n",
    "\n",
    " 1. We took all spoofed files that were correctly classified by CNN. We took files for which spoofed probability is greater than 90% and get 655 files.\n",
    " 1. Then we applied SLIME. We segmented along time. We partitioned these files in 10 parts, each of 300ms. We then obtained top 2 influencing component index.\n",
    " 1. We then analysed the explanation index distribution for these 766 files and find that the component 4 "
   ]
  },
  {
   "cell_type": "markdown",
   "metadata": {
    "collapsed": true
   },
   "source": [
    "## Analysing Freq: The top two components from SLIME - True positive Spoofed\n",
    "\n",
    "Note, that under frequency analysis, we have cut our input spectrogram into 8 different frequency components/segments, where each segment correpsonds to\n",
    "\n",
    "> ***1000 Hz frequency***"
   ]
  },
  {
   "cell_type": "code",
   "execution_count": 411,
   "metadata": {},
   "outputs": [
    {
     "data": {
      "image/png": "[encoded data removed]",
      "text/plain": [
       "<IPython.core.display.Image object>"
      ]
     },
     "execution_count": 411,
     "metadata": {},
     "output_type": "execute_result"
    }
   ],
   "source": [
    "# Show how we cut the spectrogram in timexfrequency\n",
    "\n",
    "Image(\"frequency.png\")"
   ]
  },
  {
   "cell_type": "code",
   "execution_count": 412,
   "metadata": {
    "collapsed": true
   },
   "outputs": [],
   "source": [
    "file = 'top_two_explanation_indices/freq/spoof_TP.txt'"
   ]
  },
  {
   "cell_type": "code",
   "execution_count": 413,
   "metadata": {},
   "outputs": [
    {
     "name": "stdout",
     "output_type": "stream",
     "text": [
      "0 5\n",
      "6 1\n",
      "6 3\n",
      "0 5\n",
      "6 5\n",
      "5 1\n",
      "0 3\n",
      "3 0\n",
      "0 5\n",
      "6 1\n"
     ]
    }
   ],
   "source": [
    "%%bash\n",
    "cat 'top_two_explanation_indices/freq/spoof_TP.txt' | head\n",
    "\n",
    "# the top two components 7 6 dominates the explanation"
   ]
  },
  {
   "cell_type": "code",
   "execution_count": 414,
   "metadata": {
    "collapsed": true
   },
   "outputs": [],
   "source": [
    "# Get top1 and top2 in seperate list\n",
    "top1, top2 = get_top1_top2_list(file)"
   ]
  },
  {
   "cell_type": "code",
   "execution_count": 415,
   "metadata": {
    "collapsed": true
   },
   "outputs": [],
   "source": [
    "# Top 2 may have -999 that we added when running SLIME. Remove those files in top2"
   ]
  },
  {
   "cell_type": "code",
   "execution_count": 416,
   "metadata": {},
   "outputs": [
    {
     "name": "stdout",
     "output_type": "stream",
     "text": [
      "628\n",
      "628\n"
     ]
    }
   ],
   "source": [
    "print(len(top1))\n",
    "print(len(top2))"
   ]
  },
  {
   "cell_type": "markdown",
   "metadata": {},
   "source": [
    "## Top 1 component distribution - Frequency"
   ]
  },
  {
   "cell_type": "code",
   "execution_count": 417,
   "metadata": {
    "collapsed": true
   },
   "outputs": [],
   "source": [
    "comps = [0,1,2,3,4,5,6,7]   # in Frequency we have 8 components"
   ]
  },
  {
   "cell_type": "code",
   "execution_count": 418,
   "metadata": {},
   "outputs": [
    {
     "name": "stdout",
     "output_type": "stream",
     "text": [
      "Printing component weigting distribution for Top: 1\n",
      "Component 0 : 113\n",
      "Component 1 : 30\n",
      "Component 2 : 6\n",
      "Component 3 : 128\n",
      "Component 4 : 6\n",
      "Component 5 : 46\n",
      "Component 6 : 299\n",
      "Component 7 : 0\n"
     ]
    }
   ],
   "source": [
    "# Print distribution on top1\n",
    "\n",
    "order = 1\n",
    "print_component_distribution(comps, top1, order)"
   ]
  },
  {
   "cell_type": "code",
   "execution_count": 419,
   "metadata": {},
   "outputs": [
    {
     "data": {
      "text/plain": [
       "[<matplotlib.lines.Line2D at 0x7f97bf843240>]"
      ]
     },
     "execution_count": 419,
     "metadata": {},
     "output_type": "execute_result"
    },
    {
     "data": {
      "image/png": "[encoded data removed]",
      "text/plain": [
       "<matplotlib.figure.Figure at 0x7f97bf928898>"
      ]
     },
     "metadata": {},
     "output_type": "display_data"
    }
   ],
   "source": [
    "# Plot the distribution\n",
    "plt.plot(top1,'.')"
   ]
  },
  {
   "cell_type": "markdown",
   "metadata": {},
   "source": [
    "***Observation***\n",
    "> We see that under frequency analysis, the top explanation appears to be favouring frequency bin 7000Hz. The next two frequency information that influences are 4000Hz and 1000Hz.\n",
    "\n",
    "***Out of total 655 spoofed files***\n",
    " 1. 299 belongs to 7000Hz\n",
    " 1. 128 for 4000 Hz\n",
    " 1. 113 for 1000 Hz\n"
   ]
  },
  {
   "cell_type": "markdown",
   "metadata": {},
   "source": [
    "## Top 2 component distribution - Frequency"
   ]
  },
  {
   "cell_type": "code",
   "execution_count": 420,
   "metadata": {},
   "outputs": [
    {
     "name": "stdout",
     "output_type": "stream",
     "text": [
      "Printing component weigting distribution for Top: 2\n",
      "Component 0 : 0\n",
      "Component 1 : 155\n",
      "Component 2 : 22\n",
      "Component 3 : 161\n",
      "Component 4 : 26\n",
      "Component 5 : 41\n",
      "Component 6 : 26\n",
      "Component 7 : 0\n"
     ]
    }
   ],
   "source": [
    "# Print distribution on top2\n",
    "top2 = [value for value in top2 if value > 0]     # make sure to remove those -999 instances from top2\n",
    "order = 2\n",
    "print_component_distribution(comps, top2, order)"
   ]
  },
  {
   "cell_type": "code",
   "execution_count": 421,
   "metadata": {},
   "outputs": [
    {
     "data": {
      "text/plain": [
       "[<matplotlib.lines.Line2D at 0x7f97a75dcba8>]"
      ]
     },
     "execution_count": 421,
     "metadata": {},
     "output_type": "execute_result"
    },
    {
     "data": {
      "image/png": "[encoded data removed]",
      "text/plain": [
       "<matplotlib.figure.Figure at 0x7f97bf8765f8>"
      ]
     },
     "metadata": {},
     "output_type": "display_data"
    }
   ],
   "source": [
    "# Plot the top2 distribution\n",
    "plt.plot(top2,'.')"
   ]
  },
  {
   "cell_type": "markdown",
   "metadata": {},
   "source": [
    "**NOTE: **\n",
    "> In SLIME code, as I was returning two indices, for spoofed files SLIME was only returning positive index, which in many cases was only one, therefore, I put -999 as the second value (just not to break the code and make changes)\n",
    "\n",
    "##### So above -1000 line shown is to be just ignored !!"
   ]
  },
  {
   "cell_type": "code",
   "execution_count": 422,
   "metadata": {
    "collapsed": true
   },
   "outputs": [],
   "source": [
    "# Get those file index having component8 in top explanation (as for frequency we get top explanation at index8)\n",
    "\n",
    "top = 6   # Define this value for each case of analysis\n",
    "\n",
    "fname='index_file_list/allSpoofIndexList_TP.txt'\n",
    "with open(fname) as f:\n",
    "    #file_idxs = [int(line.strip().split(' ')[0]) for line in f]\n",
    "    file_idxs = [line.strip() for line in f]\n",
    "    \n",
    "#Write the top component index to the file and further analysis\n",
    "fname='top_two_explanation_indices/freq/topExplanation_list_spoof_TP.txt'\n",
    "id8_indexFiles=list() \n",
    "\n",
    "f=open(fname,'w')\n",
    "for i in range(len(top1)):\n",
    "    if top1[i]==top:    # if top explanation index is 3 (which is actually 4)\n",
    "        id8_indexFiles.append(file_idxs[i])\n",
    "        f.write(str(file_idxs[i])+'\\n')\n",
    "        \n",
    "f.close()"
   ]
  },
  {
   "cell_type": "markdown",
   "metadata": {},
   "source": [
    "** Observations**\n",
    "\n",
    "\n",
    "> What has the CNN learned about the genuine and spoofed classes?\n"
   ]
  },
  {
   "cell_type": "markdown",
   "metadata": {},
   "source": [
    "## Analysing timexFreq: The top two components from SLIME - True positive Spoofed case\n",
    "\n",
    "Note, that under timexfrequency analysis, we have cut our input spectrogram into 30 different segments, where each segment correpsonds to\n",
    "\n",
    "> ***600 msec in time and around 1333 Hz in frequency***"
   ]
  },
  {
   "cell_type": "code",
   "execution_count": 423,
   "metadata": {},
   "outputs": [
    {
     "data": {
      "image/png": "[encoded data removed]",
      "text/plain": [
       "<IPython.core.display.Image object>"
      ]
     },
     "execution_count": 423,
     "metadata": {},
     "output_type": "execute_result"
    }
   ],
   "source": [
    "# Show how we cut the spectrogram in timexfrequency\n",
    "\n",
    "Image(\"timexfrequency.png\")"
   ]
  },
  {
   "cell_type": "code",
   "execution_count": 424,
   "metadata": {
    "collapsed": true
   },
   "outputs": [],
   "source": [
    "file = 'top_two_explanation_indices/tf/spoof_TP.txt'"
   ]
  },
  {
   "cell_type": "code",
   "execution_count": 425,
   "metadata": {},
   "outputs": [
    {
     "name": "stdout",
     "output_type": "stream",
     "text": [
      "208\n"
     ]
    }
   ],
   "source": [
    "%%bash\n",
    "cat 'top_two_explanation_indices/tf/spoof_TP.txt' | grep 0 | wc -l\n",
    "#cat 'top_two_explanation_indices/tf/spoof_TP.txt' \n",
    "\n",
    "# the indexes 11,23 and 17 seems to be appearing mostly\n",
    "# Index 11 occuring - 498 times (in top2)\n",
    "# Index 23 occurs 204 times in top2 pair\n",
    "# Index 17 appears 394 times in top2 pair\n",
    "\n",
    "#16,28,17,9,29,5,23,20,0,18,1\n",
    "\n",
    "# Component 16 appears 99 times\n",
    "# Component 28 appears 12 times\n",
    "# Component 17 appears 19 times\n",
    "# Component 9 appears 77 times\n",
    "# Component 29 appears 55 times\n",
    "# Component 5 appears 300 times\n",
    "# Component 23 appears 102 times\n",
    "# Component 20 appears 21 times\n",
    "# Component 0 appears 208 times\n",
    "\n",
    "# Note grep looks all appearances. This cound indicates both first and second"
   ]
  },
  {
   "cell_type": "markdown",
   "metadata": {},
   "source": [
    "#### quick note\n",
    "\n",
    ">  Along timexfrequency analysis\n",
    "\n",
    " 1. Component 16 appears 99 times\n",
    " 2. Component 28 appears 12 times\n",
    " 3. Component 17 appears 19 times\n",
    " 4. Component 9 appears 77 times\n",
    " 5. Component 29 appears 55 times\n",
    " 6. Component 5 appears 300 times\n",
    " 7. Component 23 appears 102 times\n",
    " 8. Component 20 appears 21 times\n",
    " 9. Component 0 appears 208 times\n",
    "\n",
    "Note grep looks all appearances. This cound indicates both first and second\n",
    "\n",
    "** Note ** Indexes starts with 0, so 11 here is 12th component "
   ]
  },
  {
   "cell_type": "code",
   "execution_count": 426,
   "metadata": {},
   "outputs": [
    {
     "name": "stdout",
     "output_type": "stream",
     "text": [
      "655\n",
      "655\n"
     ]
    }
   ],
   "source": [
    "# Get top1 and top2 in seperate list\n",
    "top1, top2 = get_top1_top2_list(file)\n",
    "print(len(top1))\n",
    "print(len(top2))"
   ]
  },
  {
   "cell_type": "markdown",
   "metadata": {},
   "source": [
    "## Top 1 component distribution - time x Frequency"
   ]
  },
  {
   "cell_type": "code",
   "execution_count": 427,
   "metadata": {
    "collapsed": true
   },
   "outputs": [],
   "source": [
    "comps = np.arange(0,30)   # in timexfrequency we have 30 components"
   ]
  },
  {
   "cell_type": "code",
   "execution_count": 428,
   "metadata": {},
   "outputs": [
    {
     "name": "stdout",
     "output_type": "stream",
     "text": [
      "Printing component weigting distribution for Top: 1\n",
      "Component 0 : 23\n",
      "Component 1 : 63\n",
      "Component 2 : 4\n",
      "Component 3 : 5\n",
      "Component 4 : 10\n",
      "Component 5 : 180\n",
      "Component 6 : 0\n",
      "Component 7 : 1\n",
      "Component 8 : 35\n",
      "Component 9 : 7\n",
      "Component 10 : 111\n",
      "Component 11 : 0\n",
      "Component 12 : 0\n",
      "Component 13 : 1\n",
      "Component 14 : 2\n",
      "Component 15 : 0\n",
      "Component 16 : 53\n",
      "Component 17 : 7\n",
      "Component 18 : 25\n",
      "Component 19 : 0\n",
      "Component 20 : 6\n",
      "Component 21 : 9\n",
      "Component 22 : 7\n",
      "Component 23 : 56\n",
      "Component 24 : 6\n",
      "Component 25 : 30\n",
      "Component 26 : 0\n",
      "Component 27 : 0\n",
      "Component 28 : 2\n",
      "Component 29 : 12\n"
     ]
    }
   ],
   "source": [
    "# Print distribution on top1\n",
    "\n",
    "order = 1\n",
    "print_component_distribution(comps, top1, order)"
   ]
  },
  {
   "cell_type": "markdown",
   "metadata": {},
   "source": [
    "*** Observation ***\n",
    "> Distribution shows highest for Component 5 (180), next for component 10(111), next 1(63) as shown about. This distribution is out of 655 spoofed audio files that were classified with probability greater than 90% as spoofed by the CNN."
   ]
  },
  {
   "cell_type": "markdown",
   "metadata": {},
   "source": [
    "## Top 2 component distribution - time x Frequency"
   ]
  },
  {
   "cell_type": "code",
   "execution_count": 429,
   "metadata": {},
   "outputs": [
    {
     "name": "stdout",
     "output_type": "stream",
     "text": [
      "Printing component weigting distribution for Top: 2\n",
      "Component 0 : 19\n",
      "Component 1 : 83\n",
      "Component 2 : 16\n",
      "Component 3 : 4\n",
      "Component 4 : 23\n",
      "Component 5 : 74\n",
      "Component 6 : 1\n",
      "Component 7 : 0\n",
      "Component 8 : 43\n",
      "Component 9 : 14\n",
      "Component 10 : 42\n",
      "Component 11 : 7\n",
      "Component 12 : 5\n",
      "Component 13 : 4\n",
      "Component 14 : 14\n",
      "Component 15 : 3\n",
      "Component 16 : 46\n",
      "Component 17 : 12\n",
      "Component 18 : 52\n",
      "Component 19 : 1\n",
      "Component 20 : 15\n",
      "Component 21 : 21\n",
      "Component 22 : 14\n",
      "Component 23 : 46\n",
      "Component 24 : 10\n",
      "Component 25 : 31\n",
      "Component 26 : 2\n",
      "Component 27 : 0\n",
      "Component 28 : 10\n",
      "Component 29 : 43\n"
     ]
    }
   ],
   "source": [
    "# Print distribution on top2\n",
    "\n",
    "order = 2\n",
    "print_component_distribution(comps, top2, order)"
   ]
  },
  {
   "cell_type": "markdown",
   "metadata": {},
   "source": [
    "**Observations**\n",
    "\n",
    "> Under top2, we find component 1 as highest (83)"
   ]
  },
  {
   "cell_type": "markdown",
   "metadata": {},
   "source": [
    "# Overall Summary from this study (considering only top1 explanation)"
   ]
  },
  {
   "cell_type": "markdown",
   "metadata": {},
   "source": [
    "**Time segmentation**\n",
    "\n",
    ">We segmented spectrogram into 10 super-samples (components), each of 1000ms, and ran SLIME to generate explanations using 5000 samples. We find that among 655 True-positive spoofed files (with probability > 90%), the highest influence is shown for **component 0** that corresponds to **first 300ms**. We get 234 votes from slime.\n",
    "\n",
    "\n",
    "**Frequency segmentation**\n",
    "> We segmented the spectrograms into 8 different frequency bins, each corresponding to 1000Hz and ran SLIME. In this case, we see that the top explanation appears to be favouring frequency bin 7000Hz. The next two frequency information that influences are 4000Hz and 1000Hz.\n",
    "\n",
    "\n",
    "> ***NOTE: In genuine case we got highest vote for 8000Hz bin***\n",
    "\n",
    "**TimexFrequency segmentation**\n",
    "> We segmented the spectrogram into 30 different timexfrequency bins. We chose 30 to keep our analysis simple. Each component corresponds to 600 msec in time and around 1333 Hz in frequency. \n",
    "\n",
    "> Here, the distribution shows highest for **Component 5 (180)** followed by **component 10(111)**. This distribution is out of 655 spoofed audio files that were classified with probability greater than 90% as spoofed by the CNN.\n",
    "\n",
    "** Correlation between time,frequency and timexfrequency analysis**\n",
    "\n",
    "> Under time analysis we found that the model is highly influenced for first 300ms signal. This relates to the fact that the model seem to exploit information related to DTMF tone that was used for concatenating the original RedDots genuine signal to create spoofed counterparts. SLIME seems to explain this very fact, as we find 234 votes for the spoofed signals with probability greater than 90%. We may still want to double check this fact by just taking the spoofed files with highest probability !\n",
    "\n",
    "> Next interesting observation we find is by doing frequency analysis, we see that spoofed class is looking at the high frequency regions mostly. Frequency component 7000 Hz seems to take the lead, this is followed by 4000Hz frequency bin. This means that spoofed class in not heavily relying on speech signal. Need to double check and add further analysis for significant conclusion.\n",
    "\n",
    "> Further, having done time-frequency analysis together we find component 5 to give highest count. This corresponds to first 6000ms in time and 7998 Hz (1333*6) frequency.\n",
    "\n",
    "\n",
    " "
   ]
  },
  {
   "cell_type": "code",
   "execution_count": null,
   "metadata": {
    "collapsed": true
   },
   "outputs": [],
   "source": []
  }
 ],
 "metadata": {
  "kernelspec": {
   "display_name": "Python 3",
   "language": "python",
   "name": "python3"
  },
  "language_info": {
   "codemirror_mode": {
    "name": "ipython",
    "version": 3
   },
   "file_extension": ".py",
   "mimetype": "text/x-python",
   "name": "python",
   "nbconvert_exporter": "python",
   "pygments_lexer": "ipython3",
   "version": "3.6.1"
  }
 },
 "nbformat": 4,
 "nbformat_minor": 2
}
