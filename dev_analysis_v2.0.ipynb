{
 "cells": [
  {
   "cell_type": "markdown",
   "metadata": {},
   "source": [
    "## TODO\n",
    "\n",
    " * Draw scatter plot of posteriors for our best CNN system to project the distribution of genuine and spoofed features\n",
    " * Do this for Development and evaluation set.\n",
    " * On Evaluation set you could do this plot seperately for different Replay configurations (total 57 will be too much though)"
   ]
  },
  {
   "cell_type": "markdown",
   "metadata": {},
   "source": [
    "# Summary of file list for spoofed and genuine files in Development set for analysis"
   ]
  },
  {
   "cell_type": "markdown",
   "metadata": {},
   "source": [
    "## 1) The top 10 genuine confident correctly classified files : high scores\n",
    "\n",
    "                               Gen prob     Spf Prob      Log Liklihood ratio\n",
    "    Dev file index: 572 0.999953 4.72011e-05 9.96105\n",
    "    Dev file index: 414 0.999953 4.73798e-05 9.95727\n",
    "    Dev file index: 575 0.999952 4.80018e-05 9.94422\n",
    "    Dev file index: 546 0.999948 5.16748e-05 9.87049\n",
    "    Dev file index: 550 0.999948 5.23234e-05 9.85801\n",
    "    Dev file index: 426 0.999948 5.23301e-05 9.85789\n",
    "    Dev file index: 462 0.999945 5.53242e-05 9.80224\n",
    "    Dev file index: 507 0.999945 5.54301e-05 9.80033\n",
    "    Dev file index: 530 0.999943 5.73259e-05 9.7667\n",
    "    Dev file index: 607 0.999941 5.94154e-05 9.7309\n",
    "    Dev file index: 540 0.999938 6.17601e-05 9.69219\n",
    "    Dev file index: 619 0.999938 6.1868e-05 9.69044                               \n",
    "                               \n",
    "\n",
    "## All genuine files that got score < 0.5\n",
    "\n",
    "       \n",
    "       \n",
    "**** Note when accessing via list or array, index 575 should be called as 574       "
   ]
  },
  {
   "cell_type": "code",
   "execution_count": 145,
   "metadata": {
    "collapsed": true
   },
   "outputs": [],
   "source": [
    "import numpy as np\n",
    "import matplotlib.pyplot as plt\n",
    "\n",
    "%matplotlib inline"
   ]
  },
  {
   "cell_type": "code",
   "execution_count": 146,
   "metadata": {
    "collapsed": true
   },
   "outputs": [],
   "source": [
    "# Load the prediction file\n",
    "# Predictions file that has three columns: genuin, spoofed prob and log likehood ratio\n",
    "\n",
    "pred_file='model_3sec_relu_0.5_run8/predictions/dev_prediction.txt'"
   ]
  },
  {
   "cell_type": "code",
   "execution_count": 147,
   "metadata": {
    "collapsed": true
   },
   "outputs": [],
   "source": [
    "all_predictions = []\n",
    "all_gens = []\n",
    "all_spoofs = []\n",
    "\n",
    "with open(pred_file) as f:\n",
    "    all_predictions = [line.strip() for line in f]\n",
    "    \n",
    "all_gen_predictions = all_predictions[:760]                    # first 760 files in dev are genuine\n",
    "all_spf_predictions = all_predictions[760:]                  # files from 761-1710 are spoofed examples"
   ]
  },
  {
   "cell_type": "code",
   "execution_count": 148,
   "metadata": {
    "collapsed": true
   },
   "outputs": [],
   "source": [
    "all_scores = []\n",
    "\n",
    "with open(pred_file) as f:\n",
    "    all_scores = [line.strip().split(' ')[2] for line in f]\n",
    "    \n",
    "all_gen_scores = all_scores[:760]\n",
    "all_spf_scores = all_scores[760:]"
   ]
  },
  {
   "cell_type": "code",
   "execution_count": 149,
   "metadata": {},
   "outputs": [
    {
     "name": "stdout",
     "output_type": "stream",
     "text": [
      "760\n",
      "950\n"
     ]
    }
   ],
   "source": [
    "print(len(all_gen_scores))\n",
    "print(len(all_spf_scores))"
   ]
  },
  {
   "cell_type": "markdown",
   "metadata": {},
   "source": [
    "### Sort the genuine indexes"
   ]
  },
  {
   "cell_type": "code",
   "execution_count": 150,
   "metadata": {
    "collapsed": true
   },
   "outputs": [],
   "source": [
    "gen_sort_index = np.argsort(all_gen_scores)\n",
    "gen_sort_index = gen_sort_index[::-1]        # reverse it in descending order"
   ]
  },
  {
   "cell_type": "code",
   "execution_count": 151,
   "metadata": {},
   "outputs": [
    {
     "name": "stdout",
     "output_type": "stream",
     "text": [
      "Total count =  736\n"
     ]
    }
   ],
   "source": [
    "# Get count of all genuine files that score > 0.5 and put it in a list with following format\n",
    "# file_idx genProb spfProb score\n",
    "\n",
    "fname = 'allGenIndexList_TP.txt'\n",
    "f=open(fname,'w')\n",
    "\n",
    "#genFileList = list()\n",
    "count=0\n",
    "\n",
    "for i in gen_sort_index:    #[0:10]:\n",
    "    #print('Dev file index: ' + str(i+1) + ' ' + str(all_gen_predictions[i]))    \n",
    "    score= all_gen_predictions[i].strip().split(' ')[2]\n",
    "    if float(score) > 0.5:\n",
    "        #print('Dev file index: ' + str(i+1) + ' ' + str(all_gen_predictions[i]))\n",
    "        #entry=str(i) + ' ' + str(all_gen_predictions[i])\n",
    "        #genFileList.append(entry)\n",
    "        f.write((str(i) + ' ' + str(all_gen_predictions[i]) + '\\n'))        \n",
    "        count += 1\n",
    "print('Total count = ',count)\n",
    "\n",
    "f.close()\n"
   ]
  },
  {
   "cell_type": "markdown",
   "metadata": {},
   "source": [
    "## 1) Take the top 10 genuine confident correctly classified files - high scores\n",
    "\n",
    "                               Gen prob     Spf Prob      Log Liklihood ratio\n",
    "    Dev file index: 572 0.999953 4.72011e-05 9.96105\n",
    "    Dev file index: 414 0.999953 4.73798e-05 9.95727\n",
    "    Dev file index: 575 0.999952 4.80018e-05 9.94422\n",
    "    Dev file index: 546 0.999948 5.16748e-05 9.87049\n",
    "    Dev file index: 550 0.999948 5.23234e-05 9.85801\n",
    "    Dev file index: 426 0.999948 5.23301e-05 9.85789\n",
    "    Dev file index: 462 0.999945 5.53242e-05 9.80224\n",
    "    Dev file index: 507 0.999945 5.54301e-05 9.80033\n",
    "    Dev file index: 530 0.999943 5.73259e-05 9.7667\n",
    "    Dev file index: 607 0.999941 5.94154e-05 9.7309\n",
    "       \n",
    "**** Note when accessing via list or array, index 575 should be called as 574       "
   ]
  },
  {
   "cell_type": "markdown",
   "metadata": {},
   "source": []
  },
  {
   "cell_type": "code",
   "execution_count": 152,
   "metadata": {},
   "outputs": [
    {
     "name": "stdout",
     "output_type": "stream",
     "text": [
      "Dev file index: 27 0.49145 0.50855 -0.0342036\n",
      "Dev file index: 285 0.46579 0.53421 -0.137054\n",
      "Dev file index: 15 0.463603 0.536397 -0.145846\n",
      "Dev file index: 47 0.453384 0.546616 -0.187008\n",
      "Dev file index: 4 0.435833 0.564167 -0.25809\n",
      "Dev file index: 286 0.328668 0.671332 -0.714215\n",
      "Dev file index: 83 0.321195 0.678805 -0.748286\n",
      "Dev file index: 289 0.31727 0.68273 -0.766346\n",
      "Dev file index: 90 0.309738 0.690262 -0.801343\n",
      "Dev file index: 91 0.300134 0.699866 -0.846661\n",
      "Dev file index: 284 0.283405 0.716595 -0.927632\n",
      "Dev file index: 300 0.26959 0.73041 -0.996702\n",
      "Dev file index: 12 0.269019 0.730981 -0.999606\n",
      "Dev file index: 290 0.218208 0.781792 -1.27614\n",
      "Dev file index: 5 0.143625 0.856375 -1.7855\n",
      "Dev file index: 48 0.0820857 0.917914 -2.41434\n",
      "Dev file index: 82 0.0666967 0.933303 -2.63858\n",
      "Dev file index: 89 0.500997 0.499003 0.00398785\n",
      "Dev file index: 113 0.501411 0.498589 0.00564373\n",
      "Dev file index: 34 0.564512 0.435488 0.259495\n"
     ]
    }
   ],
   "source": [
    "top10_lowest = gen_sort_index[::-1]\n",
    "\n",
    "for i in top10_lowest[0:20]:\n",
    "    print('Dev file index: ' + str(i+1) + ' ' + str(all_gen_predictions[i]))    "
   ]
  },
  {
   "cell_type": "markdown",
   "metadata": {},
   "source": [
    "## 2) Take the top 10 genuine confidently misclassified files - low scores\n",
    "\n",
    "                                     Gen prob     Spf Prob      Log Liklihood ratio\n",
    "              \n",
    "               \n",
    "##### Note when accessing via list or array, index 113 should be called as 112                   "
   ]
  },
  {
   "cell_type": "markdown",
   "metadata": {
    "collapsed": true
   },
   "source": [
    "## The top two components from SLIME - True positive Genuine case"
   ]
  },
  {
   "cell_type": "code",
   "execution_count": 153,
   "metadata": {
    "collapsed": true
   },
   "outputs": [],
   "source": [
    "file = 'time_segmentation_results/top_two_explanation_indices_genPredictions.txt'"
   ]
  },
  {
   "cell_type": "code",
   "execution_count": 154,
   "metadata": {
    "collapsed": true
   },
   "outputs": [],
   "source": [
    "top1=list()\n",
    "top2= list()\n",
    "with open(file) as f:\n",
    "    top1 = [int(line.strip().split(' ')[0]) for line in f]\n",
    "\n",
    "with open(file) as f:  \n",
    "    top2 = [int(line.strip().split(' ')[1]) for line in f]\n",
    "    "
   ]
  },
  {
   "cell_type": "code",
   "execution_count": 155,
   "metadata": {},
   "outputs": [
    {
     "name": "stdout",
     "output_type": "stream",
     "text": [
      "736\n",
      "736\n"
     ]
    }
   ],
   "source": [
    "print(len(top1))\n",
    "print(len(top2))"
   ]
  },
  {
   "cell_type": "code",
   "execution_count": 156,
   "metadata": {
    "collapsed": true
   },
   "outputs": [],
   "source": [
    "comps=[0,1,2,3,4,5,6,7,8,9]\n",
    "\n",
    "def get_counts(datalist, key):\n",
    "    count=0\n",
    "    for i in range(0,len(datalist)):\n",
    "        if datalist[i] == key:\n",
    "            count+=1\n",
    "    return count            "
   ]
  },
  {
   "cell_type": "markdown",
   "metadata": {},
   "source": [
    "### Using the top1 components - given by SLIME (Time segmentation)"
   ]
  },
  {
   "cell_type": "code",
   "execution_count": 157,
   "metadata": {},
   "outputs": [
    {
     "name": "stdout",
     "output_type": "stream",
     "text": [
      "Searching on the top1 components\n",
      "Component 1 : 136\n",
      "Component 2 : 9\n",
      "Component 3 : 62\n",
      "Component 4 : 271\n",
      "Component 5 : 50\n",
      "Component 6 : 119\n",
      "Component 7 : 51\n",
      "Component 8 : 25\n",
      "Component 9 : 3\n",
      "Component 10 : 10\n"
     ]
    }
   ],
   "source": [
    "print('Searching on the top1 components')\n",
    "for i in comps:\n",
    "    print('Component ' + str(i+1) + ' : ' + str(get_counts(top1, i)))"
   ]
  },
  {
   "cell_type": "markdown",
   "metadata": {},
   "source": [
    "### Using the top2 components - given by SLIME (Time segmentation)"
   ]
  },
  {
   "cell_type": "code",
   "execution_count": 158,
   "metadata": {},
   "outputs": [
    {
     "name": "stdout",
     "output_type": "stream",
     "text": [
      "Searching on the top2 components\n",
      "Component 1 : 55\n",
      "Component 2 : 17\n",
      "Component 3 : 89\n",
      "Component 4 : 202\n",
      "Component 5 : 103\n",
      "Component 6 : 121\n",
      "Component 7 : 60\n",
      "Component 8 : 39\n",
      "Component 9 : 16\n",
      "Component 10 : 34\n"
     ]
    }
   ],
   "source": [
    "print('Searching on the top2 components')\n",
    "\n",
    "for i in comps:\n",
    "    print('Component ' + str(i+1) + ' : ' + str(get_counts(top2, i)))"
   ]
  },
  {
   "cell_type": "markdown",
   "metadata": {},
   "source": [
    "From above we see that from 766 genuine TP audio files (that got scores > 0.5) we find that the largest number of times, SLIME gives highest weightage to Component 4 (271 times out of 766). Component 4 corresponds to 900-1200ms audio signal. This is then followed by Component 1 (136) which is the first 300 ms signal.\n",
    "\n",
    "Similary, from the top2 component distribution above, we see that Component 4 recieves the highest vote. This indicates that may be the CNN is getting maximally activated for this.\n",
    "\n",
    " * What to do next?\n",
    "We now pick those 271 audio files that got top1 as component 4 and try to find if we get some meaningful information "
   ]
  },
  {
   "cell_type": "code",
   "execution_count": 159,
   "metadata": {},
   "outputs": [
    {
     "data": {
      "text/plain": [
       "<matplotlib.collections.PathCollection at 0x7ff76032ee10>"
      ]
     },
     "execution_count": 159,
     "metadata": {},
     "output_type": "execute_result"
    },
    {
     "data": {
      "image/png": "[encoded data removed]",
      "text/plain": [
       "<matplotlib.figure.Figure at 0x7ff760433b70>"
      ]
     },
     "metadata": {},
     "output_type": "display_data"
    }
   ],
   "source": [
    "# Just a quick scatter plot\n",
    "\n",
    "plt.scatter(top1, top2)"
   ]
  },
  {
   "cell_type": "code",
   "execution_count": 160,
   "metadata": {},
   "outputs": [],
   "source": [
    "# Get those file index having component4 in top explanation\n",
    "\n",
    "fname = 'allGenIndexList_TP.txt'    # we wrote the actual devfile indices to this file earlier\n",
    "with open(fname) as f:\n",
    "    #file_idxs = [int(line.strip().split(' ')[0]) for line in f]\n",
    "    file_idxs = [line.strip() for line in f]\n",
    "    \n",
    "    \n",
    "# Write the top component index to the file and further analysis\n",
    "fname='topExplanation_list_Genuine_TP.txt'    \n",
    "id4_indexFiles=list() \n",
    "\n",
    "f=open(fname,'w')\n",
    "for i in range(len(top1)):\n",
    "    if top1[i]==3:    # if top explanation index is 3 (which is actually 4)\n",
    "        id4_indexFiles.append(file_idxs[i])\n",
    "        f.write(str(file_idxs[i])+'\\n')\n",
    "        \n",
    "f.close()"
   ]
  },
  {
   "cell_type": "markdown",
   "metadata": {},
   "source": [
    "### Note: \n",
    "> the file topExplanation_list_Genuine_TP.txt will have four columns\n",
    "> The first column denotes file index (index from 0), second and third specifies genuine and spoofed probability, while last specifies the LLR score\n",
    "\n",
    "### What have we done so far\n",
    "\n",
    " 1. We took all genuine files that were correctly classified by CNN. We took 0.5 as score threshold to further filter the genuine files and get 766 genuine TP audio files.\n",
    " 1. Then we applied SLIME. We segmented along time. We partitioned these files in 10 parts, each of 300ms. We then obtained top 2 influencing component index for all these 766 files.\n",
    " 1. We then analysed the explanation index distribution for these 766 files and find that the component 4 that corresponds to 900-1200ms audio are maximally activated (got highest count = 271/766)\n",
    " 1. Then we take these 271 audio file index and plot their spectrograms and try to find similarity.\n"
   ]
  },
  {
   "cell_type": "code",
   "execution_count": null,
   "metadata": {
    "collapsed": true
   },
   "outputs": [],
   "source": []
  }
 ],
 "metadata": {
  "kernelspec": {
   "display_name": "Python 3",
   "language": "python",
   "name": "python3"
  },
  "language_info": {
   "codemirror_mode": {
    "name": "ipython",
    "version": 3
   },
   "file_extension": ".py",
   "mimetype": "text/x-python",
   "name": "python",
   "nbconvert_exporter": "python",
   "pygments_lexer": "ipython3",
   "version": "3.6.1"
  }
 },
 "nbformat": 4,
 "nbformat_minor": 2
}
