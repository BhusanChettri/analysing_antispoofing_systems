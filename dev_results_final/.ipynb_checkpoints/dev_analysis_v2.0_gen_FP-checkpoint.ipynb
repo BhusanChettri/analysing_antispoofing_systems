{
 "cells": [
  {
   "cell_type": "markdown",
   "metadata": {},
   "source": [
    "# Analysing False Positive Genuine files in dev set - version 2.0 dataset\n",
    "\n",
    "> Get SLIME explanation for all those genuine FALSE Positive files. Meaning, these files are genuine files but it is misclassified as spoofed !! Looking at the SLIME explanation we try to infer meaning/correlation with our other observations !\n"
   ]
  },
  {
   "cell_type": "markdown",
   "metadata": {},
   "source": [
    "## The top 10 genuine FP files\n",
    "\n",
    "         Gen prob     Spf Prob      Log Liklihood ratio\n",
    "                               \n",
    "    "
   ]
  },
  {
   "cell_type": "code",
   "execution_count": 1,
   "metadata": {
    "collapsed": true
   },
   "outputs": [],
   "source": [
    "import numpy as np\n",
    "import matplotlib.pyplot as plt\n",
    "from IPython.display import Image\n",
    "\n",
    "%matplotlib inline"
   ]
  },
  {
   "cell_type": "code",
   "execution_count": 3,
   "metadata": {
    "collapsed": true
   },
   "outputs": [],
   "source": [
    "# Load the prediction file\n",
    "# Predictions file that has three columns: genuin, spoofed prob and log likehood ratio\n",
    "\n",
    "pred_file='model_3sec_relu_0.5_run8/predictions/dev_prediction.txt'\n",
    "#new_pred_file = 'model_3sec_relu_0.5_run8/predictions/dev_prediction_with_index.txt'\n",
    "new_pred_file = 'predictions/dev_prediction_with_index.txt'"
   ]
  },
  {
   "cell_type": "code",
   "execution_count": 4,
   "metadata": {},
   "outputs": [
    {
     "data": {
      "text/plain": [
       "\"\\nwith open(pred_file) as f, open(new_pred_file,'w') as f2:\\n    i=0\\n    for line in f:\\n        f2.write(str(i)+' '+ line)\\n        #print(i)\\n        i+=1    \\n\""
      ]
     },
     "execution_count": 4,
     "metadata": {},
     "output_type": "execute_result"
    }
   ],
   "source": [
    "# Create a new prediction file where we write index (starting from 0) as the first column\n",
    "# This way things become much easier\n",
    "\n",
    "'''\n",
    "with open(pred_file) as f, open(new_pred_file,'w') as f2:\n",
    "    i=0\n",
    "    for line in f:\n",
    "        f2.write(str(i)+' '+ line)\n",
    "        #print(i)\n",
    "        i+=1    \n",
    "'''\n",
    "\n",
    "# Above code is just used to append file index in the prediction file\n",
    "# Careful when re-running"
   ]
  },
  {
   "cell_type": "code",
   "execution_count": 5,
   "metadata": {
    "collapsed": true
   },
   "outputs": [],
   "source": [
    "# Separate out predictions of genuine and spoofed files\n",
    "\n",
    "all_predictions = []\n",
    "all_gens = []\n",
    "all_spoofs = []\n",
    "\n",
    "with open(new_pred_file) as f:\n",
    "    all_predictions = [line.strip() for line in f]\n",
    "    \n",
    "all_gen_predictions = all_predictions[:760]                    # first 760 files in dev are genuine\n",
    "all_spf_predictions = all_predictions[760:]                  # files from 761-1710 are spoofed examples"
   ]
  },
  {
   "cell_type": "code",
   "execution_count": 6,
   "metadata": {},
   "outputs": [
    {
     "name": "stdout",
     "output_type": "stream",
     "text": [
      "760\n",
      "950\n"
     ]
    }
   ],
   "source": [
    "print(len(all_gen_predictions))\n",
    "print(len(all_spf_predictions))"
   ]
  },
  {
   "cell_type": "code",
   "execution_count": 7,
   "metadata": {},
   "outputs": [
    {
     "data": {
      "text/plain": [
       "\"\\nfname='index_file_list/allGenIndexList_FP.txt'\\ncount=0\\nsplitIndex = 2                   # We want spoofed class probability\\npredList = all_gen_predictions   \\n\\nprint(len(predList))\\n\\nwith open(fname,'w') as f2:\\n    for items in predList:\\n        prob = items.strip().split(' ')[splitIndex]   \\n        if float(prob) > 0.70:\\n            print(items)\\n            count+=1\\n            f2.write(items+'\\n')            \\nprint(count)\\n\""
      ]
     },
     "execution_count": 7,
     "metadata": {},
     "output_type": "execute_result"
    }
   ],
   "source": [
    "# Collect all misclassified genuine files for which spoofed class got probability > 80%\n",
    "# the strongly correctly classified cases\n",
    "\n",
    "'''\n",
    "fname='index_file_list/allGenIndexList_FP.txt'\n",
    "count=0\n",
    "splitIndex = 2                   # We want spoofed class probability\n",
    "predList = all_gen_predictions   \n",
    "\n",
    "print(len(predList))\n",
    "\n",
    "with open(fname,'w') as f2:\n",
    "    for items in predList:\n",
    "        prob = items.strip().split(' ')[splitIndex]   \n",
    "        if float(prob) > 0.70:\n",
    "            print(items)\n",
    "            count+=1\n",
    "            f2.write(items+'\\n')            \n",
    "print(count)\n",
    "'''\n",
    "\n",
    "\n",
    "# Careful when you re-run this code. It is use to take files with 90% probability to do analysis using slime !"
   ]
  },
  {
   "cell_type": "code",
   "execution_count": 8,
   "metadata": {},
   "outputs": [
    {
     "name": "stdout",
     "output_type": "stream",
     "text": [
      "4 0.143625 0.856375 -1.7855\n",
      "11 0.269019 0.730981 -0.999606\n",
      "47 0.0820857 0.917914 -2.41434\n",
      "81 0.0666967 0.933303 -2.63858\n",
      "283 0.283405 0.716595 -0.927632\n",
      "289 0.218208 0.781792 -1.27614\n",
      "299 0.26959 0.73041 -0.996702\n"
     ]
    }
   ],
   "source": [
    "%%bash\n",
    "cat index_file_list/allGenIndexList_FP.txt"
   ]
  },
  {
   "cell_type": "markdown",
   "metadata": {},
   "source": [
    "### Total misclassified genuine files where spoofed class got > 70% probability is = 7 (out of 760)**"
   ]
  },
  {
   "cell_type": "markdown",
   "metadata": {
    "collapsed": true
   },
   "source": [
    "## Analysing Time: The top two components from SLIME - False positive Genuine case\n",
    "\n",
    "Note, that under time analysis, we have cut our input spectrogram into 10 different temporal components/segments, where each segment correpsonds to\n",
    "\n",
    "> ***300 mili seconds***"
   ]
  },
  {
   "cell_type": "code",
   "execution_count": 41,
   "metadata": {},
   "outputs": [
    {
     "data": {
      "image/png": "[encoded data removed]",
      "text/plain": [
       "<IPython.core.display.Image object>"
      ]
     },
     "execution_count": 41,
     "metadata": {},
     "output_type": "execute_result"
    }
   ],
   "source": [
    "# Show how we cut the spectrogram in timexfrequency\n",
    "\n",
    "Image(\"time.png\")"
   ]
  },
  {
   "cell_type": "code",
   "execution_count": 9,
   "metadata": {
    "collapsed": true
   },
   "outputs": [],
   "source": [
    "# Load the explanation file to see the distribution\n",
    "\n",
    "file = 'top_two_explanation_indices/time/gen_FP_box.txt'"
   ]
  },
  {
   "cell_type": "code",
   "execution_count": 10,
   "metadata": {
    "collapsed": true
   },
   "outputs": [],
   "source": [
    "def get_top1_top2_list(file):\n",
    "    with open(file) as f:\n",
    "        top1 = [int(line.strip().split(' ')[0]) for line in f]\n",
    "    with open(file) as f:  \n",
    "        top2 = [int(line.strip().split(' ')[1]) for line in f]\n",
    "    return top1, top2    "
   ]
  },
  {
   "cell_type": "code",
   "execution_count": 11,
   "metadata": {
    "collapsed": true
   },
   "outputs": [],
   "source": [
    "# Get top1 and top2 in seperate list\n",
    "top1, top2 = get_top1_top2_list(file)"
   ]
  },
  {
   "cell_type": "code",
   "execution_count": 12,
   "metadata": {},
   "outputs": [
    {
     "name": "stdout",
     "output_type": "stream",
     "text": [
      "7\n",
      "7\n"
     ]
    }
   ],
   "source": [
    "print(len(top1))\n",
    "print(len(top2))"
   ]
  },
  {
   "cell_type": "code",
   "execution_count": 13,
   "metadata": {
    "collapsed": true
   },
   "outputs": [],
   "source": [
    "def get_counts(datalist, key):\n",
    "    count=0\n",
    "    for i in range(0,len(datalist)):\n",
    "        if datalist[i] == key:\n",
    "            count+=1\n",
    "    return count            "
   ]
  },
  {
   "cell_type": "code",
   "execution_count": 14,
   "metadata": {
    "collapsed": true
   },
   "outputs": [],
   "source": [
    "def print_component_distribution(comps, predList, order):\n",
    "    print('Printing component weigting distribution for Top:', order)\n",
    "    for i in comps:\n",
    "        print('Component ' + str(i) + ' : ' + str(get_counts(predList, i)))    "
   ]
  },
  {
   "cell_type": "markdown",
   "metadata": {},
   "source": [
    "### Using the top1 components - given by SLIME (Time segmentation)\n",
    " "
   ]
  },
  {
   "cell_type": "code",
   "execution_count": 15,
   "metadata": {
    "collapsed": true
   },
   "outputs": [],
   "source": [
    "comps=[0,1,2,3,4,5,6,7,8,9]    # In time we have 10 segments/components"
   ]
  },
  {
   "cell_type": "code",
   "execution_count": 17,
   "metadata": {},
   "outputs": [
    {
     "name": "stdout",
     "output_type": "stream",
     "text": [
      "Printing component weigting distribution for Top: 1\n",
      "Component 0 : 6\n",
      "Component 1 : 1\n",
      "Component 2 : 0\n",
      "Component 3 : 0\n",
      "Component 4 : 0\n",
      "Component 5 : 0\n",
      "Component 6 : 0\n",
      "Component 7 : 0\n",
      "Component 8 : 0\n",
      "Component 9 : 0\n"
     ]
    }
   ],
   "source": [
    "# Print distribution on top1\n",
    "order = 1\n",
    "print_component_distribution(comps, top1, order)"
   ]
  },
  {
   "cell_type": "markdown",
   "metadata": {},
   "source": [
    "   \n",
    "> ***Using the new boxplot*** (and also we corrected explanation index in our SLIME code)    \n",
    "\n",
    "    Component 0 : 6\n",
    "    Component 1 : 1\n",
    "    Component 2 : 0\n",
    "    Component 3 : 0\n",
    "    Component 4 : 0\n",
    "    Component 5 : 0\n",
    "    Component 6 : 0\n",
    "    Component 7 : 0\n",
    "    Component 8 : 0\n",
    "    Component 9 : 0\n",
    "    \n",
    "> ** Earlier we got all 7 files under Component 0 **\n",
    "    \n",
    "It clearly gives indication that these genuine files exhibit attributes/cues that our CNN learned about the spoofed class. This completely matches our hypothesis. !    "
   ]
  },
  {
   "cell_type": "markdown",
   "metadata": {},
   "source": [
    "** Observation**\n",
    "> We see that out of these FP genuine files, the highest vote/explanation is favoured for component 0 (corresponding to 1000ms signal). ***It is similar to spoofed class behaviour***. In our spoofed class analysis we were making a hypothesis that the DTMF tones that were used for concatenating the signal is leared by the CNN for spoof class. These genuine files somehow exhibit those property and hence misclassified as spoofed (here we have taken 7 genuine files that were misclassified to check the distribution, with probability of spoofed class > 70%. We find for each of these files that highest explanation is for Component 1)"
   ]
  },
  {
   "cell_type": "markdown",
   "metadata": {},
   "source": [
    "# Pick 5 audio files for hearing"
   ]
  },
  {
   "cell_type": "code",
   "execution_count": 18,
   "metadata": {
    "collapsed": true
   },
   "outputs": [],
   "source": [
    "#random_5_ids = [81,4,289,47,283]   # Genuine misclassified as spoofed with >70% probability\n",
    "#add 1 to each to access correct file index in real world\n",
    "\n",
    "#random_5_ids = [82,5,290,48,284]\n",
    "#base='/homes/bc305/myphd/datasets/ASVSpoof2017_v2.0/ASVspoof2017_V2_dev/'"
   ]
  },
  {
   "cell_type": "code",
   "execution_count": 19,
   "metadata": {
    "collapsed": true
   },
   "outputs": [],
   "source": [
    "%%bash\n",
    "#cp /homes/bc305/myphd/datasets/ASVSpoof2017_v2.0/ASVspoof2017_V2_dev/D_1000284.wav audio_files_hearing/genuine_FP/\n",
    "\n",
    "#ls audio_files_hearing/genuine_FP/"
   ]
  },
  {
   "cell_type": "markdown",
   "metadata": {
    "collapsed": true
   },
   "source": [
    "## Analysing Freq: The top two components from SLIME - True positive Genuine case\n",
    "\n",
    "Note, that under frequency analysis, we have cut our input spectrogram into 8 different frequency components/segments, where each segment correpsonds to\n",
    "\n",
    "> ***1000 Hz frequency***"
   ]
  },
  {
   "cell_type": "code",
   "execution_count": 20,
   "metadata": {},
   "outputs": [
    {
     "data": {
      "image/png": "frequency.png",
      "text/plain": [
       "<IPython.core.display.Image object>"
      ]
     },
     "execution_count": 20,
     "metadata": {},
     "output_type": "execute_result"
    }
   ],
   "source": [
    "# Show how we cut the spectrogram in timexfrequency\n",
    "\n",
    "Image(\"frequency.png\")"
   ]
  },
  {
   "cell_type": "code",
   "execution_count": 21,
   "metadata": {
    "collapsed": true
   },
   "outputs": [],
   "source": [
    "# Get spectral explanation file\n",
    "\n",
    "file = 'top_two_explanation_indices/freq/gen_FP_box.txt' # using box"
   ]
  },
  {
   "cell_type": "code",
   "execution_count": 22,
   "metadata": {},
   "outputs": [
    {
     "name": "stdout",
     "output_type": "stream",
     "text": [
      "3 5\n",
      "3 0\n",
      "3 5\n",
      "3 0\n",
      "3 5\n",
      "3 5\n",
      "3 2\n"
     ]
    }
   ],
   "source": [
    "%%bash\n",
    "cat 'top_two_explanation_indices/freq/gen_FP_box.txt' | head\n",
    "\n",
    "# the top two components 7 6 dominates the explanation"
   ]
  },
  {
   "cell_type": "code",
   "execution_count": 23,
   "metadata": {
    "collapsed": true
   },
   "outputs": [],
   "source": [
    "# Get top1 and top2 in seperate list\n",
    "top1, top2 = get_top1_top2_list(file)"
   ]
  },
  {
   "cell_type": "code",
   "execution_count": 24,
   "metadata": {},
   "outputs": [
    {
     "name": "stdout",
     "output_type": "stream",
     "text": [
      "7\n",
      "7\n"
     ]
    }
   ],
   "source": [
    "print(len(top1))\n",
    "print(len(top2))"
   ]
  },
  {
   "cell_type": "markdown",
   "metadata": {},
   "source": [
    "## Top 1 component distribution - Frequency"
   ]
  },
  {
   "cell_type": "code",
   "execution_count": 25,
   "metadata": {
    "collapsed": true
   },
   "outputs": [],
   "source": [
    "comps = [0,1,2,3,4,5,6,7]   # in Frequency we have 8 components"
   ]
  },
  {
   "cell_type": "code",
   "execution_count": 26,
   "metadata": {},
   "outputs": [
    {
     "name": "stdout",
     "output_type": "stream",
     "text": [
      "Printing component weigting distribution for Top: 1\n",
      "Component 0 : 0\n",
      "Component 1 : 0\n",
      "Component 2 : 0\n",
      "Component 3 : 7\n",
      "Component 4 : 0\n",
      "Component 5 : 0\n",
      "Component 6 : 0\n",
      "Component 7 : 0\n"
     ]
    }
   ],
   "source": [
    "# Print distribution on top1\n",
    "\n",
    "order = 1\n",
    "print_component_distribution(comps, top1, order)"
   ]
  },
  {
   "cell_type": "markdown",
   "metadata": {},
   "source": [
    "> **Using new Box spectrograms**, and also we corrected the labels for explanation:\n",
    "\n",
    "Its same like before"
   ]
  },
  {
   "cell_type": "markdown",
   "metadata": {},
   "source": [
    "# Pick 5 audio files for hearing\n",
    "\n",
    "We take the other two remaining files also"
   ]
  },
  {
   "cell_type": "code",
   "execution_count": 27,
   "metadata": {
    "collapsed": true
   },
   "outputs": [],
   "source": [
    "%%bash\n",
    "#cp /homes/bc305/myphd/datasets/ASVSpoof2017_v2.0/ASVspoof2017_V2_dev/D_1000012.wav audio_files_hearing/genuine_FP/\n",
    "\n",
    "#ls audio_files_hearing/genuine_FP/"
   ]
  },
  {
   "cell_type": "markdown",
   "metadata": {},
   "source": [
    "** Observations**\n",
    "\n",
    "> We find that all these 17 genuine files were misclassified as spoofed because these files exhibit the same property in high frequency regions that our spoofed class has learned. The frequency component 8 corresponding to 7000-8000 Hz, seems to get maximally activated for making the prediction. \n",
    "\n",
    " * This does not strongly corr-relate to our classes though. Our genuine class showed highest vote for component 7 and spoofed showed component 6. But, nevertheless, its shows that high frequency regions relate to class prediction\n",
    "\n"
   ]
  },
  {
   "cell_type": "markdown",
   "metadata": {},
   "source": [
    "# Overall Summary from this study"
   ]
  },
  {
   "cell_type": "markdown",
   "metadata": {},
   "source": [
    "We found 17 genuine audio files that were misclassified to be spoofed (with probability > 50%). Here we present brief summary under each methods.\n",
    "\n",
    "**Time segmentation**\n",
    "\n",
    "> The highest vote/explanation is favoured for component 3 (corresponding to 9000-1200ms signal). It is similar to genuine class behaviour, but we were expecting it to show properties that we found with spoofed class explanations. Note that spoofed class, under time analysis, give high weightage to first 300ms (which points to the fact that the DTMF tone is still causing the influence in spoofed class prediction !)\n",
    "\n",
    "**Frequency segmentation**\n",
    "\n",
    "> We find that all these 17 genuine files were misclassified as spoofed because these files exhibit the same property in high frequency regions that our spoofed class has learned. The frequency component 8 corresponding to 7000-8000 Hz, seems to get maximally activated for making the prediction. \n",
    "\n",
    " "
   ]
  },
  {
   "cell_type": "markdown",
   "metadata": {
    "collapsed": true
   },
   "source": [
    "## To Verify hypothesis about Spoofed class\n",
    "\n",
    "We take all those genuine files in the development set that has been strongly misclassified as spoofed (more than 90% probability) and run SLIME to generate temporal and spectral explanation.\n",
    "\n",
    "\n",
    "Distribution of **temporal explanation**  \n",
    "\n",
    "    Component 0 : 6\n",
    "    Component 1 : 1\n",
    "\n",
    "which stronly matches the spoofed class attributes shown by SLIME earlier.\n",
    "\n",
    "\n",
    "Distribution of **Spectral explanation**\n",
    "\n",
    "    Component 0 : 0\n",
    "    Component 1 : 0\n",
    "    Component 2 : 0\n",
    "    Component 3 : 7\n",
    "    Component 4 : 0\n",
    "    Component 5 : 0\n",
    "    Component 6 : 0\n",
    "    Component 7 : 0\n",
    "\n",
    "We get a clear cut explanation pointing towards information between 3-4kHz which exactly corresponds to the attributes of the spoofed class.\n",
    "\n",
    "> Thus from these seven misclassified genuine files we proved the hypothesis and findings about our spoofed class. In other words, spoofed class is characterised by speech information between 3-4kHz present in the initial frames of the test signal.\n",
    "  \n",
    "\n",
    "\n",
    "\n",
    "\n",
    "\n",
    "\n"
   ]
  },
  {
   "cell_type": "code",
   "execution_count": null,
   "metadata": {
    "collapsed": true
   },
   "outputs": [],
   "source": []
  }
 ],
 "metadata": {
  "kernelspec": {
   "display_name": "Python 3",
   "language": "python",
   "name": "python3"
  },
  "language_info": {
   "codemirror_mode": {
    "name": "ipython",
    "version": 3
   },
   "file_extension": ".py",
   "mimetype": "text/x-python",
   "name": "python",
   "nbconvert_exporter": "python",
   "pygments_lexer": "ipython3",
   "version": "3.6.1"
  }
 },
 "nbformat": 4,
 "nbformat_minor": 2
}
