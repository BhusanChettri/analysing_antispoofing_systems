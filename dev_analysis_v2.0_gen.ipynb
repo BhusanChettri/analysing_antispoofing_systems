{
 "cells": [
  {
   "cell_type": "markdown",
   "metadata": {},
   "source": [
    "# Analysing Genuine files in dev set - version 2.0 dataset"
   ]
  },
  {
   "cell_type": "markdown",
   "metadata": {},
   "source": [
    "## TODO\n",
    "\n",
    " * Draw scatter plot of posteriors for our best CNN system to project the distribution of genuine and spoofed features\n",
    " * Do this for Development and evaluation set.\n",
    " * On Evaluation set you could do this plot seperately for different Replay configurations (total 57 will be too much though)"
   ]
  },
  {
   "cell_type": "markdown",
   "metadata": {},
   "source": [
    "# Summary of file list for spoofed and genuine files in Development set for analysis"
   ]
  },
  {
   "cell_type": "markdown",
   "metadata": {},
   "source": [
    "## 1) The top 10 genuine confident correctly classified files : high scores\n",
    "\n",
    "                               Gen prob     Spf Prob      Log Liklihood ratio\n",
    "    Dev file index: 572 0.999953 4.72011e-05 9.96105\n",
    "    Dev file index: 414 0.999953 4.73798e-05 9.95727\n",
    "    Dev file index: 575 0.999952 4.80018e-05 9.94422\n",
    "    Dev file index: 546 0.999948 5.16748e-05 9.87049\n",
    "    Dev file index: 550 0.999948 5.23234e-05 9.85801\n",
    "    Dev file index: 426 0.999948 5.23301e-05 9.85789\n",
    "    Dev file index: 462 0.999945 5.53242e-05 9.80224\n",
    "    Dev file index: 507 0.999945 5.54301e-05 9.80033\n",
    "    Dev file index: 530 0.999943 5.73259e-05 9.7667\n",
    "    Dev file index: 607 0.999941 5.94154e-05 9.7309\n",
    "    Dev file index: 540 0.999938 6.17601e-05 9.69219\n",
    "    Dev file index: 619 0.999938 6.1868e-05 9.69044                               \n",
    "                               \n",
    "\n",
    "## All genuine files that got score < 0.5\n",
    "\n",
    "       \n",
    "       \n",
    "**** Note when accessing via list or array, index 575 should be called as 574       "
   ]
  },
  {
   "cell_type": "code",
   "execution_count": 592,
   "metadata": {
    "collapsed": true
   },
   "outputs": [],
   "source": [
    "import numpy as np\n",
    "import matplotlib.pyplot as plt\n",
    "from IPython.display import Image\n",
    "\n",
    "%matplotlib inline"
   ]
  },
  {
   "cell_type": "code",
   "execution_count": 559,
   "metadata": {
    "collapsed": true
   },
   "outputs": [],
   "source": [
    "# Load the prediction file\n",
    "# Predictions file that has three columns: genuin, spoofed prob and log likehood ratio\n",
    "\n",
    "pred_file='model_3sec_relu_0.5_run8/predictions/dev_prediction.txt'"
   ]
  },
  {
   "cell_type": "code",
   "execution_count": 560,
   "metadata": {
    "collapsed": true
   },
   "outputs": [],
   "source": [
    "all_predictions = []\n",
    "all_gens = []\n",
    "all_spoofs = []\n",
    "\n",
    "with open(pred_file) as f:\n",
    "    all_predictions = [line.strip() for line in f]\n",
    "    \n",
    "all_gen_predictions = all_predictions[:760]                    # first 760 files in dev are genuine\n",
    "all_spf_predictions = all_predictions[760:]                  # files from 761-1710 are spoofed examples"
   ]
  },
  {
   "cell_type": "code",
   "execution_count": 561,
   "metadata": {
    "collapsed": true
   },
   "outputs": [],
   "source": [
    "all_scores = []\n",
    "\n",
    "with open(pred_file) as f:\n",
    "    all_scores = [line.strip().split(' ')[2] for line in f]\n",
    "    \n",
    "all_gen_scores = all_scores[:760]\n",
    "all_spf_scores = all_scores[760:]"
   ]
  },
  {
   "cell_type": "code",
   "execution_count": 562,
   "metadata": {},
   "outputs": [
    {
     "name": "stdout",
     "output_type": "stream",
     "text": [
      "760\n",
      "950\n"
     ]
    }
   ],
   "source": [
    "print(len(all_gen_scores))\n",
    "print(len(all_spf_scores))"
   ]
  },
  {
   "cell_type": "markdown",
   "metadata": {},
   "source": [
    "### Sort the genuine indexes"
   ]
  },
  {
   "cell_type": "code",
   "execution_count": 563,
   "metadata": {
    "collapsed": true
   },
   "outputs": [],
   "source": [
    "gen_sort_index = np.argsort(all_gen_scores)\n",
    "gen_sort_index = gen_sort_index[::-1]        # reverse it in descending order"
   ]
  },
  {
   "cell_type": "code",
   "execution_count": 564,
   "metadata": {},
   "outputs": [
    {
     "name": "stdout",
     "output_type": "stream",
     "text": [
      "Total count =  736\n"
     ]
    }
   ],
   "source": [
    "# Get count of all genuine files that score > 0.5 and put it in a list with following format\n",
    "# file_idx genProb spfProb score\n",
    "\n",
    "fname='index_file_list/allGenIndexList_TP.txt'\n",
    "f=open(fname,'w')\n",
    "count=0\n",
    "for i in gen_sort_index:    #[0:10]:\n",
    "    score= all_gen_predictions[i].strip().split(' ')[2]\n",
    "    if float(score) > 0.5:\n",
    "        f.write((str(i) + ' ' + str(all_gen_predictions[i]) + '\\n'))        \n",
    "        count += 1\n",
    "print('Total count = ',count)\n",
    "f.close()"
   ]
  },
  {
   "cell_type": "markdown",
   "metadata": {},
   "source": [
    "## 1) Take the top 10 genuine confident correctly classified files - high scores\n",
    "\n",
    "                               Gen prob     Spf Prob      Log Liklihood ratio\n",
    "    Dev file index: 572 0.999953 4.72011e-05 9.96105\n",
    "    Dev file index: 414 0.999953 4.73798e-05 9.95727\n",
    "    Dev file index: 575 0.999952 4.80018e-05 9.94422\n",
    "    Dev file index: 546 0.999948 5.16748e-05 9.87049\n",
    "    Dev file index: 550 0.999948 5.23234e-05 9.85801\n",
    "    Dev file index: 426 0.999948 5.23301e-05 9.85789\n",
    "    Dev file index: 462 0.999945 5.53242e-05 9.80224\n",
    "    Dev file index: 507 0.999945 5.54301e-05 9.80033\n",
    "    Dev file index: 530 0.999943 5.73259e-05 9.7667\n",
    "    Dev file index: 607 0.999941 5.94154e-05 9.7309\n",
    "       \n",
    "**** Note when accessing via list or array, index 575 should be called as 574       "
   ]
  },
  {
   "cell_type": "markdown",
   "metadata": {},
   "source": []
  },
  {
   "cell_type": "code",
   "execution_count": 565,
   "metadata": {},
   "outputs": [
    {
     "name": "stdout",
     "output_type": "stream",
     "text": [
      "Dev file index: 27 0.49145 0.50855 -0.0342036\n",
      "Dev file index: 285 0.46579 0.53421 -0.137054\n",
      "Dev file index: 15 0.463603 0.536397 -0.145846\n",
      "Dev file index: 47 0.453384 0.546616 -0.187008\n",
      "Dev file index: 4 0.435833 0.564167 -0.25809\n",
      "Dev file index: 286 0.328668 0.671332 -0.714215\n",
      "Dev file index: 83 0.321195 0.678805 -0.748286\n",
      "Dev file index: 289 0.31727 0.68273 -0.766346\n",
      "Dev file index: 90 0.309738 0.690262 -0.801343\n",
      "Dev file index: 91 0.300134 0.699866 -0.846661\n",
      "Dev file index: 284 0.283405 0.716595 -0.927632\n",
      "Dev file index: 300 0.26959 0.73041 -0.996702\n",
      "Dev file index: 12 0.269019 0.730981 -0.999606\n",
      "Dev file index: 290 0.218208 0.781792 -1.27614\n",
      "Dev file index: 5 0.143625 0.856375 -1.7855\n",
      "Dev file index: 48 0.0820857 0.917914 -2.41434\n",
      "Dev file index: 82 0.0666967 0.933303 -2.63858\n",
      "Dev file index: 89 0.500997 0.499003 0.00398785\n",
      "Dev file index: 113 0.501411 0.498589 0.00564373\n",
      "Dev file index: 34 0.564512 0.435488 0.259495\n"
     ]
    }
   ],
   "source": [
    "top10_lowest = gen_sort_index[::-1]\n",
    "\n",
    "for i in top10_lowest[0:20]:\n",
    "    print('Dev file index: ' + str(i+1) + ' ' + str(all_gen_predictions[i]))    "
   ]
  },
  {
   "cell_type": "markdown",
   "metadata": {},
   "source": [
    "## 2) Take the top 10 genuine confidently misclassified files - low scores\n",
    "\n",
    "                                     Gen prob     Spf Prob      Log Liklihood ratio\n",
    "              \n",
    "               \n",
    "##### Note when accessing via list or array, index 113 should be called as 112                   "
   ]
  },
  {
   "cell_type": "markdown",
   "metadata": {
    "collapsed": true
   },
   "source": [
    "## Analysing Time: The top two components from SLIME - True positive Genuine case\n",
    "\n",
    "Note, that under time analysis, we have cut our input spectrogram into 10 different temporal components/segments, where each segment correpsonds to\n",
    "\n",
    "> ***300 mili seconds***"
   ]
  },
  {
   "cell_type": "code",
   "execution_count": 596,
   "metadata": {},
   "outputs": [
    {
     "data": {
      "image/png": "[encoded data removed]",
      "text/plain": [
       "<IPython.core.display.Image object>"
      ]
     },
     "execution_count": 596,
     "metadata": {},
     "output_type": "execute_result"
    }
   ],
   "source": [
    "# Show how we cut the spectrogram in timexfrequency\n",
    "\n",
    "Image(\"time.png\")"
   ]
  },
  {
   "cell_type": "code",
   "execution_count": 566,
   "metadata": {
    "collapsed": true
   },
   "outputs": [],
   "source": [
    "file = 'top_two_explanation_indices/time/gen_TP.txt'"
   ]
  },
  {
   "cell_type": "code",
   "execution_count": 567,
   "metadata": {
    "collapsed": true
   },
   "outputs": [],
   "source": [
    "def get_top1_top2_list(file):\n",
    "    with open(file) as f:\n",
    "        top1 = [int(line.strip().split(' ')[0]) for line in f]\n",
    "    with open(file) as f:  \n",
    "        top2 = [int(line.strip().split(' ')[1]) for line in f]\n",
    "    return top1, top2    "
   ]
  },
  {
   "cell_type": "code",
   "execution_count": 568,
   "metadata": {
    "collapsed": true
   },
   "outputs": [],
   "source": [
    "# Get top1 and top2 in seperate list\n",
    "top1, top2 = get_top1_top2_list(file)"
   ]
  },
  {
   "cell_type": "code",
   "execution_count": 569,
   "metadata": {},
   "outputs": [
    {
     "name": "stdout",
     "output_type": "stream",
     "text": [
      "736\n",
      "736\n"
     ]
    }
   ],
   "source": [
    "print(len(top1))\n",
    "print(len(top2))"
   ]
  },
  {
   "cell_type": "code",
   "execution_count": 570,
   "metadata": {
    "collapsed": true
   },
   "outputs": [],
   "source": [
    "def get_counts(datalist, key):\n",
    "    count=0\n",
    "    for i in range(0,len(datalist)):\n",
    "        if datalist[i] == key:\n",
    "            count+=1\n",
    "    return count            "
   ]
  },
  {
   "cell_type": "code",
   "execution_count": 571,
   "metadata": {
    "collapsed": true
   },
   "outputs": [],
   "source": [
    "def print_component_distribution(comps, predList, order):\n",
    "    print('Printing component weigting distribution for Top:', order)\n",
    "    for i in comps:\n",
    "        print('Component ' + str(i) + ' : ' + str(get_counts(predList, i)))    "
   ]
  },
  {
   "cell_type": "markdown",
   "metadata": {},
   "source": [
    "### Using the top1 components - given by SLIME (Time segmentation)\n",
    "\n",
    "> For ***run1*** we get following distribution:\n",
    "\n",
    "    Component 1 : 136\n",
    "    Component 2 : 9\n",
    "    Component 3 : 62\n",
    "    Component 4 : 271\n",
    "    Component 5 : 50\n",
    "    Component 6 : 119\n",
    "    Component 7 : 51\n",
    "    Component 8 : 25\n",
    "    Component 9 : 3\n",
    "    Component 10 : 10\n"
   ]
  },
  {
   "cell_type": "code",
   "execution_count": 572,
   "metadata": {
    "collapsed": true
   },
   "outputs": [],
   "source": [
    "comps=[0,1,2,3,4,5,6,7,8,9]    # In time we have 10 segments/components"
   ]
  },
  {
   "cell_type": "code",
   "execution_count": 573,
   "metadata": {},
   "outputs": [
    {
     "name": "stdout",
     "output_type": "stream",
     "text": [
      "Printing component weigting distribution for Top: 1\n",
      "Component 0 : 136\n",
      "Component 1 : 9\n",
      "Component 2 : 62\n",
      "Component 3 : 271\n",
      "Component 4 : 50\n",
      "Component 5 : 119\n",
      "Component 6 : 51\n",
      "Component 7 : 25\n",
      "Component 8 : 3\n",
      "Component 9 : 10\n"
     ]
    }
   ],
   "source": [
    "# Print distribution on top1\n",
    "order = 1\n",
    "print_component_distribution(comps, top1, order)"
   ]
  },
  {
   "cell_type": "markdown",
   "metadata": {},
   "source": [
    "### Using the top2 components - given by SLIME (Time segmentation)\n",
    "\n",
    "> For ***Run1*** we get following distribution\n",
    "\n",
    "    Component 1 : 55\n",
    "    Component 2 : 17\n",
    "    Component 3 : 89\n",
    "    Component 4 : 202\n",
    "    Component 5 : 103\n",
    "    Component 6 : 121\n",
    "    Component 7 : 60\n",
    "    Component 8 : 39\n",
    "    Component 9 : 16\n",
    "    Component 10 : 34"
   ]
  },
  {
   "cell_type": "code",
   "execution_count": 574,
   "metadata": {},
   "outputs": [
    {
     "name": "stdout",
     "output_type": "stream",
     "text": [
      "Printing component weigting distribution for Top: 2\n",
      "Component 0 : 55\n",
      "Component 1 : 17\n",
      "Component 2 : 89\n",
      "Component 3 : 202\n",
      "Component 4 : 103\n",
      "Component 5 : 121\n",
      "Component 6 : 60\n",
      "Component 7 : 39\n",
      "Component 8 : 16\n",
      "Component 9 : 34\n"
     ]
    }
   ],
   "source": [
    "# Print distribution on top2\n",
    "\n",
    "order = 2\n",
    "print_component_distribution(comps, top2, order)"
   ]
  },
  {
   "cell_type": "markdown",
   "metadata": {},
   "source": [
    "From above we see that from 766 genuine TP audio files (that got scores > 0.5) we find that the largest number of times, SLIME gives highest weightage to Component 4 (271 times out of 766). Component 4 corresponds to 900-1200ms audio signal. This is then followed by Component 1 (136) which is the first 300 ms signal.\n",
    "\n",
    "Similary, from the top2 component distribution above, we see that Component 4 recieves the highest vote. This indicates that may be the CNN is getting maximally activated for this.\n",
    "\n",
    " * What to do next?\n",
    "We now pick those 271 audio files that got top1 as component 4 and try to find if we get some meaningful information "
   ]
  },
  {
   "cell_type": "code",
   "execution_count": 575,
   "metadata": {},
   "outputs": [
    {
     "data": {
      "text/plain": [
       "<matplotlib.collections.PathCollection at 0x7fc2a38d9400>"
      ]
     },
     "execution_count": 575,
     "metadata": {},
     "output_type": "execute_result"
    },
    {
     "data": {
      "image/png": "[encoded data removed]",
      "text/plain": [
       "<matplotlib.figure.Figure at 0x7fc2a394a198>"
      ]
     },
     "metadata": {},
     "output_type": "display_data"
    }
   ],
   "source": [
    "# Just a quick scatter plot\n",
    "\n",
    "plt.scatter(top1, top2)"
   ]
  },
  {
   "cell_type": "code",
   "execution_count": 576,
   "metadata": {
    "collapsed": true
   },
   "outputs": [],
   "source": [
    "# Get those file index having component4 in top explanation\n",
    "\n",
    "fname='index_file_list/allGenIndexList_TP.txt'\n",
    "with open(fname) as f:\n",
    "    #file_idxs = [int(line.strip().split(' ')[0]) for line in f]\n",
    "    file_idxs = [line.strip() for line in f]\n",
    "    \n",
    "    \n",
    "# Write the top component index to the file and further analysis\n",
    "#fname='topExplanation_list_Genuine_TP.txt'\n",
    "fname='top_two_explanation_indices/time/topExplanation_list_gen_TP.txt'\n",
    "id4_indexFiles=list() \n",
    "\n",
    "f=open(fname,'w')\n",
    "for i in range(len(top1)):\n",
    "    if top1[i]==3:    # if top explanation index is 3 (which is actually 4)\n",
    "        id4_indexFiles.append(file_idxs[i])\n",
    "        f.write(str(file_idxs[i])+'\\n')\n",
    "        \n",
    "f.close()"
   ]
  },
  {
   "cell_type": "markdown",
   "metadata": {},
   "source": [
    "### Note: \n",
    "> the file topExplanation_list_gen_TP.txt will have four columns\n",
    "> The first column denotes file index (index from 0), second and third specifies genuine and spoofed probability, while last specifies the LLR score\n",
    "\n",
    "### What have we done so far\n",
    "\n",
    " 1. We took all genuine files that were correctly classified by CNN. We took 0.5 as score threshold to further filter the genuine files and get 766 genuine TP audio files.\n",
    " 1. Then we applied SLIME. We segmented along time. We partitioned these files in 10 parts, each of 300ms. We then obtained top 2 influencing component index for all these 766 files.\n",
    " 1. We then analysed the explanation index distribution for these 766 files and find that the component 4 that corresponds to 900-1200ms audio are maximally activated (got highest count = 271/766)\n",
    " 1. Then we take these 271 audio file index and plot their spectrograms and try to find similarity.\n"
   ]
  },
  {
   "cell_type": "markdown",
   "metadata": {
    "collapsed": true
   },
   "source": [
    "## Analysing Freq: The top two components from SLIME - True positive Genuine case\n",
    "\n",
    "Note, that under frequency analysis, we have cut our input spectrogram into 8 different frequency components/segments, where each segment correpsonds to\n",
    "\n",
    "> ***1000 Hz frequency***"
   ]
  },
  {
   "cell_type": "code",
   "execution_count": 594,
   "metadata": {},
   "outputs": [
    {
     "data": {
      "image/png": "[encoded data removed]",
      "text/plain": [
       "<IPython.core.display.Image object>"
      ]
     },
     "execution_count": 594,
     "metadata": {},
     "output_type": "execute_result"
    }
   ],
   "source": [
    "# Show how we cut the spectrogram in timexfrequency\n",
    "\n",
    "Image(\"frequency.png\")"
   ]
  },
  {
   "cell_type": "code",
   "execution_count": 577,
   "metadata": {
    "collapsed": true
   },
   "outputs": [],
   "source": [
    "file = 'top_two_explanation_indices/freq/gen_TP.txt'"
   ]
  },
  {
   "cell_type": "code",
   "execution_count": 578,
   "metadata": {},
   "outputs": [
    {
     "name": "stdout",
     "output_type": "stream",
     "text": [
      "7 6\n",
      "7 6\n",
      "7 6\n",
      "7 6\n",
      "7 6\n",
      "7 6\n",
      "7 6\n",
      "7 6\n",
      "7 6\n",
      "7 6\n"
     ]
    }
   ],
   "source": [
    "%%bash\n",
    "cat 'top_two_explanation_indices/freq/gen_TP.txt' | head\n",
    "\n",
    "# the top two components 7 6 dominates the explanation"
   ]
  },
  {
   "cell_type": "code",
   "execution_count": 579,
   "metadata": {
    "collapsed": true
   },
   "outputs": [],
   "source": [
    "# Get top1 and top2 in seperate list\n",
    "top1, top2 = get_top1_top2_list(file)"
   ]
  },
  {
   "cell_type": "code",
   "execution_count": 580,
   "metadata": {},
   "outputs": [
    {
     "name": "stdout",
     "output_type": "stream",
     "text": [
      "736\n",
      "736\n"
     ]
    }
   ],
   "source": [
    "print(len(top1))\n",
    "print(len(top2))"
   ]
  },
  {
   "cell_type": "markdown",
   "metadata": {},
   "source": [
    "## Top 1 component distribution - Frequency"
   ]
  },
  {
   "cell_type": "code",
   "execution_count": 581,
   "metadata": {
    "collapsed": true
   },
   "outputs": [],
   "source": [
    "comps = [0,1,2,3,4,5,6,7]   # in Frequency we have 8 components"
   ]
  },
  {
   "cell_type": "code",
   "execution_count": 582,
   "metadata": {},
   "outputs": [
    {
     "name": "stdout",
     "output_type": "stream",
     "text": [
      "Printing component weigting distribution for Top: 1\n",
      "Component 0 : 13\n",
      "Component 1 : 0\n",
      "Component 2 : 0\n",
      "Component 3 : 0\n",
      "Component 4 : 0\n",
      "Component 5 : 61\n",
      "Component 6 : 6\n",
      "Component 7 : 656\n"
     ]
    }
   ],
   "source": [
    "# Print distribution on top1\n",
    "\n",
    "order = 1\n",
    "print_component_distribution(comps, top1, order)"
   ]
  },
  {
   "cell_type": "markdown",
   "metadata": {},
   "source": [
    "## Top 2 component distribution - Frequency"
   ]
  },
  {
   "cell_type": "code",
   "execution_count": 583,
   "metadata": {},
   "outputs": [
    {
     "name": "stdout",
     "output_type": "stream",
     "text": [
      "Printing component weigting distribution for Top: 2\n",
      "Component 0 : 51\n",
      "Component 1 : 3\n",
      "Component 2 : 2\n",
      "Component 3 : 2\n",
      "Component 4 : 50\n",
      "Component 5 : 273\n",
      "Component 6 : 294\n",
      "Component 7 : 61\n"
     ]
    }
   ],
   "source": [
    "# Print distribution on top2\n",
    "\n",
    "order = 2\n",
    "print_component_distribution(comps, top2, order)"
   ]
  },
  {
   "cell_type": "code",
   "execution_count": 584,
   "metadata": {},
   "outputs": [
    {
     "data": {
      "text/plain": [
       "<matplotlib.collections.PathCollection at 0x7fc2a386e550>"
      ]
     },
     "execution_count": 584,
     "metadata": {},
     "output_type": "execute_result"
    },
    {
     "data": {
      "image/png": "[encoded data removed]",
      "text/plain": [
       "<matplotlib.figure.Figure at 0x7fc2a3a870f0>"
      ]
     },
     "metadata": {},
     "output_type": "display_data"
    }
   ],
   "source": [
    "# Just a quick scatter plot\n",
    "\n",
    "plt.scatter(top1, top2)"
   ]
  },
  {
   "cell_type": "code",
   "execution_count": 585,
   "metadata": {
    "collapsed": true
   },
   "outputs": [],
   "source": [
    "# Get those file index having component8 in top explanation (as for frequency we get top explanation at index8)\n",
    "top = 7\n",
    "\n",
    "fname='index_file_list/allGenIndexList_TP.txt'\n",
    "with open(fname) as f:\n",
    "    #file_idxs = [int(line.strip().split(' ')[0]) for line in f]\n",
    "    file_idxs = [line.strip() for line in f]\n",
    "    \n",
    "#Write the top component index to the file and further analysis\n",
    "fname='top_two_explanation_indices/freq/topExplanation_list_gen_TP.txt'\n",
    "id8_indexFiles=list() \n",
    "\n",
    "f=open(fname,'w')\n",
    "for i in range(len(top1)):\n",
    "    if top1[i]==top:    # if top explanation index is 3 (which is actually 4)\n",
    "        id8_indexFiles.append(file_idxs[i])\n",
    "        f.write(str(file_idxs[i])+'\\n')\n",
    "        \n",
    "f.close()"
   ]
  },
  {
   "cell_type": "markdown",
   "metadata": {},
   "source": [
    "** Observations**\n",
    "\n",
    "> We find that frequency component 8 corresponding to 7000-8000 Hz, seems to get maximally activated for making the prediction. Still, its hard to make any signifant conclusion about a class.\n",
    "\n",
    "> What has the CNN learned about the genuine and spoofed classes?\n"
   ]
  },
  {
   "cell_type": "markdown",
   "metadata": {},
   "source": [
    "## Analysing timexFreq: The top two components from SLIME - True positive Genuine case\n",
    "\n",
    "Note, that under timexfrequency analysis, we have cut our input spectrogram into 30 different segments, where each segment correpsonds to\n",
    "\n",
    "> ***600 msec in time and around 1333 Hz in frequency***"
   ]
  },
  {
   "cell_type": "code",
   "execution_count": 595,
   "metadata": {},
   "outputs": [
    {
     "data": {
      "image/png": "[encoded data removed]",
      "text/plain": [
       "<IPython.core.display.Image object>"
      ]
     },
     "execution_count": 595,
     "metadata": {},
     "output_type": "execute_result"
    }
   ],
   "source": [
    "# Show how we cut the spectrogram in timexfrequency\n",
    "\n",
    "Image(\"timexfrequency.png\")"
   ]
  },
  {
   "cell_type": "code",
   "execution_count": 586,
   "metadata": {
    "collapsed": true
   },
   "outputs": [],
   "source": [
    "file = 'top_two_explanation_indices/tf/gen_TP.txt'"
   ]
  },
  {
   "cell_type": "code",
   "execution_count": 587,
   "metadata": {},
   "outputs": [
    {
     "name": "stdout",
     "output_type": "stream",
     "text": [
      "394\n"
     ]
    }
   ],
   "source": [
    "%%bash\n",
    "cat 'top_two_explanation_indices/tf/gen_TP.txt' | grep 17 | wc -l\n",
    "\n",
    "# the indexes 11,23 and 17 seems to be appearing mostly\n",
    "# Index 11 occuring - 498 times (in top2)\n",
    "# Index 23 occurs 204 times in top2 pair\n",
    "# Index 17 appears 394 times in top2 pair"
   ]
  },
  {
   "cell_type": "markdown",
   "metadata": {},
   "source": [
    "#### quick note\n",
    "\n",
    ">  Along timexfrequency analysis, the indexes 11,23 and 17 seems to be appearing mostly, where,\n",
    "\n",
    " 1. Index 11 occuring - 498 times (in top2)\n",
    " 1. Index 17 appears 394 times in top2 pair\n",
    " 1. Index 23 occurs 204 times in top2 pair\n",
    " \n",
    "** Note ** Indexes starts with 0, so 11 here is 12th component "
   ]
  },
  {
   "cell_type": "code",
   "execution_count": 588,
   "metadata": {},
   "outputs": [
    {
     "name": "stdout",
     "output_type": "stream",
     "text": [
      "736\n",
      "736\n"
     ]
    }
   ],
   "source": [
    "# Get top1 and top2 in seperate list\n",
    "top1, top2 = get_top1_top2_list(file)\n",
    "print(len(top1))\n",
    "print(len(top2))"
   ]
  },
  {
   "cell_type": "markdown",
   "metadata": {},
   "source": [
    "## Top 1 component distribution - time x Frequency"
   ]
  },
  {
   "cell_type": "code",
   "execution_count": 589,
   "metadata": {
    "collapsed": true
   },
   "outputs": [],
   "source": [
    "comps = np.arange(0,30)   # in timexfrequency we have 30 components"
   ]
  },
  {
   "cell_type": "code",
   "execution_count": 590,
   "metadata": {},
   "outputs": [
    {
     "name": "stdout",
     "output_type": "stream",
     "text": [
      "Printing component weigting distribution for Top: 1\n",
      "Component 0 : 68\n",
      "Component 1 : 0\n",
      "Component 2 : 0\n",
      "Component 3 : 0\n",
      "Component 4 : 43\n",
      "Component 5 : 1\n",
      "Component 6 : 0\n",
      "Component 7 : 0\n",
      "Component 8 : 0\n",
      "Component 9 : 0\n",
      "Component 10 : 4\n",
      "Component 11 : 333\n",
      "Component 12 : 0\n",
      "Component 13 : 0\n",
      "Component 14 : 0\n",
      "Component 15 : 0\n",
      "Component 16 : 3\n",
      "Component 17 : 193\n",
      "Component 18 : 0\n",
      "Component 19 : 0\n",
      "Component 20 : 0\n",
      "Component 21 : 0\n",
      "Component 22 : 2\n",
      "Component 23 : 84\n",
      "Component 24 : 0\n",
      "Component 25 : 0\n",
      "Component 26 : 0\n",
      "Component 27 : 0\n",
      "Component 28 : 0\n",
      "Component 29 : 5\n"
     ]
    }
   ],
   "source": [
    "# Print distribution on top1\n",
    "\n",
    "order = 1\n",
    "print_component_distribution(comps, top1, order)"
   ]
  },
  {
   "cell_type": "markdown",
   "metadata": {},
   "source": [
    "## Top 2 component distribution - time x Frequency"
   ]
  },
  {
   "cell_type": "code",
   "execution_count": 591,
   "metadata": {},
   "outputs": [
    {
     "name": "stdout",
     "output_type": "stream",
     "text": [
      "Printing component weigting distribution for Top: 2\n",
      "Component 0 : 78\n",
      "Component 1 : 0\n",
      "Component 2 : 1\n",
      "Component 3 : 0\n",
      "Component 4 : 89\n",
      "Component 5 : 2\n",
      "Component 6 : 0\n",
      "Component 7 : 0\n",
      "Component 8 : 0\n",
      "Component 9 : 0\n",
      "Component 10 : 14\n",
      "Component 11 : 165\n",
      "Component 12 : 0\n",
      "Component 13 : 0\n",
      "Component 14 : 0\n",
      "Component 15 : 0\n",
      "Component 16 : 4\n",
      "Component 17 : 201\n",
      "Component 18 : 0\n",
      "Component 19 : 0\n",
      "Component 20 : 0\n",
      "Component 21 : 0\n",
      "Component 22 : 12\n",
      "Component 23 : 120\n",
      "Component 24 : 7\n",
      "Component 25 : 1\n",
      "Component 26 : 0\n",
      "Component 27 : 0\n",
      "Component 28 : 5\n",
      "Component 29 : 37\n"
     ]
    }
   ],
   "source": [
    "# Print distribution on top2\n",
    "\n",
    "order = 2\n",
    "print_component_distribution(comps, top2, order)"
   ]
  },
  {
   "cell_type": "markdown",
   "metadata": {},
   "source": [
    "**Observations**\n",
    "\n",
    "> It seems that under timexfrequency analysis, considering 766 genuine audio files in development set (True positive, that got scores > 0.5) the decision is highly influenced for ***Components 11,17 and 23.***"
   ]
  },
  {
   "cell_type": "markdown",
   "metadata": {},
   "source": [
    "# Overall Summary from this study"
   ]
  },
  {
   "cell_type": "markdown",
   "metadata": {},
   "source": [
    "**Time segmentation**\n",
    "\n",
    ">We segmented spectrogram into 10 super-samples (components), each of 1000ms, and ran SLIME to generate explanations using 5000 samples. We find that among 766 True-positive genuine files (with score > 0.5), the highest influence is shown for component 4 that corresponds to 4000ms.\n",
    "\n",
    "**Frequency segmentation**\n",
    "> We segmented the spectrograms into 8 different frequency bins, each corresponding to 1000Hz and ran SLIME. In this case, the top explanation favours to the highest frequency bin (8000hz)/. Out of 766 TP genuine examples we get 656 corresponding to bin 8 (8000Hz). This suggest that the genuine class is highly influenced by higher frequency.\n",
    "\n",
    "> ***This is a bit surprising though as I was expecting this behaviour for spoofed cases.***\n",
    "\n",
    "**TimexFrequency segmentation**\n",
    "> We segmented the spectrogram into 30 different timexfrequency bins. We chose 30 to keep our analysis simple. Each component corresponds to 600 msec in time and around 1333 Hz in frequency. Here, we find that the components 11 and 17 are highly contributing in prediction. Component 11 corresponds to \n",
    " "
   ]
  },
  {
   "cell_type": "code",
   "execution_count": null,
   "metadata": {
    "collapsed": true
   },
   "outputs": [],
   "source": []
  }
 ],
 "metadata": {
  "kernelspec": {
   "display_name": "Python 3",
   "language": "python",
   "name": "python3"
  },
  "language_info": {
   "codemirror_mode": {
    "name": "ipython",
    "version": 3
   },
   "file_extension": ".py",
   "mimetype": "text/x-python",
   "name": "python",
   "nbconvert_exporter": "python",
   "pygments_lexer": "ipython3",
   "version": "3.6.1"
  }
 },
 "nbformat": 4,
 "nbformat_minor": 2
}
