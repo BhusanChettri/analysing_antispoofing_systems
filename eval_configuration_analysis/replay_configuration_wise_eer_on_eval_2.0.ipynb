{
 "cells": [
  {
   "cell_type": "markdown",
   "metadata": {
    "collapsed": true
   },
   "source": [
    "# Computing per replay configuration the EER on the evaluation dataset\n",
    "\n",
    "\n",
    "Using the following end-to-end CNN model (the one we submitted in INTERSPEECH), we compute RC wise EER on the evaluation test set.\n",
    "\n",
    "> models_After_ICASSP/InterSpeech2018_v2.0/testing_best_model_with3sec_RELU/keep_0.5_0.5_relurun8"
   ]
  },
  {
   "cell_type": "markdown",
   "metadata": {},
   "source": [
    "The evaluation dataset has total of 57 replay configurations. Please refer to the following odyssey paper to see more details on this.\n",
    "\n",
    "> ***ASVspoof 2017 version 2.0: meta-data analysis and baseline enhancements***"
   ]
  },
  {
   "cell_type": "code",
   "execution_count": 4,
   "metadata": {
    "collapsed": true
   },
   "outputs": [],
   "source": [
    "import numpy as np\n",
    "import matplotlib.pyplot as plt\n",
    "%matplotlib inline"
   ]
  },
  {
   "cell_type": "code",
   "execution_count": 8,
   "metadata": {
    "collapsed": true
   },
   "outputs": [],
   "source": [
    "# The model prediction scores on eval data (genuineFirstSpoof)\n",
    "\n",
    "model='/homes/bc305/myphd/stage2/deeplearning.experiment1/CNN3//models_After_ICASSP/InterSpeech2018_v2.0/testing_best_model_with3sec_RELU/'\n",
    "evalScore=model+'/keep_0.5_0.5_relurun8/predictions_original/eval_prediction_new.txt'"
   ]
  },
  {
   "cell_type": "code",
   "execution_count": 9,
   "metadata": {
    "collapsed": true
   },
   "outputs": [],
   "source": [
    "# GenuineFirstSpoof protocal we have created is to be used for extracting relevant scores\n",
    "\n",
    "evProtocal='/homes/bc305/myphd/datasets/ASVSpoof2017_v2.0/protocol_V2/ASVspoof2017_V2_eval.trl_genFirstSpoof.txt'"
   ]
  },
  {
   "cell_type": "code",
   "execution_count": 10,
   "metadata": {
    "collapsed": true
   },
   "outputs": [],
   "source": [
    "from eer import find_eers\n",
    "from python_codes import analyse_conf"
   ]
  },
  {
   "cell_type": "code",
   "execution_count": 14,
   "metadata": {},
   "outputs": [],
   "source": [
    "scoreFile = evalScore\n",
    "evalScores = analyse_conf.get_scores(scoreFile)"
   ]
  },
  {
   "cell_type": "code",
   "execution_count": 15,
   "metadata": {},
   "outputs": [
    {
     "name": "stdout",
     "output_type": "stream",
     "text": [
      "13306\n"
     ]
    }
   ],
   "source": [
    "print(len(evalScores))"
   ]
  },
  {
   "cell_type": "markdown",
   "metadata": {},
   "source": [
    "### 1)  RC01: ['E18 P18 R12']"
   ]
  },
  {
   "cell_type": "code",
   "execution_count": 20,
   "metadata": {},
   "outputs": [
    {
     "name": "stdout",
     "output_type": "stream",
     "text": [
      "spoof len:  55\n"
     ]
    }
   ],
   "source": [
    "confKey = ['E18 P18 R12']\n",
    "gc=1298\n",
    "saveFolder='rc01'\n",
    "\n",
    "# Concatenate all spoof scores\n",
    "scores_spf =  analyse_conf.get_config_specific_scores(scoreFile, evProtocal, confKey)\n",
    "scores_gen = evalScores[0:gc]\n",
    "\n",
    "# Put genuine scores on top\n",
    "scores = np.hstack((scores_gen, scores_spf))\n",
    "\n",
    "# Make the labels\n",
    "labels = np.hstack((np.ones(len(scores_gen)), np.zeros(len(scores_spf))))\n",
    "\n",
    "print('spoof len: ',len(scores_spf))\n",
    "scoreSavePath = model+'/keep_0.5_0.5_relurun8/replay_configuration_wise/'\n",
    "\n",
    "\n",
    "# Save the score file and label file\n",
    "analyse_conf.save_scores_labels(scoreSavePath, scores, labels, saveFolder)"
   ]
  },
  {
   "cell_type": "code",
   "execution_count": 21,
   "metadata": {},
   "outputs": [
    {
     "name": "stdout",
     "output_type": "stream",
     "text": [
      "\n",
      "                            < M A T L A B (R) >\n",
      "                  Copyright 1984-2018 The MathWorks, Inc.\n",
      "                   R2018a (9.4.0.813654) 64-bit (glnxa64)\n",
      "                             February 23, 2018\n",
      "\n",
      " \n",
      "To get started, type one of these: helpwin, helpdesk, or demo.\n",
      "For product information, visit www.mathworks.com.\n",
      " \n",
      "\n",
      "EER =\n",
      "\n",
      "   29.8030\n",
      "\n"
     ]
    }
   ],
   "source": [
    "%%bash\n",
    "\n",
    "python eer.py keep_0.5_0.5_relurun8/replay_configuration_wise/rc01"
   ]
  },
  {
   "cell_type": "markdown",
   "metadata": {},
   "source": [
    "### 2)  RC02: ['E08 P20 R19']"
   ]
  },
  {
   "cell_type": "code",
   "execution_count": 22,
   "metadata": {},
   "outputs": [
    {
     "name": "stdout",
     "output_type": "stream",
     "text": [
      "spoof len:  67\n"
     ]
    }
   ],
   "source": [
    "confKey = ['E08 P20 R19']\n",
    "gc=1298\n",
    "saveFolder='rc02'\n",
    "\n",
    "# Concatenate all spoof scores\n",
    "scores_spf =  analyse_conf.get_config_specific_scores(scoreFile, evProtocal, confKey)\n",
    "scores_gen = evalScores[0:gc]\n",
    "\n",
    "# Put genuine scores on top\n",
    "scores = np.hstack((scores_gen, scores_spf))\n",
    "\n",
    "# Make the labels\n",
    "labels = np.hstack((np.ones(len(scores_gen)), np.zeros(len(scores_spf))))\n",
    "\n",
    "print('spoof len: ',len(scores_spf))\n",
    "scoreSavePath = model+'/keep_0.5_0.5_relurun8/replay_configuration_wise/'\n",
    "\n",
    "\n",
    "# Save the score file and label file\n",
    "analyse_conf.save_scores_labels(scoreSavePath, scores, labels, saveFolder)"
   ]
  },
  {
   "cell_type": "code",
   "execution_count": 23,
   "metadata": {},
   "outputs": [
    {
     "name": "stdout",
     "output_type": "stream",
     "text": [
      "\n",
      "                            < M A T L A B (R) >\n",
      "                  Copyright 1984-2018 The MathWorks, Inc.\n",
      "                   R2018a (9.4.0.813654) 64-bit (glnxa64)\n",
      "                             February 23, 2018\n",
      "\n",
      " \n",
      "To get started, type one of these: helpwin, helpdesk, or demo.\n",
      "For product information, visit www.mathworks.com.\n",
      " \n",
      "\n",
      "EER =\n",
      "\n",
      "   24.8477\n",
      "\n"
     ]
    }
   ],
   "source": [
    "%%bash\n",
    "\n",
    "python eer.py keep_0.5_0.5_relurun8/replay_configuration_wise/rc02"
   ]
  },
  {
   "cell_type": "markdown",
   "metadata": {},
   "source": [
    "### 2)  RC03: ['E08 P21 R25']"
   ]
  },
  {
   "cell_type": "code",
   "execution_count": 24,
   "metadata": {},
   "outputs": [
    {
     "name": "stdout",
     "output_type": "stream",
     "text": [
      "spoof len:  122\n"
     ]
    }
   ],
   "source": [
    "confKey = ['E08 P21 R25']\n",
    "gc=1298\n",
    "saveFolder='rc03'\n",
    "\n",
    "# Concatenate all spoof scores\n",
    "scores_spf =  analyse_conf.get_config_specific_scores(scoreFile, evProtocal, confKey)\n",
    "scores_gen = evalScores[0:gc]\n",
    "\n",
    "# Put genuine scores on top\n",
    "scores = np.hstack((scores_gen, scores_spf))\n",
    "\n",
    "# Make the labels\n",
    "labels = np.hstack((np.ones(len(scores_gen)), np.zeros(len(scores_spf))))\n",
    "\n",
    "print('spoof len: ',len(scores_spf))\n",
    "scoreSavePath = model+'/keep_0.5_0.5_relurun8/replay_configuration_wise/'\n",
    "\n",
    "\n",
    "# Save the score file and label file\n",
    "analyse_conf.save_scores_labels(scoreSavePath, scores, labels, saveFolder)"
   ]
  },
  {
   "cell_type": "code",
   "execution_count": 25,
   "metadata": {},
   "outputs": [
    {
     "name": "stdout",
     "output_type": "stream",
     "text": [
      "\n",
      "                            < M A T L A B (R) >\n",
      "                  Copyright 1984-2018 The MathWorks, Inc.\n",
      "                   R2018a (9.4.0.813654) 64-bit (glnxa64)\n",
      "                             February 23, 2018\n",
      "\n",
      " \n",
      "To get started, type one of these: helpwin, helpdesk, or demo.\n",
      "For product information, visit www.mathworks.com.\n",
      " \n",
      "\n",
      "EER =\n",
      "\n",
      "   40.1907\n",
      "\n"
     ]
    }
   ],
   "source": [
    "%%bash\n",
    "\n",
    "python eer.py keep_0.5_0.5_relurun8/replay_configuration_wise/rc03"
   ]
  },
  {
   "cell_type": "code",
   "execution_count": 30,
   "metadata": {
    "collapsed": true
   },
   "outputs": [],
   "source": [
    "# Lets just put all the RC details into a list\n",
    "# These are in accordance to the RC details given in the baseline paper. Index 0 correspond to RC01\n",
    "\n",
    "rcList1 = ['E18 P18 R12','E08 P20 R19','E08 P21 R25','E08 P20 R25','E08 P20 R14','E08 P21 R14','E08 P21 R18',\n",
    "          'E02 P21 R25','E07 P20 R25','E02 P20 R25','E07 P20 R19','E02 P20 R19','E03 P08 R20','E07 P21 R18',\n",
    "          'E02 P21 R18','E02 P21 R14','E07 P21 R25','E07 P20 R14','E02 P20 R14']"
   ]
  },
  {
   "cell_type": "code",
   "execution_count": 31,
   "metadata": {},
   "outputs": [],
   "source": [
    "rcList2 = ['E07 P21 R14','E18 P11 R12','E12 P16 R11','E20 P10 R15','E17 P12 R17','E09 P18 R12','E17 P12 R10',\n",
    "           'E06 P09 R07','E21 P03 R01','E18 P05 R03','E15 P19 R20','E16 P07 R07','E17 P12 R09','E13 P14 R04',\n",
    "           'E17 P12 R04','E13 P14 R17','E22 P04 R17','E15 P19 R04','E12 P17 R11']"
   ]
  },
  {
   "cell_type": "code",
   "execution_count": 36,
   "metadata": {
    "collapsed": true
   },
   "outputs": [],
   "source": [
    "rcList3 = ['E22 P03 R04','E16 P07 R06','E13 P14 R09','E11 P26 R16','E06 P09 R06','E13 P14 R10','E10 P25 R16',\n",
    "           'E18 P22 R21','E23 P15 R13','E19 P22 R22','E14 P03 R17','E01 P15 R13','E16 P07 R05','E10 P26 R16',\n",
    "           'E14 P03 R04','E06 P09 R05','E26 P24 R24','E25 P13 R08','E24 P23 R23']"
   ]
  },
  {
   "cell_type": "code",
   "execution_count": 43,
   "metadata": {
    "collapsed": true
   },
   "outputs": [],
   "source": [
    "allRC = np.hstack((rcList1,rcList2,rcList3))"
   ]
  },
  {
   "cell_type": "code",
   "execution_count": 44,
   "metadata": {},
   "outputs": [
    {
     "name": "stdout",
     "output_type": "stream",
     "text": [
      "57\n",
      "19\n"
     ]
    }
   ],
   "source": [
    "print(len(allRC))\n",
    "print(len(rcList1))"
   ]
  },
  {
   "cell_type": "markdown",
   "metadata": {},
   "source": [
    "# Produce the score file and label file for all replay configurations"
   ]
  },
  {
   "cell_type": "code",
   "execution_count": 60,
   "metadata": {},
   "outputs": [],
   "source": [
    "# Produce the score file and label file for all replay configurations\n",
    "\n",
    "for i in range(0, len(allRC)):    \n",
    "    saveFolder = 'rc'+str(i+1)    \n",
    "        \n",
    "    confKey = list()\n",
    "    confKey.append(allRC[i])\n",
    "        \n",
    "    gc=1298\n",
    "    \n",
    "    # Concatenate all spoof scores\n",
    "    scores_spf =  analyse_conf.get_config_specific_scores(scoreFile, evProtocal, confKey)\n",
    "    scores_gen = evalScores[0:gc]\n",
    "\n",
    "    # Put genuine scores on top\n",
    "    scores = np.hstack((scores_gen, scores_spf))\n",
    "\n",
    "    # Make the labels\n",
    "    labels = np.hstack((np.ones(len(scores_gen)), np.zeros(len(scores_spf))))\n",
    "\n",
    "    #print('spoof len: ',len(scores_spf))\n",
    "    spoofLen = len(scores_spf)\n",
    "    scoreSavePath = model+'/keep_0.5_0.5_relurun8/replay_configuration_wise/'\n",
    "\n",
    "\n",
    "    # Save the score file and label file\n",
    "    analyse_conf.save_scores_labels(scoreSavePath, scores, labels, saveFolder+'_'+str(spoofLen))\n",
    "            "
   ]
  },
  {
   "cell_type": "code",
   "execution_count": 61,
   "metadata": {},
   "outputs": [
    {
     "name": "stdout",
     "output_type": "stream",
     "text": [
      "\n",
      "                            < M A T L A B (R) >\n",
      "                  Copyright 1984-2018 The MathWorks, Inc.\n",
      "                   R2018a (9.4.0.813654) 64-bit (glnxa64)\n",
      "                             February 23, 2018\n",
      "\n",
      " \n",
      "To get started, type one of these: helpwin, helpdesk, or demo.\n",
      "For product information, visit www.mathworks.com.\n",
      " \n",
      "\n",
      "EER =\n",
      "\n",
      "   41.8653\n",
      "\n"
     ]
    }
   ],
   "source": [
    "%%bash\n",
    "\n",
    "# RC04\n",
    "\n",
    "python eer.py keep_0.5_0.5_relurun8/replay_configuration_wise/rc4_102"
   ]
  },
  {
   "cell_type": "code",
   "execution_count": 66,
   "metadata": {},
   "outputs": [
    {
     "name": "stdout",
     "output_type": "stream",
     "text": [
      "\n",
      "                            < M A T L A B (R) >\n",
      "                  Copyright 1984-2018 The MathWorks, Inc.\n",
      "                   R2018a (9.4.0.813654) 64-bit (glnxa64)\n",
      "                             February 23, 2018\n",
      "\n",
      " \n",
      "To get started, type one of these: helpwin, helpdesk, or demo.\n",
      "For product information, visit www.mathworks.com.\n",
      " \n",
      "\n",
      "EER =\n",
      "\n",
      "   49.5334\n",
      "\n"
     ]
    }
   ],
   "source": [
    "%%bash\n",
    "\n",
    "# RC05\n",
    "\n",
    "#ls keep_0.5_0.5_relurun8/replay_configuration_wise/rc5_114/\n",
    "python eer.py keep_0.5_0.5_relurun8/replay_configuration_wise/rc5_114"
   ]
  },
  {
   "cell_type": "code",
   "execution_count": 68,
   "metadata": {},
   "outputs": [
    {
     "name": "stdout",
     "output_type": "stream",
     "text": [
      "\n",
      "                            < M A T L A B (R) >\n",
      "                  Copyright 1984-2018 The MathWorks, Inc.\n",
      "                   R2018a (9.4.0.813654) 64-bit (glnxa64)\n",
      "                             February 23, 2018\n",
      "\n",
      " \n",
      "To get started, type one of these: helpwin, helpdesk, or demo.\n",
      "For product information, visit www.mathworks.com.\n",
      " \n",
      "\n",
      "EER =\n",
      "\n",
      "   42.6224\n",
      "\n"
     ]
    }
   ],
   "source": [
    "%%bash\n",
    "\n",
    "# RC06\n",
    "\n",
    "#ls keep_0.5_0.5_relurun8/replay_configuration_wise/rc6_108/\n",
    "python eer.py keep_0.5_0.5_relurun8/replay_configuration_wise/rc6_108"
   ]
  },
  {
   "cell_type": "code",
   "execution_count": 69,
   "metadata": {},
   "outputs": [
    {
     "name": "stdout",
     "output_type": "stream",
     "text": [
      "\n",
      "                            < M A T L A B (R) >\n",
      "                  Copyright 1984-2018 The MathWorks, Inc.\n",
      "                   R2018a (9.4.0.813654) 64-bit (glnxa64)\n",
      "                             February 23, 2018\n",
      "\n",
      " \n",
      "To get started, type one of these: helpwin, helpdesk, or demo.\n",
      "For product information, visit www.mathworks.com.\n",
      " \n",
      "\n",
      "EER =\n",
      "\n",
      "   31.5437\n",
      "\n"
     ]
    }
   ],
   "source": [
    "%%bash\n",
    "\n",
    "# RC07\n",
    "\n",
    "#ls keep_0.5_0.5_relurun8/replay_configuration_wise/rc7_120/\n",
    "python eer.py keep_0.5_0.5_relurun8/replay_configuration_wise/rc7_120"
   ]
  },
  {
   "cell_type": "code",
   "execution_count": 70,
   "metadata": {},
   "outputs": [
    {
     "name": "stdout",
     "output_type": "stream",
     "text": [
      "\n",
      "                            < M A T L A B (R) >\n",
      "                  Copyright 1984-2018 The MathWorks, Inc.\n",
      "                   R2018a (9.4.0.813654) 64-bit (glnxa64)\n",
      "                             February 23, 2018\n",
      "\n",
      " \n",
      "To get started, type one of these: helpwin, helpdesk, or demo.\n",
      "For product information, visit www.mathworks.com.\n",
      " \n",
      "\n",
      "EER =\n",
      "\n",
      "   31.7384\n",
      "\n"
     ]
    }
   ],
   "source": [
    "%%bash\n",
    "\n",
    "# RC08\n",
    "\n",
    "#ls keep_0.5_0.5_relurun8/replay_configuration_wise/rc8_98/\n",
    "python eer.py keep_0.5_0.5_relurun8/replay_configuration_wise/rc8_98"
   ]
  },
  {
   "cell_type": "code",
   "execution_count": 71,
   "metadata": {},
   "outputs": [
    {
     "name": "stdout",
     "output_type": "stream",
     "text": [
      "\n",
      "                            < M A T L A B (R) >\n",
      "                  Copyright 1984-2018 The MathWorks, Inc.\n",
      "                   R2018a (9.4.0.813654) 64-bit (glnxa64)\n",
      "                             February 23, 2018\n",
      "\n",
      " \n",
      "To get started, type one of these: helpwin, helpdesk, or demo.\n",
      "For product information, visit www.mathworks.com.\n",
      " \n",
      "\n",
      "EER =\n",
      "\n",
      "   49.6999\n",
      "\n"
     ]
    }
   ],
   "source": [
    "%%bash\n",
    "\n",
    "# RC09\n",
    "\n",
    "#ls keep_0.5_0.5_relurun8/replay_configuration_wise/rc9_244/\n",
    "python eer.py keep_0.5_0.5_relurun8/replay_configuration_wise/rc9_244"
   ]
  },
  {
   "cell_type": "code",
   "execution_count": 85,
   "metadata": {},
   "outputs": [
    {
     "name": "stdout",
     "output_type": "stream",
     "text": [
      "\n",
      "                            < M A T L A B (R) >\n",
      "                  Copyright 1984-2018 The MathWorks, Inc.\n",
      "                   R2018a (9.4.0.813654) 64-bit (glnxa64)\n",
      "                             February 23, 2018\n",
      "\n",
      " \n",
      "To get started, type one of these: helpwin, helpdesk, or demo.\n",
      "For product information, visit www.mathworks.com.\n",
      " \n",
      "\n",
      "EER =\n",
      "\n",
      "   33.1403\n",
      "\n",
      "Writing to the file !!!\n"
     ]
    }
   ],
   "source": [
    "%%bash\n",
    "\n",
    "# RC10\n",
    "\n",
    "#ls keep_0.5_0.5_relurun8/replay_configuration_wise/rc10_82/\n",
    "python eer.py keep_0.5_0.5_relurun8/replay_configuration_wise/rc10_82"
   ]
  },
  {
   "cell_type": "code",
   "execution_count": 102,
   "metadata": {},
   "outputs": [
    {
     "name": "stdout",
     "output_type": "stream",
     "text": [
      "Process is terminated.\n"
     ]
    }
   ],
   "source": [
    "%%bash\n",
    "\n",
    "# Lets us execute all at once. The EER will be written in the respective directories\n",
    "python eer.py"
   ]
  },
  {
   "cell_type": "code",
   "execution_count": 118,
   "metadata": {},
   "outputs": [
    {
     "name": "stdout",
     "output_type": "stream",
     "text": [
      "--- \t\t33.14\t\n"
     ]
    }
   ],
   "source": [
    "%%bash\n",
    "cat /homes/bc305/myphd/stage2/meta-data_analysis/keep_0.5_0.5_relurun8/replay_configuration_wise/rc10_82/eer.txt\n"
   ]
  },
  {
   "cell_type": "code",
   "execution_count": 121,
   "metadata": {},
   "outputs": [
    {
     "name": "stdout",
     "output_type": "stream",
     "text": [
      "Result below show rcID_number of spoof files: the EER\n"
     ]
    }
   ],
   "source": [
    "def read_all_eers(): \n",
    "    b='/homes/bc305/myphd/stage2/meta-data_analysis/keep_0.5_0.5_relurun8/replay_configuration_wise/'\n",
    "    with open('rc_list.txt') as f:\n",
    "        print('Result below show rcID_number of spoof files: the EER')\n",
    "        \n",
    "        for rc in f:\n",
    "            file=b+rc.strip()+'/eer.txt'\n",
    "            with open(file) as f:\n",
    "                for line in f:\n",
    "                    eer = line.strip().split(' ')[1]\n",
    "                    #print(rc.strip()+' : '+ str(eer.strip()))\n",
    "            \n",
    "read_all_eers()"
   ]
  },
  {
   "cell_type": "markdown",
   "metadata": {},
   "source": [
    "> Result below show **rcID_no of spoof files: the EER**\n",
    "\n",
    "> rc1_55 : 29.80\n",
    " \n",
    "> rc2_67 : 24.85 \n",
    "\n",
    "> rc3_122 : 40.19\n",
    "\n",
    "> rc4_102 : 41.87\n",
    "\n",
    "> rc5_114 : 49.53\n",
    "\n",
    "> rc6_108 : 42.62\n",
    "\n",
    "> rc7_120 : 31.54\n",
    "\n",
    "> rc8_98 : 31.74\n",
    "\n",
    "> rc9_244 : 49.70\n",
    "\n",
    "> rc10_82 : 33.14\n",
    "\n",
    "> rc11_272 : 41.00\n",
    "\n",
    "> rc12_75 : 32.71\n",
    "\n",
    "> rc13_113 : 32.56\n",
    "\n",
    "> rc14_279 : 42.45\n",
    "\n",
    "> rc15_150 : 32.47\n",
    "\n",
    "> rc16_116 : 35.05\n",
    "\n",
    "> rc17_266 : 46.10\n",
    "\n",
    "> rc18_265 : 49.96\n",
    "\n",
    "> rc19_120 : 49.40\n",
    "\n",
    "> rc20_275 : 47.55\n",
    "\n",
    "> **rc21_22 : 0.57**\n",
    "\n",
    "> rc22_183 : 45.22\n",
    "\n",
    "> rc23_1138 : 37.03\n",
    "\n",
    "> rc24_179 : 22.05\n",
    "\n",
    "> rc25_42 : 32.99\n",
    "\n",
    "> **rc26_184 : 6.13**\n",
    "\n",
    "> **rc27_96 : 3.43**\n",
    "\n",
    ">rc28_240 : 29.55\n",
    "\n",
    ">**rc29_454 : 4.17**\n",
    "\n",
    ">rc30_74 : 23.01\n",
    "\n",
    ">**rc31_145 : 3.08**\n",
    "\n",
    ">rc32_180 : 12.90\n",
    "\n",
    ">rc33_183 : 10.55\n",
    "\n",
    ">rc34_181 : 10.23\n",
    "\n",
    ">rc35_178 : 37.15\n",
    "\n",
    ">rc36_181 : 20.35\n",
    "\n",
    ">**rc37_48 : 1.07**\n",
    "\n",
    ">rc38_184 : 23.62\n",
    "\n",
    ">rc39_183 : 24.83\n",
    "\n",
    ">**rc40_116 : 6.07**\n",
    "\n",
    ">rc41_182 : 23.23\n",
    "\n",
    ">**rc42_153 : 2.98**\n",
    "\n",
    ">**rc43_84 : 3.71**\n",
    "\n",
    ">rc44_179 : 39.84\n",
    "\n",
    ">rc45_346 : 18.20\n",
    "\n",
    ">rc46_181 : 17.78\n",
    "\n",
    ">rc47_342 : 12.00\n",
    "\n",
    ">**rc48_1200 : 9.07**\n",
    "\n",
    ">rc49_180 : 41.71\n",
    "\n",
    ">rc50_748 : 22.10\n",
    "\n",
    ">**rc51_169 : 8.09**\n",
    "\n",
    ">rc52_181 : 15.90\n",
    "\n",
    ">rc53_181 : 29.12\n",
    "\n",
    ">**rc54_105 : 2.51**\n",
    "\n",
    ">**rc55_178 : 7.82**\n",
    "\n",
    ">rc56_182 : 21.25\n",
    "\n",
    ">rc57_183 : 23.33"
   ]
  },
  {
   "cell_type": "code",
   "execution_count": 123,
   "metadata": {
    "collapsed": true
   },
   "outputs": [],
   "source": [
    "# TODO:\n",
    "\n",
    "# Generate the scp files as per the rc which could be used for analysis later by the SLIME !!"
   ]
  },
  {
   "cell_type": "markdown",
   "metadata": {},
   "source": [
    "**SUMMARY OF RESULTS **\n",
    "\n",
    "There are 1298 genuine files added to these spoof files to compute the RC specific EERs\n",
    "\n",
    " 1. RC01 ['E18 P18 R12']: 55 spoof files, EER = 29.8\n",
    " 1. RC02: ['E08 P20 R19']: 67 spoof files, EER = 24.87\n",
    " 1. RC03: ['E08 P21 R25']: 122 spoof files, EER = 40.19\n",
    " 1. RC04: E08 P20 R25, 102 spoof files, EER = 41.86\n",
    " 1. RC05: E08 P20 R14, 114 , EER = 49.53\n",
    " 1. RC06: E08 P21 R14, 108, EER = 42.62\n",
    " 1. RC07: E08 P21 R18, 120, EER = 31.5\n",
    " 1. RC08: E02 P21 R25, 98, EER = 31.7\n",
    " 1. RC09: E07 P20 R25, 244, EER = 49.69\n",
    " 1. RC10: E02 P20 R25, 82, EER = 33.14\n"
   ]
  },
  {
   "cell_type": "code",
   "execution_count": 124,
   "metadata": {},
   "outputs": [
    {
     "name": "stdout",
     "output_type": "stream",
     "text": [
      "RC1: E18 P18 R12\n",
      "RC2: E08 P20 R19\n",
      "RC3: E08 P21 R25\n",
      "RC4: E08 P20 R25\n",
      "RC5: E08 P20 R14\n",
      "RC6: E08 P21 R14\n",
      "RC7: E08 P21 R18\n",
      "RC8: E02 P21 R25\n",
      "RC9: E07 P20 R25\n",
      "RC10: E02 P20 R25\n",
      "RC11: E07 P20 R19\n",
      "RC12: E02 P20 R19\n",
      "RC13: E03 P08 R20\n",
      "RC14: E07 P21 R18\n",
      "RC15: E02 P21 R18\n",
      "RC16: E02 P21 R14\n",
      "RC17: E07 P21 R25\n",
      "RC18: E07 P20 R14\n",
      "RC19: E02 P20 R14\n",
      "RC20: E07 P21 R14\n",
      "RC21: E18 P11 R12\n",
      "RC22: E12 P16 R11\n",
      "RC23: E20 P10 R15\n",
      "RC24: E17 P12 R17\n",
      "RC25: E09 P18 R12\n",
      "RC26: E17 P12 R10\n",
      "RC27: E06 P09 R07\n",
      "RC28: E21 P03 R01\n",
      "RC29: E18 P05 R03\n",
      "RC30: E15 P19 R20\n",
      "RC31: E16 P07 R07\n",
      "RC32: E17 P12 R09\n",
      "RC33: E13 P14 R04\n",
      "RC34: E17 P12 R04\n",
      "RC35: E13 P14 R17\n",
      "RC36: E22 P04 R17\n",
      "RC37: E15 P19 R04\n",
      "RC38: E12 P17 R11\n",
      "RC39: E22 P03 R04\n",
      "RC40: E16 P07 R06\n",
      "RC41: E13 P14 R09\n",
      "RC42: E11 P26 R16\n",
      "RC43: E06 P09 R06\n",
      "RC44: E13 P14 R10\n",
      "RC45: E10 P25 R16\n",
      "RC46: E18 P22 R21\n",
      "RC47: E23 P15 R13\n",
      "RC48: E19 P22 R22\n",
      "RC49: E14 P03 R17\n",
      "RC50: E01 P15 R13\n",
      "RC51: E16 P07 R05\n",
      "RC52: E10 P26 R16\n",
      "RC53: E14 P03 R04\n",
      "RC54: E06 P09 R05\n",
      "RC55: E26 P24 R24\n",
      "RC56: E25 P13 R08\n",
      "RC57: E24 P23 R23\n"
     ]
    }
   ],
   "source": [
    "# PRINT ALL THE RC WITH THEIR IDS\n",
    "for i in range(0, len(allRC)):\n",
    "    print('RC'+str(i+1)+': ' +allRC[i] )"
   ]
  },
  {
   "cell_type": "code",
   "execution_count": null,
   "metadata": {
    "collapsed": true
   },
   "outputs": [],
   "source": []
  },
  {
   "cell_type": "code",
   "execution_count": null,
   "metadata": {
    "collapsed": true
   },
   "outputs": [],
   "source": []
  },
  {
   "cell_type": "code",
   "execution_count": null,
   "metadata": {
    "collapsed": true
   },
   "outputs": [],
   "source": []
  }
 ],
 "metadata": {
  "kernelspec": {
   "display_name": "Python 3",
   "language": "python",
   "name": "python3"
  },
  "language_info": {
   "codemirror_mode": {
    "name": "ipython",
    "version": 3
   },
   "file_extension": ".py",
   "mimetype": "text/x-python",
   "name": "python",
   "nbconvert_exporter": "python",
   "pygments_lexer": "ipython3",
   "version": "3.6.1"
  }
 },
 "nbformat": 4,
 "nbformat_minor": 2
}
